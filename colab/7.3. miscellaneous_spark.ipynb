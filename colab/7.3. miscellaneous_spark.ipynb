{
  "nbformat": 4,
  "nbformat_minor": 0,
  "metadata": {
    "colab": {
      "provenance": [],
      "collapsed_sections": []
    },
    "kernelspec": {
      "name": "python3",
      "display_name": "Python 3"
    },
    "language_info": {
      "name": "python"
    }
  },
  "cells": [
    {
      "cell_type": "markdown",
      "metadata": {
        "id": "G5mV-RU1g08b"
      },
      "source": [
        "# Add python files to Spark cluster\n",
        "\n",
        "The `SparkContext.addPyFiles()` function can be used to add py files. We can define objects and variables in these files and make them available to the Spark cluster."
      ]
    },
    {
      "cell_type": "code",
      "metadata": {
        "id": "HqppemAWgrvZ",
        "colab": {
          "base_uri": "https://localhost:8080/"
        },
        "outputId": "f345f3c1-57b7-4b13-a66f-63ffc81b4908"
      },
      "source": [
        "!apt-get update\n",
        "!apt-get install openjdk-8-jdk-headless -qq > /dev/null\n",
        "!wget -q http://archive.apache.org/dist/spark/spark-3.1.1/spark-3.1.1-bin-hadoop3.2.tgz\n",
        "!tar xf spark-3.1.1-bin-hadoop3.2.tgz\n",
        "!pip install -q findspark\n",
        "import os\n",
        "os.environ[\"JAVA_HOME\"] = \"/usr/lib/jvm/java-8-openjdk-amd64\"\n",
        "os.environ[\"SPARK_HOME\"] = \"/content/spark-3.1.1-bin-hadoop3.2\"\n",
        "import findspark\n",
        "findspark.init()"
      ],
      "execution_count": null,
      "outputs": [
        {
          "output_type": "stream",
          "name": "stdout",
          "text": [
            "\r0% [Working]\r            \rGet:1 http://security.ubuntu.com/ubuntu bionic-security InRelease [88.7 kB]\n",
            "\r0% [Connecting to archive.ubuntu.com (91.189.88.152)] [1 InRelease 11.3 kB/88.7\r                                                                               \rGet:2 https://cloud.r-project.org/bin/linux/ubuntu bionic-cran40/ InRelease [3,626 B]\n",
            "Ign:3 https://developer.download.nvidia.com/compute/cuda/repos/ubuntu1804/x86_64  InRelease\n",
            "Hit:4 http://archive.ubuntu.com/ubuntu bionic InRelease\n",
            "Get:5 http://ppa.launchpad.net/c2d4u.team/c2d4u4.0+/ubuntu bionic InRelease [15.9 kB]\n",
            "Get:6 http://archive.ubuntu.com/ubuntu bionic-updates InRelease [88.7 kB]\n",
            "Get:7 https://cloud.r-project.org/bin/linux/ubuntu bionic-cran40/ Packages [73.9 kB]\n",
            "Ign:8 https://developer.download.nvidia.com/compute/machine-learning/repos/ubuntu1804/x86_64  InRelease\n",
            "Get:9 https://developer.download.nvidia.com/compute/cuda/repos/ubuntu1804/x86_64  Release [696 B]\n",
            "Hit:10 https://developer.download.nvidia.com/compute/machine-learning/repos/ubuntu1804/x86_64  Release\n",
            "Hit:11 http://ppa.launchpad.net/cran/libgit2/ubuntu bionic InRelease\n",
            "Get:12 https://developer.download.nvidia.com/compute/cuda/repos/ubuntu1804/x86_64  Release.gpg [836 B]\n",
            "Get:13 http://archive.ubuntu.com/ubuntu bionic-backports InRelease [74.6 kB]\n",
            "Get:14 http://ppa.launchpad.net/deadsnakes/ppa/ubuntu bionic InRelease [15.9 kB]\n",
            "Get:15 http://security.ubuntu.com/ubuntu bionic-security/restricted amd64 Packages [691 kB]\n",
            "Get:16 http://security.ubuntu.com/ubuntu bionic-security/main amd64 Packages [2,461 kB]\n",
            "Get:17 http://ppa.launchpad.net/graphics-drivers/ppa/ubuntu bionic InRelease [21.3 kB]\n",
            "Get:18 http://security.ubuntu.com/ubuntu bionic-security/universe amd64 Packages [1,452 kB]\n",
            "Get:19 http://ppa.launchpad.net/c2d4u.team/c2d4u4.0+/ubuntu bionic/main Sources [1,822 kB]\n",
            "Get:20 http://archive.ubuntu.com/ubuntu bionic-updates/universe amd64 Packages [2,230 kB]\n",
            "Get:22 http://archive.ubuntu.com/ubuntu bionic-updates/main amd64 Packages [2,898 kB]\n",
            "Get:23 http://ppa.launchpad.net/c2d4u.team/c2d4u4.0+/ubuntu bionic/main amd64 Packages [934 kB]\n",
            "Get:24 https://developer.download.nvidia.com/compute/cuda/repos/ubuntu1804/x86_64  Packages [833 kB]\n",
            "Get:25 http://archive.ubuntu.com/ubuntu bionic-backports/main amd64 Packages [11.6 kB]\n",
            "Get:26 http://archive.ubuntu.com/ubuntu bionic-backports/universe amd64 Packages [12.6 kB]\n",
            "Get:27 http://ppa.launchpad.net/deadsnakes/ppa/ubuntu bionic/main amd64 Packages [45.3 kB]\n",
            "Get:28 http://ppa.launchpad.net/graphics-drivers/ppa/ubuntu bionic/main amd64 Packages [44.7 kB]\n",
            "Fetched 13.8 MB in 4s (3,520 kB/s)\n",
            "Reading package lists... Done\n"
          ]
        }
      ]
    },
    {
      "cell_type": "code",
      "metadata": {
        "id": "GuDQGOOxgtqE"
      },
      "source": [
        "from pyspark import SparkConf, SparkContext, SparkFiles\n",
        "from pyspark.sql import SparkSession\n",
        "\n",
        "sc = SparkContext(conf=SparkConf())"
      ],
      "execution_count": null,
      "outputs": []
    },
    {
      "cell_type": "code",
      "metadata": {
        "colab": {
          "resources": {
            "http://localhost:8080/nbextensions/google.colab/files.js": {
              "data": "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",
              "ok": true,
              "headers": [
                [
                  "content-type",
                  "application/javascript"
                ]
              ],
              "status": 200,
              "status_text": ""
            }
          },
          "base_uri": "https://localhost:8080/",
          "height": 110
        },
        "id": "pTT94dwEguCe",
        "outputId": "be50e29e-f261-481d-e2e8-712c294f099d"
      },
      "source": [
        "from google.colab import files\n",
        "files.upload()"
      ],
      "execution_count": null,
      "outputs": [
        {
          "output_type": "display_data",
          "data": {
            "text/html": [
              "\n",
              "     <input type=\"file\" id=\"files-cd0abbb7-995e-40d8-8319-ffe44b6bf003\" name=\"files[]\" multiple disabled\n",
              "        style=\"border:none\" />\n",
              "     <output id=\"result-cd0abbb7-995e-40d8-8319-ffe44b6bf003\">\n",
              "      Upload widget is only available when the cell has been executed in the\n",
              "      current browser session. Please rerun this cell to enable.\n",
              "      </output>\n",
              "      <script src=\"/nbextensions/google.colab/files.js\"></script> "
            ],
            "text/plain": [
              "<IPython.core.display.HTML object>"
            ]
          },
          "metadata": {}
        },
        {
          "output_type": "stream",
          "name": "stdout",
          "text": [
            "Saving my_module.py to my_module.py\n"
          ]
        },
        {
          "output_type": "execute_result",
          "data": {
            "text/plain": [
              "{'my_module.py': b'def addPyFiles_is_successfull():\\n    return(True)\\n\\ndef sum_two_variables(a, b):\\n    return(sum([a,b]))\\n    '}"
            ]
          },
          "metadata": {},
          "execution_count": 3
        }
      ]
    },
    {
      "cell_type": "code",
      "metadata": {
        "id": "ZJn_0XaiguFI"
      },
      "source": [
        "sc.addPyFile('./my_module.py')"
      ],
      "execution_count": null,
      "outputs": []
    },
    {
      "cell_type": "code",
      "metadata": {
        "colab": {
          "base_uri": "https://localhost:8080/",
          "height": 35
        },
        "id": "BYnsSl9WguHn",
        "outputId": "92d0aeb7-5a75-4ac0-984a-055e66cfe9f4"
      },
      "source": [
        "SparkFiles.get('my_module.py')"
      ],
      "execution_count": null,
      "outputs": [
        {
          "output_type": "execute_result",
          "data": {
            "application/vnd.google.colaboratory.intrinsic+json": {
              "type": "string"
            },
            "text/plain": [
              "'/tmp/spark-0ae9a15b-1423-43b4-9667-be7407cfbd25/userFiles-af314773-4710-4d51-931d-b6207d61e5ee/my_module.py'"
            ]
          },
          "metadata": {},
          "execution_count": 5
        }
      ]
    },
    {
      "cell_type": "markdown",
      "metadata": {
        "id": "h7dQT8EFhq4M"
      },
      "source": [
        "# Use **my_module.py**\n",
        "We can import `my_module` as a python module"
      ]
    },
    {
      "cell_type": "code",
      "metadata": {
        "id": "x1JEJRiEguJm"
      },
      "source": [
        "from my_module import *"
      ],
      "execution_count": null,
      "outputs": []
    },
    {
      "cell_type": "code",
      "metadata": {
        "colab": {
          "base_uri": "https://localhost:8080/"
        },
        "id": "7Z8MKV2NguMq",
        "outputId": "9a101305-7396-4a6c-9f5e-140beed0dfbf"
      },
      "source": [
        "addPyFiles_is_successfull()"
      ],
      "execution_count": null,
      "outputs": [
        {
          "output_type": "execute_result",
          "data": {
            "text/plain": [
              "True"
            ]
          },
          "metadata": {},
          "execution_count": 7
        }
      ]
    },
    {
      "cell_type": "code",
      "metadata": {
        "colab": {
          "base_uri": "https://localhost:8080/"
        },
        "id": "ZxPnBDVJY8qz",
        "outputId": "c5c366f0-a5b7-457d-8380-8f6c989c8bff"
      },
      "source": [
        "!cat ./my_module.py"
      ],
      "execution_count": null,
      "outputs": [
        {
          "output_type": "stream",
          "name": "stdout",
          "text": [
            "def addPyFiles_is_successfull():\n",
            "    return(True)\n",
            "\n",
            "def sum_two_variables(a, b):\n",
            "    return(sum([a,b]))\n",
            "    "
          ]
        }
      ]
    },
    {
      "cell_type": "code",
      "metadata": {
        "colab": {
          "base_uri": "https://localhost:8080/"
        },
        "id": "Kj16wRCrguOW",
        "outputId": "bcc69624-bec4-4a77-8aa1-cdc94d40da29"
      },
      "source": [
        "sum_two_variables(4,5)"
      ],
      "execution_count": null,
      "outputs": [
        {
          "output_type": "execute_result",
          "data": {
            "text/plain": [
              "9"
            ]
          },
          "metadata": {},
          "execution_count": 9
        }
      ]
    },
    {
      "cell_type": "code",
      "metadata": {
        "id": "icgkn4qTguQd"
      },
      "source": [],
      "execution_count": null,
      "outputs": []
    },
    {
      "cell_type": "markdown",
      "metadata": {
        "id": "U1HBZfOIh2QZ"
      },
      "source": [
        "# Dense and sparse vectors"
      ]
    },
    {
      "cell_type": "code",
      "metadata": {
        "id": "STLLe0bAguTM"
      },
      "source": [
        "spark = SparkSession(sparkContext=sc)"
      ],
      "execution_count": null,
      "outputs": []
    },
    {
      "cell_type": "code",
      "metadata": {
        "id": "63tcMUP4guWE"
      },
      "source": [
        "from pyspark.ml.linalg import Vector, DenseVector, SparseVector"
      ],
      "execution_count": null,
      "outputs": []
    },
    {
      "cell_type": "markdown",
      "metadata": {
        "id": "uxMjBrwbiIau"
      },
      "source": [
        "# Dense vector and sparse vector\n",
        "\n",
        "A vector can be represented in dense and sparse formats. A dense vector is a regular vector that has each elements printed. A sparse vector use three components to represent a vector but with less memory."
      ]
    },
    {
      "cell_type": "code",
      "metadata": {
        "colab": {
          "base_uri": "https://localhost:8080/"
        },
        "id": "9Qiavzo-iF7S",
        "outputId": "d0fc5c37-80f5-4576-e7c4-dcca3495f2a2"
      },
      "source": [
        "dv = DenseVector([1.0,0.,0.,0.,4.5,0])\n",
        "dv"
      ],
      "execution_count": null,
      "outputs": [
        {
          "output_type": "execute_result",
          "data": {
            "text/plain": [
              "DenseVector([1.0, 0.0, 0.0, 0.0, 4.5, 0.0])"
            ]
          },
          "metadata": {},
          "execution_count": 12
        }
      ]
    },
    {
      "cell_type": "markdown",
      "metadata": {
        "id": "zTMm93t4iRVu"
      },
      "source": [
        "## Three components of a sparse vector\n",
        "\n",
        "* vector size\n",
        "* indices of active elements\n",
        "* values of active elements\n",
        "\n",
        "In the above dense vector:\n",
        "\n",
        "* vector size = 6\n",
        "* indices of active elements = [0, 4]\n",
        "* values of active elements = [1.0, 4.5]"
      ]
    },
    {
      "cell_type": "markdown",
      "metadata": {
        "id": "FvBS6duOiRZR"
      },
      "source": [
        "We can use the `SparseVector()` function to create a sparse vector. The first argument is the vector size, the second\n",
        "argument is a dictionary. The keys are indices of active elements and the values are values of active elements."
      ]
    },
    {
      "cell_type": "code",
      "metadata": {
        "colab": {
          "base_uri": "https://localhost:8080/"
        },
        "id": "8J6HVi9BiNnR",
        "outputId": "1eba1462-6c68-419f-dd31-778504fa6b95"
      },
      "source": [
        "sv = SparseVector(6, {0:1.0, 4:4.5})\n",
        "sv"
      ],
      "execution_count": null,
      "outputs": [
        {
          "output_type": "execute_result",
          "data": {
            "text/plain": [
              "SparseVector(6, {0: 1.0, 4: 4.5})"
            ]
          },
          "metadata": {},
          "execution_count": 13
        }
      ]
    },
    {
      "cell_type": "markdown",
      "metadata": {
        "id": "8ASur7t8iX4C"
      },
      "source": [
        "## Convert sparse vector to dense vector"
      ]
    },
    {
      "cell_type": "code",
      "metadata": {
        "colab": {
          "base_uri": "https://localhost:8080/"
        },
        "id": "UwbbZ9eliOM3",
        "outputId": "60c266fe-92a9-49c4-d7d2-22983f99ccfd"
      },
      "source": [
        "DenseVector(sv.toArray())"
      ],
      "execution_count": null,
      "outputs": [
        {
          "output_type": "execute_result",
          "data": {
            "text/plain": [
              "DenseVector([1.0, 0.0, 0.0, 0.0, 4.5, 0.0])"
            ]
          },
          "metadata": {},
          "execution_count": 14
        }
      ]
    },
    {
      "cell_type": "markdown",
      "metadata": {
        "id": "gqQ7fSaOieL8"
      },
      "source": [
        "## Convert dense vector to sparse vector"
      ]
    },
    {
      "cell_type": "code",
      "metadata": {
        "colab": {
          "base_uri": "https://localhost:8080/"
        },
        "id": "-677xd_EiOPN",
        "outputId": "248fd9d8-d692-4c45-9b56-8f43deeac8e4"
      },
      "source": [
        "active_elements_dict = {index: value for index, value in enumerate(dv) if value != 0}\n",
        "active_elements_dict"
      ],
      "execution_count": null,
      "outputs": [
        {
          "output_type": "execute_result",
          "data": {
            "text/plain": [
              "{0: 1.0, 4: 4.5}"
            ]
          },
          "metadata": {},
          "execution_count": 15
        }
      ]
    },
    {
      "cell_type": "code",
      "metadata": {
        "colab": {
          "base_uri": "https://localhost:8080/"
        },
        "id": "gEenVpmbiORi",
        "outputId": "d18b9d94-466c-4af0-bdfa-85f580c4b564"
      },
      "source": [
        "SparseVector(len(dv), active_elements_dict)"
      ],
      "execution_count": null,
      "outputs": [
        {
          "output_type": "execute_result",
          "data": {
            "text/plain": [
              "SparseVector(6, {0: 1.0, 4: 4.5})"
            ]
          },
          "metadata": {},
          "execution_count": 16
        }
      ]
    },
    {
      "cell_type": "code",
      "metadata": {
        "id": "Lj0eE5MCiOUK"
      },
      "source": [],
      "execution_count": null,
      "outputs": []
    },
    {
      "cell_type": "markdown",
      "metadata": {
        "id": "gRfq1XOVL0yc"
      },
      "source": [
        "# Pipeline\n",
        "\n",
        "Pipeline is a sequence of stages which consists of **Estimators** and/or **Transformers**. **Estimator** has **`fit`** method and **Transformer** has **`transform`** method. Therefore, we can say, **a pipeline is a sequence of `fit` and `transform` methods**. When it is a **`fit`** method, it applies to the input data and turns into a **`transform`** method. Then the **`transform`** method applies to the **fitted** data and output **transformed** data. **The transformed data output from previous stage has to be an acceptable input to the next stage's fit/transform method**.\n",
        "\n",
        "## Example"
      ]
    },
    {
      "cell_type": "code",
      "metadata": {
        "colab": {
          "base_uri": "https://localhost:8080/"
        },
        "id": "0qR2B169iOV-",
        "outputId": "e07c7059-a7b8-4638-8e0b-cb247a1824e4"
      },
      "source": [
        "import pandas as pd\n",
        "pdf = pd.DataFrame({\n",
        "        'x1': ['a','a','b','b', 'b', 'c'],\n",
        "        'x2': ['apple', 'orange', 'orange','orange', 'peach', 'peach'],\n",
        "        'x3': [1, 1, 2, 2, 2, 4],\n",
        "        'x4': [2.4, 2.5, 3.5, 1.4, 2.1,1.5],\n",
        "        'y1': [1, 0, 1, 0, 0, 1],\n",
        "        'y2': ['yes', 'no', 'no', 'yes', 'yes', 'yes']\n",
        "    })\n",
        "df = spark.createDataFrame(pdf)\n",
        "df.show()"
      ],
      "execution_count": null,
      "outputs": [
        {
          "output_type": "stream",
          "name": "stdout",
          "text": [
            "+---+------+---+---+---+---+\n",
            "| x1|    x2| x3| x4| y1| y2|\n",
            "+---+------+---+---+---+---+\n",
            "|  a| apple|  1|2.4|  1|yes|\n",
            "|  a|orange|  1|2.5|  0| no|\n",
            "|  b|orange|  2|3.5|  1| no|\n",
            "|  b|orange|  2|1.4|  0|yes|\n",
            "|  b| peach|  2|2.1|  0|yes|\n",
            "|  c| peach|  4|1.5|  1|yes|\n",
            "+---+------+---+---+---+---+\n",
            "\n"
          ]
        }
      ]
    },
    {
      "cell_type": "code",
      "metadata": {
        "id": "2gsJEcdGiOYy"
      },
      "source": [
        "from pyspark.ml import Pipeline\n",
        "from pyspark.ml.feature import StringIndexer, OneHotEncoder"
      ],
      "execution_count": null,
      "outputs": []
    },
    {
      "cell_type": "markdown",
      "metadata": {
        "id": "WF_qJcEMMIwo"
      },
      "source": [
        "## Example\n",
        "\n",
        "We are going to use pipeline to `StringIndex` columns x1, x2, y1, and y2. Then we `OneHotEncode` the resulting `StringIdexed` columns."
      ]
    },
    {
      "cell_type": "code",
      "metadata": {
        "colab": {
          "base_uri": "https://localhost:8080/"
        },
        "id": "HC_QocTrMI9T",
        "outputId": "87e3d10a-715b-467d-eafb-a9690670a624"
      },
      "source": [
        "stringindex_stages = [StringIndexer(inputCol=c, outputCol='idx_' + c) for c in ['x1', 'x2', 'y1', 'y2']]\n",
        "stringindex_stages"
      ],
      "execution_count": null,
      "outputs": [
        {
          "output_type": "execute_result",
          "data": {
            "text/plain": [
              "[StringIndexer_9c44e5f7cb6b,\n",
              " StringIndexer_72b2911fab98,\n",
              " StringIndexer_74be61f8084a,\n",
              " StringIndexer_39b8177e660e]"
            ]
          },
          "metadata": {},
          "execution_count": 19
        }
      ]
    },
    {
      "cell_type": "code",
      "metadata": {
        "colab": {
          "base_uri": "https://localhost:8080/"
        },
        "id": "HpX03F3TMJAC",
        "outputId": "97f7f1e6-28d6-4094-a0ba-b7b898a19925"
      },
      "source": [
        "onehotencode_stages = [OneHotEncoder(inputCol='idx_' + c, outputCol='ohe_' + c) for c in ['x1', 'x2', 'y1', 'y2']]\n",
        "onehotencode_stages"
      ],
      "execution_count": null,
      "outputs": [
        {
          "output_type": "execute_result",
          "data": {
            "text/plain": [
              "[OneHotEncoder_c0b8e8e66d5b,\n",
              " OneHotEncoder_23292c32767d,\n",
              " OneHotEncoder_ff80bad8aaf8,\n",
              " OneHotEncoder_ccf0029e637f]"
            ]
          },
          "metadata": {},
          "execution_count": 20
        }
      ]
    },
    {
      "cell_type": "markdown",
      "metadata": {
        "id": "n6_TQztEMSxb"
      },
      "source": [
        "Note that the **outputCol label** in StringIndex stages is the same as the **inputCol label** in the OneHotEncode stages."
      ]
    },
    {
      "cell_type": "markdown",
      "metadata": {
        "id": "YB4pnh95MS1g"
      },
      "source": [
        "## Elements in the stage list"
      ]
    },
    {
      "cell_type": "code",
      "metadata": {
        "colab": {
          "base_uri": "https://localhost:8080/"
        },
        "id": "G0W4tKFUMJC2",
        "outputId": "260b91f4-80a6-4d38-8a1d-818900c43181"
      },
      "source": [
        "all_stages = stringindex_stages + onehotencode_stages\n",
        "[type(x) for x in all_stages]"
      ],
      "execution_count": null,
      "outputs": [
        {
          "output_type": "execute_result",
          "data": {
            "text/plain": [
              "[pyspark.ml.feature.StringIndexer,\n",
              " pyspark.ml.feature.StringIndexer,\n",
              " pyspark.ml.feature.StringIndexer,\n",
              " pyspark.ml.feature.StringIndexer,\n",
              " pyspark.ml.feature.OneHotEncoder,\n",
              " pyspark.ml.feature.OneHotEncoder,\n",
              " pyspark.ml.feature.OneHotEncoder,\n",
              " pyspark.ml.feature.OneHotEncoder]"
            ]
          },
          "metadata": {},
          "execution_count": 21
        }
      ]
    },
    {
      "cell_type": "markdown",
      "metadata": {
        "id": "jpNrOCiJMbOI"
      },
      "source": [
        "In the above list, **`pyspark.ml.feature.StringIndexer`** is an **Estimator**(has a fit method) and **`pyspark.ml.feature.OneHotEncoder`** is a **transformer**(has a transform method)."
      ]
    },
    {
      "cell_type": "markdown",
      "metadata": {
        "id": "ZP7LHVEoMbRV"
      },
      "source": [
        "## Build and run pipeline"
      ]
    },
    {
      "cell_type": "code",
      "metadata": {
        "colab": {
          "base_uri": "https://localhost:8080/"
        },
        "id": "60P5sM6CMJFL",
        "outputId": "9b70703c-0c21-4095-fc9e-eed1b1eda9d5"
      },
      "source": [
        "Pipeline(stages=all_stages).fit(df).transform(df).show()"
      ],
      "execution_count": null,
      "outputs": [
        {
          "output_type": "stream",
          "name": "stdout",
          "text": [
            "+---+------+---+---+---+---+------+------+------+------+-------------+-------------+-------------+-------------+\n",
            "| x1|    x2| x3| x4| y1| y2|idx_x1|idx_x2|idx_y1|idx_y2|       ohe_x1|       ohe_x2|       ohe_y1|       ohe_y2|\n",
            "+---+------+---+---+---+---+------+------+------+------+-------------+-------------+-------------+-------------+\n",
            "|  a| apple|  1|2.4|  1|yes|   1.0|   2.0|   1.0|   0.0|(2,[1],[1.0])|    (2,[],[])|    (1,[],[])|(1,[0],[1.0])|\n",
            "|  a|orange|  1|2.5|  0| no|   1.0|   0.0|   0.0|   1.0|(2,[1],[1.0])|(2,[0],[1.0])|(1,[0],[1.0])|    (1,[],[])|\n",
            "|  b|orange|  2|3.5|  1| no|   0.0|   0.0|   1.0|   1.0|(2,[0],[1.0])|(2,[0],[1.0])|    (1,[],[])|    (1,[],[])|\n",
            "|  b|orange|  2|1.4|  0|yes|   0.0|   0.0|   0.0|   0.0|(2,[0],[1.0])|(2,[0],[1.0])|(1,[0],[1.0])|(1,[0],[1.0])|\n",
            "|  b| peach|  2|2.1|  0|yes|   0.0|   1.0|   0.0|   0.0|(2,[0],[1.0])|(2,[1],[1.0])|(1,[0],[1.0])|(1,[0],[1.0])|\n",
            "|  c| peach|  4|1.5|  1|yes|   2.0|   1.0|   1.0|   0.0|    (2,[],[])|(2,[1],[1.0])|    (1,[],[])|(1,[0],[1.0])|\n",
            "+---+------+---+---+---+---+------+------+------+------+-------------+-------------+-------------+-------------+\n",
            "\n"
          ]
        }
      ]
    },
    {
      "cell_type": "markdown",
      "metadata": {
        "id": "4ED7WXzvMjJ2"
      },
      "source": [
        "## Reorder pipeline stages\n",
        "\n",
        "In the example above, our strategy is to **StringIndex** all four columns and then **OneHotEncode** them. Since each **OneHotEncode** stage only depends on the output of their corresponding **StringIndex** stage, our stages list could be **`[stringindexer on x1, onehotencoder on x1, stringindexer on x2, onehotencoder on x2, stringindexer on y1, onehotencoder on y1, stringindexer on y2, onehotencoder on y2]`**."
      ]
    },
    {
      "cell_type": "markdown",
      "metadata": {
        "id": "MeJf7tOaMnn5"
      },
      "source": [
        "### Old stages"
      ]
    },
    {
      "cell_type": "code",
      "metadata": {
        "colab": {
          "base_uri": "https://localhost:8080/"
        },
        "id": "DFIQfmsqMJHp",
        "outputId": "fa489687-c3f5-48c5-ce7a-a29dd276e27d"
      },
      "source": [
        "all_stages"
      ],
      "execution_count": null,
      "outputs": [
        {
          "output_type": "execute_result",
          "data": {
            "text/plain": [
              "[StringIndexer_9c44e5f7cb6b,\n",
              " StringIndexer_72b2911fab98,\n",
              " StringIndexer_74be61f8084a,\n",
              " StringIndexer_39b8177e660e,\n",
              " OneHotEncoder_c0b8e8e66d5b,\n",
              " OneHotEncoder_23292c32767d,\n",
              " OneHotEncoder_ff80bad8aaf8,\n",
              " OneHotEncoder_ccf0029e637f]"
            ]
          },
          "metadata": {},
          "execution_count": 23
        }
      ]
    },
    {
      "cell_type": "markdown",
      "metadata": {
        "id": "s3iKrFitMyiG"
      },
      "source": [
        "### New stages"
      ]
    },
    {
      "cell_type": "code",
      "metadata": {
        "colab": {
          "base_uri": "https://localhost:8080/"
        },
        "id": "sMc6mOQ_Mysb",
        "outputId": "e3f35b3f-ddb3-4cf3-d822-3096e9302b5c"
      },
      "source": [
        "new_all_stages = [all_stages[x] for x in [0,4,1,5,2,6,3,7]]\n",
        "new_all_stages"
      ],
      "execution_count": null,
      "outputs": [
        {
          "output_type": "execute_result",
          "data": {
            "text/plain": [
              "[StringIndexer_9c44e5f7cb6b,\n",
              " OneHotEncoder_c0b8e8e66d5b,\n",
              " StringIndexer_72b2911fab98,\n",
              " OneHotEncoder_23292c32767d,\n",
              " StringIndexer_74be61f8084a,\n",
              " OneHotEncoder_ff80bad8aaf8,\n",
              " StringIndexer_39b8177e660e,\n",
              " OneHotEncoder_ccf0029e637f]"
            ]
          },
          "metadata": {},
          "execution_count": 24
        }
      ]
    },
    {
      "cell_type": "markdown",
      "metadata": {
        "id": "KM4qmwOBM4dj"
      },
      "source": [
        "## Build and run pipeline"
      ]
    },
    {
      "cell_type": "code",
      "metadata": {
        "colab": {
          "base_uri": "https://localhost:8080/"
        },
        "id": "YNWhUUS0Myv6",
        "outputId": "139f6e47-7940-43d6-a318-96f562cd6275"
      },
      "source": [
        "Pipeline(stages=new_all_stages).fit(df).transform(df).show()"
      ],
      "execution_count": null,
      "outputs": [
        {
          "output_type": "stream",
          "name": "stdout",
          "text": [
            "+---+------+---+---+---+---+------+-------------+------+-------------+------+-------------+------+-------------+\n",
            "| x1|    x2| x3| x4| y1| y2|idx_x1|       ohe_x1|idx_x2|       ohe_x2|idx_y1|       ohe_y1|idx_y2|       ohe_y2|\n",
            "+---+------+---+---+---+---+------+-------------+------+-------------+------+-------------+------+-------------+\n",
            "|  a| apple|  1|2.4|  1|yes|   1.0|(2,[1],[1.0])|   2.0|    (2,[],[])|   1.0|    (1,[],[])|   0.0|(1,[0],[1.0])|\n",
            "|  a|orange|  1|2.5|  0| no|   1.0|(2,[1],[1.0])|   0.0|(2,[0],[1.0])|   0.0|(1,[0],[1.0])|   1.0|    (1,[],[])|\n",
            "|  b|orange|  2|3.5|  1| no|   0.0|(2,[0],[1.0])|   0.0|(2,[0],[1.0])|   1.0|    (1,[],[])|   1.0|    (1,[],[])|\n",
            "|  b|orange|  2|1.4|  0|yes|   0.0|(2,[0],[1.0])|   0.0|(2,[0],[1.0])|   0.0|(1,[0],[1.0])|   0.0|(1,[0],[1.0])|\n",
            "|  b| peach|  2|2.1|  0|yes|   0.0|(2,[0],[1.0])|   1.0|(2,[1],[1.0])|   0.0|(1,[0],[1.0])|   0.0|(1,[0],[1.0])|\n",
            "|  c| peach|  4|1.5|  1|yes|   2.0|    (2,[],[])|   1.0|(2,[1],[1.0])|   1.0|    (1,[],[])|   0.0|(1,[0],[1.0])|\n",
            "+---+------+---+---+---+---+------+-------------+------+-------------+------+-------------+------+-------------+\n",
            "\n"
          ]
        }
      ]
    },
    {
      "cell_type": "code",
      "metadata": {
        "id": "I9XRMI1kMyxv"
      },
      "source": [],
      "execution_count": null,
      "outputs": []
    },
    {
      "cell_type": "markdown",
      "metadata": {
        "id": "w2d7bXxdM8um"
      },
      "source": [
        "# SQL functions"
      ]
    },
    {
      "cell_type": "code",
      "metadata": {
        "colab": {
          "resources": {
            "http://localhost:8080/nbextensions/google.colab/files.js": {
              "data": "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",
              "ok": true,
              "headers": [
                [
                  "content-type",
                  "application/javascript"
                ]
              ],
              "status": 200,
              "status_text": ""
            }
          },
          "base_uri": "https://localhost:8080/",
          "height": 162
        },
        "id": "npazqtHmMy0W",
        "outputId": "ca2243b5-cf29-46dd-8736-833e2a20dde5"
      },
      "source": [
        "from google.colab import files\n",
        "files.upload()"
      ],
      "execution_count": null,
      "outputs": [
        {
          "output_type": "display_data",
          "data": {
            "text/html": [
              "\n",
              "     <input type=\"file\" id=\"files-dae76149-6e4c-48fa-8c6a-aa4f964bd348\" name=\"files[]\" multiple disabled\n",
              "        style=\"border:none\" />\n",
              "     <output id=\"result-dae76149-6e4c-48fa-8c6a-aa4f964bd348\">\n",
              "      Upload widget is only available when the cell has been executed in the\n",
              "      current browser session. Please rerun this cell to enable.\n",
              "      </output>\n",
              "      <script src=\"/nbextensions/google.colab/files.js\"></script> "
            ],
            "text/plain": [
              "<IPython.core.display.HTML object>"
            ]
          },
          "metadata": {}
        },
        {
          "output_type": "stream",
          "name": "stdout",
          "text": [
            "Saving iris.csv to iris.csv\n",
            "Saving prostate.csv to prostate.csv\n"
          ]
        },
        {
          "output_type": "execute_result",
          "data": {
            "text/plain": [
              "{'iris.csv': b'sepal_length,sepal_width,petal_length,petal_width,species\\n5.1,3.5,1.4,0.2,setosa\\n4.9,3,1.4,0.2,setosa\\n4.7,3.2,1.3,0.2,setosa\\n4.6,3.1,1.5,0.2,setosa\\n5,3.6,1.4,0.2,setosa\\n5.4,3.9,1.7,0.4,setosa\\n4.6,3.4,1.4,0.3,setosa\\n5,3.4,1.5,0.2,setosa\\n4.4,2.9,1.4,0.2,setosa\\n4.9,3.1,1.5,0.1,setosa\\n5.4,3.7,1.5,0.2,setosa\\n4.8,3.4,1.6,0.2,setosa\\n4.8,3,1.4,0.1,setosa\\n4.3,3,1.1,0.1,setosa\\n5.8,4,1.2,0.2,setosa\\n5.7,4.4,1.5,0.4,setosa\\n5.4,3.9,1.3,0.4,setosa\\n5.1,3.5,1.4,0.3,setosa\\n5.7,3.8,1.7,0.3,setosa\\n5.1,3.8,1.5,0.3,setosa\\n5.4,3.4,1.7,0.2,setosa\\n5.1,3.7,1.5,0.4,setosa\\n4.6,3.6,1,0.2,setosa\\n5.1,3.3,1.7,0.5,setosa\\n4.8,3.4,1.9,0.2,setosa\\n5,3,1.6,0.2,setosa\\n5,3.4,1.6,0.4,setosa\\n5.2,3.5,1.5,0.2,setosa\\n5.2,3.4,1.4,0.2,setosa\\n4.7,3.2,1.6,0.2,setosa\\n4.8,3.1,1.6,0.2,setosa\\n5.4,3.4,1.5,0.4,setosa\\n5.2,4.1,1.5,0.1,setosa\\n5.5,4.2,1.4,0.2,setosa\\n4.9,3.1,1.5,0.1,setosa\\n5,3.2,1.2,0.2,setosa\\n5.5,3.5,1.3,0.2,setosa\\n4.9,3.1,1.5,0.1,setosa\\n4.4,3,1.3,0.2,setosa\\n5.1,3.4,1.5,0.2,setosa\\n5,3.5,1.3,0.3,setosa\\n4.5,2.3,1.3,0.3,setosa\\n4.4,3.2,1.3,0.2,setosa\\n5,3.5,1.6,0.6,setosa\\n5.1,3.8,1.9,0.4,setosa\\n4.8,3,1.4,0.3,setosa\\n5.1,3.8,1.6,0.2,setosa\\n4.6,3.2,1.4,0.2,setosa\\n5.3,3.7,1.5,0.2,setosa\\n5,3.3,1.4,0.2,setosa\\n7,3.2,4.7,1.4,versicolor\\n6.4,3.2,4.5,1.5,versicolor\\n6.9,3.1,4.9,1.5,versicolor\\n5.5,2.3,4,1.3,versicolor\\n6.5,2.8,4.6,1.5,versicolor\\n5.7,2.8,4.5,1.3,versicolor\\n6.3,3.3,4.7,1.6,versicolor\\n4.9,2.4,3.3,1,versicolor\\n6.6,2.9,4.6,1.3,versicolor\\n5.2,2.7,3.9,1.4,versicolor\\n5,2,3.5,1,versicolor\\n5.9,3,4.2,1.5,versicolor\\n6,2.2,4,1,versicolor\\n6.1,2.9,4.7,1.4,versicolor\\n5.6,2.9,3.6,1.3,versicolor\\n6.7,3.1,4.4,1.4,versicolor\\n5.6,3,4.5,1.5,versicolor\\n5.8,2.7,4.1,1,versicolor\\n6.2,2.2,4.5,1.5,versicolor\\n5.6,2.5,3.9,1.1,versicolor\\n5.9,3.2,4.8,1.8,versicolor\\n6.1,2.8,4,1.3,versicolor\\n6.3,2.5,4.9,1.5,versicolor\\n6.1,2.8,4.7,1.2,versicolor\\n6.4,2.9,4.3,1.3,versicolor\\n6.6,3,4.4,1.4,versicolor\\n6.8,2.8,4.8,1.4,versicolor\\n6.7,3,5,1.7,versicolor\\n6,2.9,4.5,1.5,versicolor\\n5.7,2.6,3.5,1,versicolor\\n5.5,2.4,3.8,1.1,versicolor\\n5.5,2.4,3.7,1,versicolor\\n5.8,2.7,3.9,1.2,versicolor\\n6,2.7,5.1,1.6,versicolor\\n5.4,3,4.5,1.5,versicolor\\n6,3.4,4.5,1.6,versicolor\\n6.7,3.1,4.7,1.5,versicolor\\n6.3,2.3,4.4,1.3,versicolor\\n5.6,3,4.1,1.3,versicolor\\n5.5,2.5,4,1.3,versicolor\\n5.5,2.6,4.4,1.2,versicolor\\n6.1,3,4.6,1.4,versicolor\\n5.8,2.6,4,1.2,versicolor\\n5,2.3,3.3,1,versicolor\\n5.6,2.7,4.2,1.3,versicolor\\n5.7,3,4.2,1.2,versicolor\\n5.7,2.9,4.2,1.3,versicolor\\n6.2,2.9,4.3,1.3,versicolor\\n5.1,2.5,3,1.1,versicolor\\n5.7,2.8,4.1,1.3,versicolor\\n6.3,3.3,6,2.5,virginica\\n5.8,2.7,5.1,1.9,virginica\\n7.1,3,5.9,2.1,virginica\\n6.3,2.9,5.6,1.8,virginica\\n6.5,3,5.8,2.2,virginica\\n7.6,3,6.6,2.1,virginica\\n4.9,2.5,4.5,1.7,virginica\\n7.3,2.9,6.3,1.8,virginica\\n6.7,2.5,5.8,1.8,virginica\\n7.2,3.6,6.1,2.5,virginica\\n6.5,3.2,5.1,2,virginica\\n6.4,2.7,5.3,1.9,virginica\\n6.8,3,5.5,2.1,virginica\\n5.7,2.5,5,2,virginica\\n5.8,2.8,5.1,2.4,virginica\\n6.4,3.2,5.3,2.3,virginica\\n6.5,3,5.5,1.8,virginica\\n7.7,3.8,6.7,2.2,virginica\\n7.7,2.6,6.9,2.3,virginica\\n6,2.2,5,1.5,virginica\\n6.9,3.2,5.7,2.3,virginica\\n5.6,2.8,4.9,2,virginica\\n7.7,2.8,6.7,2,virginica\\n6.3,2.7,4.9,1.8,virginica\\n6.7,3.3,5.7,2.1,virginica\\n7.2,3.2,6,1.8,virginica\\n6.2,2.8,4.8,1.8,virginica\\n6.1,3,4.9,1.8,virginica\\n6.4,2.8,5.6,2.1,virginica\\n7.2,3,5.8,1.6,virginica\\n7.4,2.8,6.1,1.9,virginica\\n7.9,3.8,6.4,2,virginica\\n6.4,2.8,5.6,2.2,virginica\\n6.3,2.8,5.1,1.5,virginica\\n6.1,2.6,5.6,1.4,virginica\\n7.7,3,6.1,2.3,virginica\\n6.3,3.4,5.6,2.4,virginica\\n6.4,3.1,5.5,1.8,virginica\\n6,3,4.8,1.8,virginica\\n6.9,3.1,5.4,2.1,virginica\\n6.7,3.1,5.6,2.4,virginica\\n6.9,3.1,5.1,2.3,virginica\\n5.8,2.7,5.1,1.9,virginica\\n6.8,3.2,5.9,2.3,virginica\\n6.7,3.3,5.7,2.5,virginica\\n6.7,3,5.2,2.3,virginica\\n6.3,2.5,5,1.9,virginica\\n6.5,3,5.2,2,virginica\\n6.2,3.4,5.4,2.3,virginica\\n5.9,3,5.1,1.8,virginica\\n',\n",
              " 'prostate.csv': b'lcavol,lweight,age,lbph,svi,lcp,gleason,pgg45,lpsa\\r-0.579818495,2.769458829,50,-1.386294361,0,-1.386294361,6,0,-0.430782916\\r-0.994252273,3.319625728,58,-1.386294361,0,-1.386294361,6,0,-0.162518929\\r-0.510825624,2.691243083,74,-1.386294361,0,-1.386294361,7,20,-0.162518929\\r-1.203972804,3.282789151,58,-1.386294361,0,-1.386294361,6,0,-0.162518929\\r0.751416089,3.432372999,62,-1.386294361,0,-1.386294361,6,0,0.371563556\\r-1.049822124,3.228826156,50,-1.386294361,0,-1.386294361,6,0,0.765467842\\r0.737164066,3.473518043,64,0.615185639,0,-1.386294361,6,0,0.765467842\\r0.693147181,3.539508997,58,1.53686722,0,-1.386294361,6,0,0.854415328\\r-0.776528789,3.539508997,47,-1.386294361,0,-1.386294361,6,0,1.047318994\\r0.223143551,3.244543572,63,-1.386294361,0,-1.386294361,6,0,1.047318994\\r0.254642218,3.604138226,65,-1.386294361,0,-1.386294361,6,0,1.266947603\\r-1.347073648,3.598681186,63,1.266947603,0,-1.386294361,6,0,1.266947603\\r1.613429934,3.022860941,63,-1.386294361,0,-0.597837001,7,30,1.266947603\\r1.477048724,2.998229154,67,-1.386294361,0,-1.386294361,7,5,1.348073148\\r1.205970807,3.442019376,57,-1.386294361,0,-0.430782916,7,5,1.398716881\\r1.541159072,3.06105174,66,-1.386294361,0,-1.386294361,6,0,1.446918983\\r-0.415515444,3.516013056,70,1.244154594,0,-0.597837001,7,30,1.470175845\\r2.288486169,3.649358696,66,-1.386294361,0,0.371563556,6,0,1.492904096\\r-0.562118918,3.267665989,41,-1.386294361,0,-1.386294361,6,0,1.558144618\\r0.182321557,3.825375199,70,1.658228077,0,-1.386294361,6,0,1.599387577\\r1.147402453,3.419364686,59,-1.386294361,0,-1.386294361,6,0,1.638996715\\r2.059238834,3.501042717,60,1.474763009,0,1.348073148,7,20,1.658228077\\r-0.544727175,3.375879574,59,-0.798507696,0,-1.386294361,6,0,1.695615609\\r1.781709133,3.451573589,63,0.438254931,0,1.178654996,7,60,1.713797928\\r0.385262401,3.667400422,69,1.599387577,0,-1.386294361,6,0,1.731655545\\r1.446918983,3.124565145,68,0.300104592,0,-1.386294361,6,0,1.766441661\\r0.512823626,3.719651113,65,-1.386294361,0,-0.798507696,7,70,1.800058272\\r-0.400477567,3.865979067,67,1.816452082,0,-1.386294361,7,20,1.816452082\\r1.040276712,3.128951117,67,0.223143551,0,0.048790164,7,80,1.848454813\\r2.409644165,3.375879574,65,-1.386294361,0,1.619388243,6,0,1.894616855\\r0.285178942,4.090169191,65,1.962907725,0,-0.798507696,6,0,1.924248652\\r0.182321557,6.107579526,65,1.704748092,0,-1.386294361,6,0,2.008214032\\r1.2753628,3.037353948,71,1.266947603,0,-1.386294361,6,0,2.008214032\\r0.009950331,3.267665989,54,-1.386294361,0,-1.386294361,6,0,2.021547563\\r-0.010050336,3.216873822,63,-1.386294361,0,-0.798507696,6,0,2.047692843\\r1.30833282,4.119849853,64,2.171336806,0,-1.386294361,7,5,2.085672091\\r1.423108334,3.657130756,73,-0.579818495,0,1.658228077,8,15,2.157559321\\r0.457424847,2.374905755,64,-1.386294361,0,-1.386294361,7,15,2.191653532\\r2.660958594,4.085135623,68,1.373715579,1,1.832581464,7,35,2.213753879\\r0.797507196,3.013080912,56,0.936093359,0,-0.162518929,7,5,2.277267285\\r0.620576488,3.141994781,60,-1.386294361,0,-1.386294361,9,80,2.297572551\\r1.442201993,3.682609841,68,-1.386294361,0,-1.386294361,7,10,2.307572635\\r0.58221562,3.865979067,62,1.713797928,0,-0.430782916,6,0,2.327277706\\r1.771556762,3.896909368,61,-1.386294361,0,0.810930216,7,6,2.374905755\\r1.486139696,3.409496184,66,1.749199855,0,-0.430782916,7,20,2.521720623\\r1.663926098,3.392829132,61,0.615185639,0,-1.386294361,7,15,2.553343811\\r2.727852828,3.995444614,79,1.87946505,1,2.656756907,9,100,2.568788134\\r1.16315081,4.035125203,68,1.713797928,0,-0.430782916,7,40,2.568788134\\r1.745715531,3.498021566,43,-1.386294361,0,-1.386294361,6,0,2.591516385\\r1.220829921,3.568123253,70,1.373715579,0,-0.798507696,6,0,2.591516385\\r1.091923301,3.993602992,68,-1.386294361,0,-1.386294361,7,50,2.656756907\\r1.660131027,4.23483088,64,2.073171929,0,-1.386294361,6,0,2.677590994\\r0.512823626,3.63363098,64,1.492904096,0,0.048790164,7,70,2.684440335\\r2.12704052,4.12147323,68,1.766441661,0,1.446918983,7,40,2.691243083\\r3.153590358,3.516013056,59,-1.386294361,0,-1.386294361,7,5,2.7047113\\r1.266947603,4.280132327,66,2.122261539,0,-1.386294361,7,15,2.718000532\\r0.97455964,2.86505395,47,-1.386294361,0,0.500775288,7,4,2.788092909\\r0.463734016,3.764682418,49,1.423108334,0,-1.386294361,6,0,2.794227897\\r0.542324291,4.178226046,70,0.438254931,0,-1.386294361,7,20,2.806386102\\r1.061256502,3.851210866,61,1.294727168,0,-1.386294361,7,40,2.812410216\\r0.457424847,4.524502283,73,2.32630162,0,-1.386294361,6,0,2.841998174\\r1.997417706,3.719651113,63,1.619388243,1,1.909542505,7,40,2.853592506\\r2.77570885,3.524888854,72,-1.386294361,0,1.558144618,9,95,2.853592506\\r2.034705648,3.917010547,66,2.008214032,1,2.1102132,7,60,2.882003508\\r2.073171929,3.62300671,64,-1.386294361,0,-1.386294361,6,0,2.882003508\\r1.458615023,3.836221292,61,1.32175584,0,-0.430782916,7,20,2.887590115\\r2.02287119,3.878466222,68,1.78339122,0,1.32175584,7,70,2.920469789\\r2.198335072,4.050915004,72,2.307572635,0,-0.430782916,7,10,2.962692419\\r-0.446287103,4.408546844,69,-1.386294361,0,-1.386294361,6,0,2.962692419\\r1.193922468,4.780383204,72,2.32630162,0,-0.798507696,7,5,2.972975286\\r1.864080131,3.593194204,60,-1.386294361,1,1.32175584,7,60,3.013080912\\r1.160020917,3.341093458,77,1.749199855,0,-1.386294361,7,25,3.037353948\\r1.214912744,3.825375199,69,-1.386294361,1,0.223143551,7,20,3.056356895\\r1.838961071,3.236715743,60,0.438254931,1,1.178654996,9,90,3.075005454\\r2.999226163,3.849083206,69,-1.386294361,1,1.909542505,7,20,3.275256158\\r3.141130476,3.263849191,68,-0.051293294,1,2.420368129,7,50,3.337547355\\r2.010894999,4.433788569,72,2.122261539,0,0.500775288,7,60,3.392829132\\r2.537657215,4.354783898,78,2.32630162,0,-1.386294361,7,10,3.435598808\\r2.648300197,3.582129084,69,-1.386294361,1,2.583997552,7,70,3.457892725\\r2.779440197,3.823191792,63,-1.386294361,0,0.371563556,7,50,3.513036863\\r1.467874348,3.070375817,66,0.559615788,0,0.223143551,7,40,3.516013056\\r2.513656063,3.473518043,57,0.438254931,0,2.327277706,7,60,3.530762586\\r2.613006652,3.888754378,77,-0.527632742,1,0.559615788,7,30,3.565298392\\r2.677590994,3.838376465,65,1.115141591,0,1.749199855,9,70,3.570940156\\r1.562346305,3.709906821,60,1.695615609,0,0.810930216,7,30,3.587676949\\r3.302849259,3.518980417,64,-1.386294361,1,2.327277706,7,60,3.630985476\\r2.024193067,3.731699451,58,1.638996715,0,-1.386294361,6,0,3.680090948\\r1.731655545,3.369018483,62,-1.386294361,1,0.300104592,7,30,3.71235181\\r2.807593831,4.718052343,65,-1.386294361,1,2.463853241,7,60,3.984343667\\r1.562346305,3.695110004,76,0.936093359,1,0.810930216,7,75,3.993602992\\r3.246490992,4.101816577,68,-1.386294361,0,-1.386294361,6,0,4.029806041\\r2.532902848,3.677565694,61,1.348073148,1,-1.386294361,7,15,4.129550818\\r2.830267834,3.876395828,68,-1.386294361,1,1.32175584,7,60,4.385146762\\r3.821003607,3.896909368,44,-1.386294361,1,2.1690537,7,40,4.684443367\\r2.907447359,3.39618484,52,-1.386294361,1,2.463853241,7,10,5.143124477\\r2.882563575,3.773909703,68,1.558144618,1,1.558144618,7,80,5.47750903\\r3.471966453,3.974997805,68,0.438254931,1,2.90416508,7,20,5.58293224'}"
            ]
          },
          "metadata": {},
          "execution_count": 26
        }
      ]
    },
    {
      "cell_type": "code",
      "metadata": {
        "colab": {
          "base_uri": "https://localhost:8080/"
        },
        "id": "Dh97g-33My22",
        "outputId": "07fc6128-b8b6-4852-b6a3-477b0466f429"
      },
      "source": [
        "iris = spark.read.csv('./iris.csv', header=True, inferSchema=True)\n",
        "iris.show(5)"
      ],
      "execution_count": null,
      "outputs": [
        {
          "output_type": "stream",
          "name": "stdout",
          "text": [
            "+------------+-----------+------------+-----------+-------+\n",
            "|sepal_length|sepal_width|petal_length|petal_width|species|\n",
            "+------------+-----------+------------+-----------+-------+\n",
            "|         5.1|        3.5|         1.4|        0.2| setosa|\n",
            "|         4.9|        3.0|         1.4|        0.2| setosa|\n",
            "|         4.7|        3.2|         1.3|        0.2| setosa|\n",
            "|         4.6|        3.1|         1.5|        0.2| setosa|\n",
            "|         5.0|        3.6|         1.4|        0.2| setosa|\n",
            "+------------+-----------+------------+-----------+-------+\n",
            "only showing top 5 rows\n",
            "\n"
          ]
        }
      ]
    },
    {
      "cell_type": "code",
      "metadata": {
        "colab": {
          "base_uri": "https://localhost:8080/"
        },
        "id": "5-5pwpJoMJKc",
        "outputId": "901f5959-7d65-4d02-8845-b57c9c469a5c"
      },
      "source": [
        "prostate = spark.read.csv('./prostate.csv', header=True, inferSchema=True)\n",
        "prostate.show(5)"
      ],
      "execution_count": null,
      "outputs": [
        {
          "output_type": "stream",
          "name": "stdout",
          "text": [
            "+------------+-----------+---+------------+---+------------+-------+-----+------------+\n",
            "|      lcavol|    lweight|age|        lbph|svi|         lcp|gleason|pgg45|        lpsa|\n",
            "+------------+-----------+---+------------+---+------------+-------+-----+------------+\n",
            "|-0.579818495|2.769458829| 50|-1.386294361|  0|-1.386294361|      6|    0|-0.430782916|\n",
            "|-0.994252273|3.319625728| 58|-1.386294361|  0|-1.386294361|      6|    0|-0.162518929|\n",
            "|-0.510825624|2.691243083| 74|-1.386294361|  0|-1.386294361|      7|   20|-0.162518929|\n",
            "|-1.203972804|3.282789151| 58|-1.386294361|  0|-1.386294361|      6|    0|-0.162518929|\n",
            "| 0.751416089|3.432372999| 62|-1.386294361|  0|-1.386294361|      6|    0| 0.371563556|\n",
            "+------------+-----------+---+------------+---+------------+-------+-----+------------+\n",
            "only showing top 5 rows\n",
            "\n"
          ]
        }
      ]
    },
    {
      "cell_type": "code",
      "metadata": {
        "id": "7OT97szliOkd"
      },
      "source": [
        "from pyspark.sql.functions import *\n",
        "from pyspark.sql.types import *\n",
        "import numpy as np\n",
        "import pandas as pd"
      ],
      "execution_count": null,
      "outputs": []
    },
    {
      "cell_type": "code",
      "metadata": {
        "colab": {
          "base_uri": "https://localhost:8080/"
        },
        "id": "0l04z_YKNpND",
        "outputId": "a5026edb-3231-4796-bfc2-f94b27ef70aa"
      },
      "source": [
        "prostate.select('lpsa', abs(prostate.lpsa).alias('abs(lpsa)')).show(5)"
      ],
      "execution_count": null,
      "outputs": [
        {
          "output_type": "stream",
          "name": "stdout",
          "text": [
            "+------------+-----------+\n",
            "|        lpsa|  abs(lpsa)|\n",
            "+------------+-----------+\n",
            "|-0.430782916|0.430782916|\n",
            "|-0.162518929|0.162518929|\n",
            "|-0.162518929|0.162518929|\n",
            "|-0.162518929|0.162518929|\n",
            "| 0.371563556|0.371563556|\n",
            "+------------+-----------+\n",
            "only showing top 5 rows\n",
            "\n"
          ]
        }
      ]
    },
    {
      "cell_type": "markdown",
      "metadata": {
        "id": "P7Q25zvcNxRO"
      },
      "source": [
        "## `acos`"
      ]
    },
    {
      "cell_type": "code",
      "metadata": {
        "colab": {
          "base_uri": "https://localhost:8080/"
        },
        "id": "vA-SgI51NpXN",
        "outputId": "289a4555-7d7a-4175-fd69-34dcfd8b3f97"
      },
      "source": [
        "pdf = pd.DataFrame({\n",
        "    'x': list(-np.random.rand(5)) + list(np.random.rand(5))\n",
        "})\n",
        "df = spark.createDataFrame(pdf)\n",
        "df.show(5)"
      ],
      "execution_count": null,
      "outputs": [
        {
          "output_type": "stream",
          "name": "stdout",
          "text": [
            "+--------------------+\n",
            "|                   x|\n",
            "+--------------------+\n",
            "| -0.8902346649065996|\n",
            "|  -0.901894806219359|\n",
            "| -0.6215630649157193|\n",
            "|-0.44900596457116937|\n",
            "|-0.33751075800383934|\n",
            "+--------------------+\n",
            "only showing top 5 rows\n",
            "\n"
          ]
        }
      ]
    },
    {
      "cell_type": "code",
      "metadata": {
        "colab": {
          "base_uri": "https://localhost:8080/"
        },
        "id": "Gwgy85FTNpZC",
        "outputId": "5766d7f3-88fd-4d8b-934e-92406ceee5cd"
      },
      "source": [
        "df.select('x', acos(df.x)).show(5)"
      ],
      "execution_count": null,
      "outputs": [
        {
          "output_type": "stream",
          "name": "stdout",
          "text": [
            "+--------------------+------------------+\n",
            "|                   x|           ACOS(x)|\n",
            "+--------------------+------------------+\n",
            "| -0.8902346649065996|2.6686564156856805|\n",
            "|  -0.901894806219359| 2.694932524393765|\n",
            "| -0.6215630649157193| 2.241532777897882|\n",
            "|-0.44900596457116937| 2.036448871622511|\n",
            "|-0.33751075800383934| 1.915067554736117|\n",
            "+--------------------+------------------+\n",
            "only showing top 5 rows\n",
            "\n"
          ]
        }
      ]
    },
    {
      "cell_type": "markdown",
      "metadata": {
        "id": "pZDuoQs4N-gM"
      },
      "source": [
        "## `add_months`"
      ]
    },
    {
      "cell_type": "code",
      "metadata": {
        "id": "RJv9b7GeNpb6"
      },
      "source": [
        "import datetime"
      ],
      "execution_count": null,
      "outputs": []
    },
    {
      "cell_type": "code",
      "metadata": {
        "colab": {
          "base_uri": "https://localhost:8080/"
        },
        "id": "f7UsSZEpN5nw",
        "outputId": "5116e472-42b8-4dc0-fb25-c60c18073eba"
      },
      "source": [
        "base = datetime.date.today()\n",
        "date_list = [base + datetime.timedelta(days=x) for x in list(range(0, 10))*10]\n",
        "pdf = pd.DataFrame({\n",
        "    'dates': date_list\n",
        "})\n",
        "df = spark.createDataFrame(pdf)\n",
        "df.show(5)"
      ],
      "execution_count": null,
      "outputs": [
        {
          "output_type": "stream",
          "name": "stdout",
          "text": [
            "+----------+\n",
            "|     dates|\n",
            "+----------+\n",
            "|2022-01-04|\n",
            "|2022-01-05|\n",
            "|2022-01-06|\n",
            "|2022-01-07|\n",
            "|2022-01-08|\n",
            "+----------+\n",
            "only showing top 5 rows\n",
            "\n"
          ]
        }
      ]
    },
    {
      "cell_type": "code",
      "metadata": {
        "colab": {
          "base_uri": "https://localhost:8080/"
        },
        "id": "-LJ7gnfPN5rB",
        "outputId": "5f3e1ac1-3e4f-49c9-c460-db95a03cbc01"
      },
      "source": [
        "df.select('dates', add_months(df.dates, 2).alias('new_dates')).show(5)"
      ],
      "execution_count": null,
      "outputs": [
        {
          "output_type": "stream",
          "name": "stdout",
          "text": [
            "+----------+----------+\n",
            "|     dates| new_dates|\n",
            "+----------+----------+\n",
            "|2022-01-04|2022-03-04|\n",
            "|2022-01-05|2022-03-05|\n",
            "|2022-01-06|2022-03-06|\n",
            "|2022-01-07|2022-03-07|\n",
            "|2022-01-08|2022-03-08|\n",
            "+----------+----------+\n",
            "only showing top 5 rows\n",
            "\n"
          ]
        }
      ]
    },
    {
      "cell_type": "markdown",
      "metadata": {
        "id": "sXqPhs9aOILj"
      },
      "source": [
        "## `approx_count_distinct`"
      ]
    },
    {
      "cell_type": "code",
      "metadata": {
        "colab": {
          "base_uri": "https://localhost:8080/"
        },
        "id": "x5AmwDjwN5tX",
        "outputId": "e5a66101-264b-4379-fb29-4dba86925d12"
      },
      "source": [
        "prostate.select(approx_count_distinct(prostate.gleason)).show(5)"
      ],
      "execution_count": null,
      "outputs": [
        {
          "output_type": "stream",
          "name": "stdout",
          "text": [
            "+------------------------------+\n",
            "|approx_count_distinct(gleason)|\n",
            "+------------------------------+\n",
            "|                             4|\n",
            "+------------------------------+\n",
            "\n"
          ]
        }
      ]
    },
    {
      "cell_type": "code",
      "metadata": {
        "colab": {
          "base_uri": "https://localhost:8080/"
        },
        "id": "Acz6w9vFN5vf",
        "outputId": "43cd6130-154f-484b-9c26-76688e57ccfa"
      },
      "source": [
        "iris.select(approx_count_distinct(iris.species)).show(5)"
      ],
      "execution_count": null,
      "outputs": [
        {
          "output_type": "stream",
          "name": "stdout",
          "text": [
            "+------------------------------+\n",
            "|approx_count_distinct(species)|\n",
            "+------------------------------+\n",
            "|                             3|\n",
            "+------------------------------+\n",
            "\n"
          ]
        }
      ]
    },
    {
      "cell_type": "markdown",
      "metadata": {
        "id": "ex1L2dCGON1J"
      },
      "source": [
        "## `array`"
      ]
    },
    {
      "cell_type": "code",
      "metadata": {
        "colab": {
          "base_uri": "https://localhost:8080/"
        },
        "id": "pknyxcH1N5x4",
        "outputId": "1849980b-ec6c-4b63-9dd5-5aad006c56cc"
      },
      "source": [
        "iris.show(5)"
      ],
      "execution_count": null,
      "outputs": [
        {
          "output_type": "stream",
          "name": "stdout",
          "text": [
            "+------------+-----------+------------+-----------+-------+\n",
            "|sepal_length|sepal_width|petal_length|petal_width|species|\n",
            "+------------+-----------+------------+-----------+-------+\n",
            "|         5.1|        3.5|         1.4|        0.2| setosa|\n",
            "|         4.9|        3.0|         1.4|        0.2| setosa|\n",
            "|         4.7|        3.2|         1.3|        0.2| setosa|\n",
            "|         4.6|        3.1|         1.5|        0.2| setosa|\n",
            "|         5.0|        3.6|         1.4|        0.2| setosa|\n",
            "+------------+-----------+------------+-----------+-------+\n",
            "only showing top 5 rows\n",
            "\n"
          ]
        }
      ]
    },
    {
      "cell_type": "code",
      "metadata": {
        "colab": {
          "base_uri": "https://localhost:8080/"
        },
        "id": "s0BOxtLpN5zP",
        "outputId": "6aa84560-2e26-42c7-8877-e50d2065af51"
      },
      "source": [
        "df_arr = iris.select('species', array(['sepal_length', 'sepal_width', 'petal_length', 'petal_width']).alias('features'))\n",
        "df_arr.show(5)"
      ],
      "execution_count": null,
      "outputs": [
        {
          "output_type": "stream",
          "name": "stdout",
          "text": [
            "+-------+--------------------+\n",
            "|species|            features|\n",
            "+-------+--------------------+\n",
            "| setosa|[5.1, 3.5, 1.4, 0.2]|\n",
            "| setosa|[4.9, 3.0, 1.4, 0.2]|\n",
            "| setosa|[4.7, 3.2, 1.3, 0.2]|\n",
            "| setosa|[4.6, 3.1, 1.5, 0.2]|\n",
            "| setosa|[5.0, 3.6, 1.4, 0.2]|\n",
            "+-------+--------------------+\n",
            "only showing top 5 rows\n",
            "\n"
          ]
        }
      ]
    },
    {
      "cell_type": "markdown",
      "metadata": {
        "id": "niNPQFS2OYR_"
      },
      "source": [
        "## `array_contains`"
      ]
    },
    {
      "cell_type": "code",
      "metadata": {
        "colab": {
          "base_uri": "https://localhost:8080/"
        },
        "id": "gaOqHASuN51i",
        "outputId": "b024dc61-6492-48df-a224-1cb765214cca"
      },
      "source": [
        "df = df_arr.select('species', 'features', array_contains(df_arr.features, 1.4).alias('new_features'))\n",
        "df.show(5)"
      ],
      "execution_count": null,
      "outputs": [
        {
          "output_type": "stream",
          "name": "stdout",
          "text": [
            "+-------+--------------------+------------+\n",
            "|species|            features|new_features|\n",
            "+-------+--------------------+------------+\n",
            "| setosa|[5.1, 3.5, 1.4, 0.2]|        true|\n",
            "| setosa|[4.9, 3.0, 1.4, 0.2]|        true|\n",
            "| setosa|[4.7, 3.2, 1.3, 0.2]|       false|\n",
            "| setosa|[4.6, 3.1, 1.5, 0.2]|       false|\n",
            "| setosa|[5.0, 3.6, 1.4, 0.2]|        true|\n",
            "+-------+--------------------+------------+\n",
            "only showing top 5 rows\n",
            "\n"
          ]
        }
      ]
    },
    {
      "cell_type": "code",
      "metadata": {
        "colab": {
          "base_uri": "https://localhost:8080/"
        },
        "id": "7S42Ct00OVmV",
        "outputId": "8007e822-13b1-4cc3-a866-ea78cc0f3ca0"
      },
      "source": [
        "df.filter(df.new_features).show(5)"
      ],
      "execution_count": null,
      "outputs": [
        {
          "output_type": "stream",
          "name": "stdout",
          "text": [
            "+-------+--------------------+------------+\n",
            "|species|            features|new_features|\n",
            "+-------+--------------------+------------+\n",
            "| setosa|[5.1, 3.5, 1.4, 0.2]|        true|\n",
            "| setosa|[4.9, 3.0, 1.4, 0.2]|        true|\n",
            "| setosa|[5.0, 3.6, 1.4, 0.2]|        true|\n",
            "| setosa|[4.6, 3.4, 1.4, 0.3]|        true|\n",
            "| setosa|[4.4, 2.9, 1.4, 0.2]|        true|\n",
            "+-------+--------------------+------------+\n",
            "only showing top 5 rows\n",
            "\n"
          ]
        }
      ]
    },
    {
      "cell_type": "markdown",
      "metadata": {
        "id": "56lqfo9QOf9c"
      },
      "source": [
        "## `asc`\n",
        "\n",
        "`asc` returns a **sort expression**, which can be used as argument of sort functions such as `pyspark.sql.DataFrame.sort` and `pyspark.sql.DataFrame.orderBy`"
      ]
    },
    {
      "cell_type": "code",
      "metadata": {
        "colab": {
          "base_uri": "https://localhost:8080/"
        },
        "id": "UZGLIqx8OVpE",
        "outputId": "45831c5f-c0d9-4b9e-9248-f3eae8f9b570"
      },
      "source": [
        "prostate.sort(prostate.lpsa.asc()).show(5)"
      ],
      "execution_count": null,
      "outputs": [
        {
          "output_type": "stream",
          "name": "stdout",
          "text": [
            "+------------+-----------+---+------------+---+------------+-------+-----+------------+\n",
            "|      lcavol|    lweight|age|        lbph|svi|         lcp|gleason|pgg45|        lpsa|\n",
            "+------------+-----------+---+------------+---+------------+-------+-----+------------+\n",
            "|-0.579818495|2.769458829| 50|-1.386294361|  0|-1.386294361|      6|    0|-0.430782916|\n",
            "|-0.994252273|3.319625728| 58|-1.386294361|  0|-1.386294361|      6|    0|-0.162518929|\n",
            "|-1.203972804|3.282789151| 58|-1.386294361|  0|-1.386294361|      6|    0|-0.162518929|\n",
            "|-0.510825624|2.691243083| 74|-1.386294361|  0|-1.386294361|      7|   20|-0.162518929|\n",
            "| 0.751416089|3.432372999| 62|-1.386294361|  0|-1.386294361|      6|    0| 0.371563556|\n",
            "+------------+-----------+---+------------+---+------------+-------+-----+------------+\n",
            "only showing top 5 rows\n",
            "\n"
          ]
        }
      ]
    },
    {
      "cell_type": "code",
      "metadata": {
        "colab": {
          "base_uri": "https://localhost:8080/"
        },
        "id": "UPlZy-ifOVsu",
        "outputId": "de34bf63-bd6a-4a2b-f592-8acdbeeda912"
      },
      "source": [
        "prostate.orderBy(prostate.lpsa.asc()).show(5)"
      ],
      "execution_count": null,
      "outputs": [
        {
          "output_type": "stream",
          "name": "stdout",
          "text": [
            "+------------+-----------+---+------------+---+------------+-------+-----+------------+\n",
            "|      lcavol|    lweight|age|        lbph|svi|         lcp|gleason|pgg45|        lpsa|\n",
            "+------------+-----------+---+------------+---+------------+-------+-----+------------+\n",
            "|-0.579818495|2.769458829| 50|-1.386294361|  0|-1.386294361|      6|    0|-0.430782916|\n",
            "|-0.994252273|3.319625728| 58|-1.386294361|  0|-1.386294361|      6|    0|-0.162518929|\n",
            "|-1.203972804|3.282789151| 58|-1.386294361|  0|-1.386294361|      6|    0|-0.162518929|\n",
            "|-0.510825624|2.691243083| 74|-1.386294361|  0|-1.386294361|      7|   20|-0.162518929|\n",
            "| 0.751416089|3.432372999| 62|-1.386294361|  0|-1.386294361|      6|    0| 0.371563556|\n",
            "+------------+-----------+---+------------+---+------------+-------+-----+------------+\n",
            "only showing top 5 rows\n",
            "\n"
          ]
        }
      ]
    },
    {
      "cell_type": "markdown",
      "metadata": {
        "id": "wXpd0C7iOpYu"
      },
      "source": [
        "Find more:\n",
        "\n",
        "* `ascii`\n",
        "* `asin`\n",
        "* `atan`\n",
        "* `atan2`"
      ]
    },
    {
      "cell_type": "markdown",
      "metadata": {
        "id": "xDDhy_w3OvRg"
      },
      "source": [
        "## `avg`"
      ]
    },
    {
      "cell_type": "code",
      "metadata": {
        "colab": {
          "base_uri": "https://localhost:8080/"
        },
        "id": "-fly9s4vOVvC",
        "outputId": "1f09b056-6af0-468a-9946-b49d446c2d78"
      },
      "source": [
        "prostate.select(avg(prostate.lpsa)).show()"
      ],
      "execution_count": null,
      "outputs": [
        {
          "output_type": "stream",
          "name": "stdout",
          "text": [
            "+------------------+\n",
            "|         avg(lpsa)|\n",
            "+------------------+\n",
            "|2.4783868787422683|\n",
            "+------------------+\n",
            "\n"
          ]
        }
      ]
    },
    {
      "cell_type": "code",
      "metadata": {
        "colab": {
          "base_uri": "https://localhost:8080/"
        },
        "id": "dX8ezoT2N54C",
        "outputId": "562bb77b-e5b6-4bc2-f97e-a1b5ca260560"
      },
      "source": [
        "# `cbrt`\n",
        "\n",
        "prostate.select('lpsa', cbrt(prostate.lpsa)).show(5)"
      ],
      "execution_count": null,
      "outputs": [
        {
          "output_type": "stream",
          "name": "stdout",
          "text": [
            "+------------+-------------------+\n",
            "|        lpsa|         CBRT(lpsa)|\n",
            "+------------+-------------------+\n",
            "|-0.430782916|-0.7552420410177275|\n",
            "|-0.162518929|-0.5457176294010901|\n",
            "|-0.162518929|-0.5457176294010901|\n",
            "|-0.162518929|-0.5457176294010901|\n",
            "| 0.371563556| 0.7189152621521183|\n",
            "+------------+-------------------+\n",
            "only showing top 5 rows\n",
            "\n"
          ]
        }
      ]
    },
    {
      "cell_type": "code",
      "metadata": {
        "colab": {
          "base_uri": "https://localhost:8080/"
        },
        "id": "IqSHTUMdN58E",
        "outputId": "163de025-a8e4-4678-a492-c65a58037135"
      },
      "source": [
        "# `ceil`\n",
        "prostate.select('lpsa', ceil(prostate.lpsa)).show(5)"
      ],
      "execution_count": null,
      "outputs": [
        {
          "output_type": "stream",
          "name": "stdout",
          "text": [
            "+------------+----------+\n",
            "|        lpsa|CEIL(lpsa)|\n",
            "+------------+----------+\n",
            "|-0.430782916|         0|\n",
            "|-0.162518929|         0|\n",
            "|-0.162518929|         0|\n",
            "|-0.162518929|         0|\n",
            "| 0.371563556|         1|\n",
            "+------------+----------+\n",
            "only showing top 5 rows\n",
            "\n"
          ]
        }
      ]
    },
    {
      "cell_type": "markdown",
      "metadata": {
        "id": "JzlU8T_XPImZ"
      },
      "source": [
        "## `coalesce`\n",
        "\n",
        "Return the first column that is not null."
      ]
    },
    {
      "cell_type": "code",
      "metadata": {
        "colab": {
          "base_uri": "https://localhost:8080/"
        },
        "id": "xTdfjyt9PEn5",
        "outputId": "fa82aace-c6b6-40b5-c22c-0ee95c3f3545"
      },
      "source": [
        "df = spark.createDataFrame([(None, None), (1, None), (None, 2)], (\"a\", \"b\"))\n",
        "df.show()"
      ],
      "execution_count": null,
      "outputs": [
        {
          "output_type": "stream",
          "name": "stdout",
          "text": [
            "+----+----+\n",
            "|   a|   b|\n",
            "+----+----+\n",
            "|null|null|\n",
            "|   1|null|\n",
            "|null|   2|\n",
            "+----+----+\n",
            "\n"
          ]
        }
      ]
    },
    {
      "cell_type": "code",
      "metadata": {
        "colab": {
          "base_uri": "https://localhost:8080/"
        },
        "id": "6cCIc3tLPLEI",
        "outputId": "5c722967-796c-48a5-88cf-2744c19018e0"
      },
      "source": [
        "df.select(coalesce(df.a, df.b)).show()"
      ],
      "execution_count": null,
      "outputs": [
        {
          "output_type": "stream",
          "text": [
            "+--------------+\n",
            "|coalesce(a, b)|\n",
            "+--------------+\n",
            "|          null|\n",
            "|             1|\n",
            "|             2|\n",
            "+--------------+\n",
            "\n"
          ],
          "name": "stdout"
        }
      ]
    },
    {
      "cell_type": "markdown",
      "metadata": {
        "id": "KWENJx02PNt4"
      },
      "source": [
        "## `col`\n",
        "\n",
        "Returns a **Column** based on the given column name. It can save your some typing when the dataframe is very long."
      ]
    },
    {
      "cell_type": "code",
      "metadata": {
        "colab": {
          "base_uri": "https://localhost:8080/"
        },
        "id": "iMZUkM7lPNDH",
        "outputId": "b43b1c60-b44f-469d-a60b-d2637db02b38"
      },
      "source": [
        "prostate.show(5)"
      ],
      "execution_count": null,
      "outputs": [
        {
          "output_type": "stream",
          "name": "stdout",
          "text": [
            "+------------+-----------+---+------------+---+------------+-------+-----+------------+\n",
            "|      lcavol|    lweight|age|        lbph|svi|         lcp|gleason|pgg45|        lpsa|\n",
            "+------------+-----------+---+------------+---+------------+-------+-----+------------+\n",
            "|-0.579818495|2.769458829| 50|-1.386294361|  0|-1.386294361|      6|    0|-0.430782916|\n",
            "|-0.994252273|3.319625728| 58|-1.386294361|  0|-1.386294361|      6|    0|-0.162518929|\n",
            "|-0.510825624|2.691243083| 74|-1.386294361|  0|-1.386294361|      7|   20|-0.162518929|\n",
            "|-1.203972804|3.282789151| 58|-1.386294361|  0|-1.386294361|      6|    0|-0.162518929|\n",
            "| 0.751416089|3.432372999| 62|-1.386294361|  0|-1.386294361|      6|    0| 0.371563556|\n",
            "+------------+-----------+---+------------+---+------------+-------+-----+------------+\n",
            "only showing top 5 rows\n",
            "\n"
          ]
        }
      ]
    },
    {
      "cell_type": "code",
      "metadata": {
        "colab": {
          "base_uri": "https://localhost:8080/"
        },
        "id": "2KB317OxPSwX",
        "outputId": "ed8b38f8-f92b-4ae1-b1df-5cb623903673"
      },
      "source": [
        "prostate.select(col('lcavol'), col('age')).show(5)"
      ],
      "execution_count": null,
      "outputs": [
        {
          "output_type": "stream",
          "name": "stdout",
          "text": [
            "+------------+---+\n",
            "|      lcavol|age|\n",
            "+------------+---+\n",
            "|-0.579818495| 50|\n",
            "|-0.994252273| 58|\n",
            "|-0.510825624| 74|\n",
            "|-1.203972804| 58|\n",
            "| 0.751416089| 62|\n",
            "+------------+---+\n",
            "only showing top 5 rows\n",
            "\n"
          ]
        }
      ]
    },
    {
      "cell_type": "markdown",
      "metadata": {
        "id": "MeN6io0WPaOL"
      },
      "source": [
        "## `collect_list`"
      ]
    },
    {
      "cell_type": "code",
      "metadata": {
        "colab": {
          "base_uri": "https://localhost:8080/"
        },
        "id": "DJy3R3yGPVgQ",
        "outputId": "23fc6883-6d32-47fe-b9b1-cdf164154b85"
      },
      "source": [
        "pdf = pd.DataFrame({\n",
        "    'x':[1, 2, 2, 3, 4,4,4,4]\n",
        "})\n",
        "df = spark.createDataFrame(pdf)\n",
        "df.show()"
      ],
      "execution_count": null,
      "outputs": [
        {
          "output_type": "stream",
          "name": "stdout",
          "text": [
            "+---+\n",
            "|  x|\n",
            "+---+\n",
            "|  1|\n",
            "|  2|\n",
            "|  2|\n",
            "|  3|\n",
            "|  4|\n",
            "|  4|\n",
            "|  4|\n",
            "|  4|\n",
            "+---+\n",
            "\n"
          ]
        }
      ]
    },
    {
      "cell_type": "code",
      "metadata": {
        "colab": {
          "base_uri": "https://localhost:8080/"
        },
        "id": "wWl8jqPRPcQQ",
        "outputId": "6749908c-a502-43b0-d4ed-861f602776f8"
      },
      "source": [
        "df.select(collect_list(df.x)).show()"
      ],
      "execution_count": null,
      "outputs": [
        {
          "output_type": "stream",
          "name": "stdout",
          "text": [
            "+--------------------+\n",
            "|     collect_list(x)|\n",
            "+--------------------+\n",
            "|[1, 2, 2, 3, 4, 4...|\n",
            "+--------------------+\n",
            "\n"
          ]
        }
      ]
    },
    {
      "cell_type": "code",
      "metadata": {
        "colab": {
          "base_uri": "https://localhost:8080/"
        },
        "id": "cuGbEUySPecZ",
        "outputId": "51f428f4-40bc-4c9b-d7a6-13dee62c1c5b"
      },
      "source": [
        "# `collect_set`\n",
        "df.select(collect_set(df.x)).show()"
      ],
      "execution_count": null,
      "outputs": [
        {
          "output_type": "stream",
          "name": "stdout",
          "text": [
            "+--------------+\n",
            "|collect_set(x)|\n",
            "+--------------+\n",
            "|  [1, 2, 3, 4]|\n",
            "+--------------+\n",
            "\n"
          ]
        }
      ]
    },
    {
      "cell_type": "markdown",
      "metadata": {
        "id": "zQeKwZRPPmAu"
      },
      "source": [
        "## `concat`"
      ]
    },
    {
      "cell_type": "code",
      "metadata": {
        "colab": {
          "base_uri": "https://localhost:8080/"
        },
        "id": "ckTTClJJPi5i",
        "outputId": "03d822fe-0dc2-46c0-d5cb-a7c14180dffe"
      },
      "source": [
        "df = spark.createDataFrame([['a', '1'], ['b', '2']], ['x', 'v'])\n",
        "df.show()"
      ],
      "execution_count": null,
      "outputs": [
        {
          "output_type": "stream",
          "name": "stdout",
          "text": [
            "+---+---+\n",
            "|  x|  v|\n",
            "+---+---+\n",
            "|  a|  1|\n",
            "|  b|  2|\n",
            "+---+---+\n",
            "\n"
          ]
        }
      ]
    },
    {
      "cell_type": "code",
      "metadata": {
        "colab": {
          "base_uri": "https://localhost:8080/"
        },
        "id": "p5SYPlocPnhq",
        "outputId": "b2d01a61-8f30-4eb0-c8ab-6796c7e0ce4e"
      },
      "source": [
        "df.select('x', 'v', concat(df.x, df.v).alias('concate(x,v)')).show()"
      ],
      "execution_count": null,
      "outputs": [
        {
          "output_type": "stream",
          "name": "stdout",
          "text": [
            "+---+---+------------+\n",
            "|  x|  v|concate(x,v)|\n",
            "+---+---+------------+\n",
            "|  a|  1|          a1|\n",
            "|  b|  2|          b2|\n",
            "+---+---+------------+\n",
            "\n"
          ]
        }
      ]
    },
    {
      "cell_type": "markdown",
      "metadata": {
        "id": "Da2lyFp_PqWG"
      },
      "source": [
        "## `concat_ws`"
      ]
    },
    {
      "cell_type": "code",
      "metadata": {
        "colab": {
          "base_uri": "https://localhost:8080/"
        },
        "id": "saYAbQRCPpq7",
        "outputId": "90d86fcb-0306-43ed-9228-dd54d4989bdf"
      },
      "source": [
        "df.select('x', 'v', concat_ws('_', df.x, df.v).alias('concate(x,v)')).show()"
      ],
      "execution_count": null,
      "outputs": [
        {
          "output_type": "stream",
          "name": "stdout",
          "text": [
            "+---+---+------------+\n",
            "|  x|  v|concate(x,v)|\n",
            "+---+---+------------+\n",
            "|  a|  1|         a_1|\n",
            "|  b|  2|         b_2|\n",
            "+---+---+------------+\n",
            "\n"
          ]
        }
      ]
    },
    {
      "cell_type": "markdown",
      "metadata": {
        "id": "DqWDeUv4P12-"
      },
      "source": [
        "## `corr`"
      ]
    },
    {
      "cell_type": "code",
      "metadata": {
        "colab": {
          "base_uri": "https://localhost:8080/"
        },
        "id": "ERU0h1h9Puxj",
        "outputId": "0536b53e-6ea9-4d07-9430-e8c8ef67612a"
      },
      "source": [
        "prostate.show(5)"
      ],
      "execution_count": null,
      "outputs": [
        {
          "output_type": "stream",
          "name": "stdout",
          "text": [
            "+------------+-----------+---+------------+---+------------+-------+-----+------------+\n",
            "|      lcavol|    lweight|age|        lbph|svi|         lcp|gleason|pgg45|        lpsa|\n",
            "+------------+-----------+---+------------+---+------------+-------+-----+------------+\n",
            "|-0.579818495|2.769458829| 50|-1.386294361|  0|-1.386294361|      6|    0|-0.430782916|\n",
            "|-0.994252273|3.319625728| 58|-1.386294361|  0|-1.386294361|      6|    0|-0.162518929|\n",
            "|-0.510825624|2.691243083| 74|-1.386294361|  0|-1.386294361|      7|   20|-0.162518929|\n",
            "|-1.203972804|3.282789151| 58|-1.386294361|  0|-1.386294361|      6|    0|-0.162518929|\n",
            "| 0.751416089|3.432372999| 62|-1.386294361|  0|-1.386294361|      6|    0| 0.371563556|\n",
            "+------------+-----------+---+------------+---+------------+-------+-----+------------+\n",
            "only showing top 5 rows\n",
            "\n"
          ]
        }
      ]
    },
    {
      "cell_type": "code",
      "metadata": {
        "colab": {
          "base_uri": "https://localhost:8080/"
        },
        "id": "fEt_g5dVPyn0",
        "outputId": "8e2b4dc8-6eba-46b8-9316-30c92980d7ae"
      },
      "source": [
        "prostate.select(corr(prostate.age, prostate.lpsa)).show(5)"
      ],
      "execution_count": null,
      "outputs": [
        {
          "output_type": "stream",
          "name": "stdout",
          "text": [
            "+-------------------+\n",
            "|    corr(age, lpsa)|\n",
            "+-------------------+\n",
            "|0.16959284228582772|\n",
            "+-------------------+\n",
            "\n"
          ]
        }
      ]
    },
    {
      "cell_type": "code",
      "metadata": {
        "id": "RqdJq502P3oc"
      },
      "source": [],
      "execution_count": null,
      "outputs": []
    },
    {
      "cell_type": "code",
      "metadata": {
        "colab": {
          "base_uri": "https://localhost:8080/"
        },
        "id": "ig0tuOadP7ZG",
        "outputId": "ef0c35dc-9e23-4d8e-b071-535558503963"
      },
      "source": [
        "# `count`\n",
        "prostate.select(count(prostate.lpsa)).show()"
      ],
      "execution_count": null,
      "outputs": [
        {
          "output_type": "stream",
          "name": "stdout",
          "text": [
            "+-----------+\n",
            "|count(lpsa)|\n",
            "+-----------+\n",
            "|         97|\n",
            "+-----------+\n",
            "\n"
          ]
        }
      ]
    },
    {
      "cell_type": "markdown",
      "metadata": {
        "id": "020ndR4zQGmy"
      },
      "source": [
        "## `covar_pop`\n",
        "\n",
        "**population covariance**: $\\frac{1}{n}\\sum_{i=1}^n(x_{i} - \\bar{x})(y_{i} - \\bar{y})$"
      ]
    },
    {
      "cell_type": "code",
      "metadata": {
        "colab": {
          "base_uri": "https://localhost:8080/"
        },
        "id": "t_5OvSodP7cn",
        "outputId": "f3552b53-4dc4-4f29-e7a4-4742711b0faf"
      },
      "source": [
        "prostate.select(covar_pop(prostate.age, prostate.lpsa)).show()"
      ],
      "execution_count": null,
      "outputs": [
        {
          "output_type": "stream",
          "name": "stdout",
          "text": [
            "+--------------------+\n",
            "|covar_pop(age, lpsa)|\n",
            "+--------------------+\n",
            "|  1.4424746293984458|\n",
            "+--------------------+\n",
            "\n"
          ]
        }
      ]
    },
    {
      "cell_type": "markdown",
      "metadata": {
        "id": "eq5c8JrzQKB9"
      },
      "source": [
        "## `covar_samp`\n",
        "**sample covariance**: $\\frac{1}{n-1}\\sum_{i=1}^n(x_{i} - \\bar{x})(y_{i} - \\bar{y})$"
      ]
    },
    {
      "cell_type": "code",
      "metadata": {
        "colab": {
          "base_uri": "https://localhost:8080/"
        },
        "id": "T-wD9TaSQKME",
        "outputId": "0cfb2195-572e-4e1c-baf8-d1c3b5214c94"
      },
      "source": [
        "prostate.select(covar_samp(prostate.age, prostate.lpsa)).show()"
      ],
      "execution_count": null,
      "outputs": [
        {
          "output_type": "stream",
          "name": "stdout",
          "text": [
            "+---------------------+\n",
            "|covar_samp(age, lpsa)|\n",
            "+---------------------+\n",
            "|   1.4575004067880128|\n",
            "+---------------------+\n",
            "\n"
          ]
        }
      ]
    },
    {
      "cell_type": "markdown",
      "metadata": {
        "id": "4rlZ9MlpQRF7"
      },
      "source": [
        "## `create_map`"
      ]
    },
    {
      "cell_type": "code",
      "metadata": {
        "colab": {
          "base_uri": "https://localhost:8080/"
        },
        "id": "jFr7cMl4QJYr",
        "outputId": "ac4c5e0a-8861-4e7a-b455-25c1ae6cb0e8"
      },
      "source": [
        "iris.show(5)"
      ],
      "execution_count": null,
      "outputs": [
        {
          "output_type": "stream",
          "name": "stdout",
          "text": [
            "+------------+-----------+------------+-----------+-------+\n",
            "|sepal_length|sepal_width|petal_length|petal_width|species|\n",
            "+------------+-----------+------------+-----------+-------+\n",
            "|         5.1|        3.5|         1.4|        0.2| setosa|\n",
            "|         4.9|        3.0|         1.4|        0.2| setosa|\n",
            "|         4.7|        3.2|         1.3|        0.2| setosa|\n",
            "|         4.6|        3.1|         1.5|        0.2| setosa|\n",
            "|         5.0|        3.6|         1.4|        0.2| setosa|\n",
            "+------------+-----------+------------+-----------+-------+\n",
            "only showing top 5 rows\n",
            "\n"
          ]
        }
      ]
    },
    {
      "cell_type": "code",
      "metadata": {
        "colab": {
          "base_uri": "https://localhost:8080/"
        },
        "id": "eEVK5CHFQVX0",
        "outputId": "22e9ba9f-0807-493e-c50e-41cbc5a87942"
      },
      "source": [
        "df = iris.select(create_map('species', 'sepal_length'))\n",
        "df.show(5)"
      ],
      "execution_count": null,
      "outputs": [
        {
          "output_type": "stream",
          "name": "stdout",
          "text": [
            "+--------------------------+\n",
            "|map(species, sepal_length)|\n",
            "+--------------------------+\n",
            "|           {setosa -> 5.1}|\n",
            "|           {setosa -> 4.9}|\n",
            "|           {setosa -> 4.7}|\n",
            "|           {setosa -> 4.6}|\n",
            "|           {setosa -> 5.0}|\n",
            "+--------------------------+\n",
            "only showing top 5 rows\n",
            "\n"
          ]
        }
      ]
    },
    {
      "cell_type": "code",
      "metadata": {
        "colab": {
          "base_uri": "https://localhost:8080/"
        },
        "id": "PKyRO48IQYU-",
        "outputId": "36a2516c-759b-465e-b211-5d11a84e0fe3"
      },
      "source": [
        "df.dtypes"
      ],
      "execution_count": null,
      "outputs": [
        {
          "output_type": "execute_result",
          "data": {
            "text/plain": [
              "[('map(species, sepal_length)', 'map<string,double>')]"
            ]
          },
          "metadata": {},
          "execution_count": 63
        }
      ]
    },
    {
      "cell_type": "markdown",
      "metadata": {
        "id": "rPoMjLt-Qf-5"
      },
      "source": [
        "## `current_date`"
      ]
    },
    {
      "cell_type": "code",
      "metadata": {
        "colab": {
          "base_uri": "https://localhost:8080/"
        },
        "id": "pcnW6kopQaVl",
        "outputId": "10a3747f-6fac-4493-ab0b-0dfff79cac95"
      },
      "source": [
        "df = spark.createDataFrame([[1],[2],[3],[4]], ['x'])\n",
        "df.show()"
      ],
      "execution_count": null,
      "outputs": [
        {
          "output_type": "stream",
          "name": "stdout",
          "text": [
            "+---+\n",
            "|  x|\n",
            "+---+\n",
            "|  1|\n",
            "|  2|\n",
            "|  3|\n",
            "|  4|\n",
            "+---+\n",
            "\n"
          ]
        }
      ]
    },
    {
      "cell_type": "code",
      "metadata": {
        "colab": {
          "base_uri": "https://localhost:8080/"
        },
        "id": "gOKLM4vOQiWe",
        "outputId": "5a6630f8-4867-4723-f0b3-1ce785cf0571"
      },
      "source": [
        "df.select('x', current_date()).show()"
      ],
      "execution_count": null,
      "outputs": [
        {
          "output_type": "stream",
          "name": "stdout",
          "text": [
            "+---+--------------+\n",
            "|  x|current_date()|\n",
            "+---+--------------+\n",
            "|  1|    2022-01-04|\n",
            "|  2|    2022-01-04|\n",
            "|  3|    2022-01-04|\n",
            "|  4|    2022-01-04|\n",
            "+---+--------------+\n",
            "\n"
          ]
        }
      ]
    },
    {
      "cell_type": "markdown",
      "metadata": {
        "id": "j9tKQJeJQohV"
      },
      "source": [
        "## `current_tmestamp`"
      ]
    },
    {
      "cell_type": "code",
      "metadata": {
        "colab": {
          "base_uri": "https://localhost:8080/"
        },
        "id": "3-juQGeTQkX9",
        "outputId": "11e1764b-28d8-4d1b-aa56-b33a8c1e73ad"
      },
      "source": [
        "df.select('x', current_timestamp()).show(truncate=False)"
      ],
      "execution_count": null,
      "outputs": [
        {
          "output_type": "stream",
          "name": "stdout",
          "text": [
            "+---+-----------------------+\n",
            "|x  |current_timestamp()    |\n",
            "+---+-----------------------+\n",
            "|1  |2022-01-04 04:36:44.396|\n",
            "|2  |2022-01-04 04:36:44.396|\n",
            "|3  |2022-01-04 04:36:44.396|\n",
            "|4  |2022-01-04 04:36:44.396|\n",
            "+---+-----------------------+\n",
            "\n"
          ]
        }
      ]
    },
    {
      "cell_type": "markdown",
      "metadata": {
        "id": "8XpersMsQrYO"
      },
      "source": [
        "## `date_add`"
      ]
    },
    {
      "cell_type": "code",
      "metadata": {
        "colab": {
          "base_uri": "https://localhost:8080/"
        },
        "id": "1_0N5yjPQqje",
        "outputId": "cd1dc546-38f6-488a-84ca-ff8bf4310fcf"
      },
      "source": [
        "df2 = df.select('x', current_date().alias('current_date'))\n",
        "df2.show(5)"
      ],
      "execution_count": null,
      "outputs": [
        {
          "output_type": "stream",
          "name": "stdout",
          "text": [
            "+---+------------+\n",
            "|  x|current_date|\n",
            "+---+------------+\n",
            "|  1|  2022-01-04|\n",
            "|  2|  2022-01-04|\n",
            "|  3|  2022-01-04|\n",
            "|  4|  2022-01-04|\n",
            "+---+------------+\n",
            "\n"
          ]
        }
      ]
    },
    {
      "cell_type": "code",
      "metadata": {
        "colab": {
          "base_uri": "https://localhost:8080/"
        },
        "id": "Z8CEHYMpQwtG",
        "outputId": "173f98be-ff81-4a0e-be64-4202e45408cd"
      },
      "source": [
        "df2.select('x', 'current_date', date_add(df2.current_date, 10)).show()"
      ],
      "execution_count": null,
      "outputs": [
        {
          "output_type": "stream",
          "name": "stdout",
          "text": [
            "+---+------------+--------------------------+\n",
            "|  x|current_date|date_add(current_date, 10)|\n",
            "+---+------------+--------------------------+\n",
            "|  1|  2022-01-04|                2022-01-14|\n",
            "|  2|  2022-01-04|                2022-01-14|\n",
            "|  3|  2022-01-04|                2022-01-14|\n",
            "|  4|  2022-01-04|                2022-01-14|\n",
            "+---+------------+--------------------------+\n",
            "\n"
          ]
        }
      ]
    },
    {
      "cell_type": "markdown",
      "metadata": {
        "id": "4vg8ZVRzQ2Cr"
      },
      "source": [
        "## `date_format`"
      ]
    },
    {
      "cell_type": "code",
      "metadata": {
        "colab": {
          "base_uri": "https://localhost:8080/"
        },
        "id": "RpKVJZgWQy23",
        "outputId": "c7f5eebf-a599-41a0-b50c-0de1f4817923"
      },
      "source": [
        "df2.select('x', 'current_date', date_format('current_date', 'MM/dd/yyyy').alias('new_date')).show()"
      ],
      "execution_count": null,
      "outputs": [
        {
          "output_type": "stream",
          "name": "stdout",
          "text": [
            "+---+------------+----------+\n",
            "|  x|current_date|  new_date|\n",
            "+---+------------+----------+\n",
            "|  1|  2022-01-04|01/04/2022|\n",
            "|  2|  2022-01-04|01/04/2022|\n",
            "|  3|  2022-01-04|01/04/2022|\n",
            "|  4|  2022-01-04|01/04/2022|\n",
            "+---+------------+----------+\n",
            "\n"
          ]
        }
      ]
    },
    {
      "cell_type": "code",
      "metadata": {
        "id": "RT2xAOK0Q4cY"
      },
      "source": [],
      "execution_count": null,
      "outputs": []
    },
    {
      "cell_type": "markdown",
      "metadata": {
        "id": "DQtNTJxdRHHE"
      },
      "source": [
        "# TF, IDF and TF-IDF"
      ]
    },
    {
      "cell_type": "markdown",
      "metadata": {
        "id": "f0w88PjdRI-g"
      },
      "source": [
        "* TF is short for **Term Frequency**. It is simply the frequency of a term in a document. The higher the TF is for a specific term, the more important that term is to that document.\n",
        "\n",
        "* IDF is short for **Inverse Document Frequency**. It is the frequency of documents that contain a specific term. If a term exists in every single document, then the Document Frequency is the largest and is 1. And the Inverse Document Frequency will be the smallest. In the situation, this term is non-informative for classifying the documents.The IDF is a measure of the relevance of a term. The higher the IDF is, the more relavant the term is.\n",
        "\n",
        "* TF-IDF is the product of TF and IDF. A high TF-IDF is obtained when the The Term Frequency is high and the Document Frequency is low (IDF is high).\n"
      ]
    },
    {
      "cell_type": "markdown",
      "metadata": {
        "id": "kda-kgG2RNgV"
      },
      "source": [
        "# Term Frequency, HashingTF and CountVectorizer"
      ]
    },
    {
      "cell_type": "markdown",
      "metadata": {
        "id": "7cGJ2mxORNcm"
      },
      "source": [
        "Pyspark has two functions to calculate term frequencies from documents: the **`HashingTF()`** and the **`CountVectorizer()`**. These two functions do two things:\n",
        "\n",
        "1. Indexing terms: converting words to numbers.\n",
        "2. Calculate term frequencies for each documents.\n",
        "\n",
        "The `HashingTF()` utilizes the Murmurhash 3 function to map a raw feature (a term) into an index (a number). Hashing is the process of transforming data of arbitrary size to size-fixed, usually shorter data. The term frequencies are calculated based on the generated indices. For the  HashingTF() method, the mapping process is very cheap. Because each term-to-index mapping is independent of other term-to-index mapping. The hashing function takes a unique input and gerenate a “unique result”. However, **hashing collision** may occur, which means different features (terms) may be hased to the same index.\n",
        "\n",
        "The **`CountVectorizer()`** indexes terms by descending order of term frequencies in the entire corpus, NOT the term frequencies in the document. After the indexing process, the term frequencies are calculated by documents."
      ]
    },
    {
      "cell_type": "code",
      "metadata": {
        "colab": {
          "base_uri": "https://localhost:8080/"
        },
        "id": "3Yq8EwwJRHS_",
        "outputId": "5fc78a26-6405-4b4d-945c-c87b2015443d"
      },
      "source": [
        "import pandas as pd\n",
        "pdf = pd.DataFrame({\n",
        "        'terms': [\n",
        "            ['spark', 'spark', 'spark', 'is', 'awesome', 'awesome'],\n",
        "            ['I', 'love', 'spark', 'very', 'very', 'much'],\n",
        "            ['everyone', 'should', 'use', 'spark']\n",
        "        ]\n",
        "    })\n",
        "df = spark.createDataFrame(pdf)\n",
        "df.show(truncate=False)"
      ],
      "execution_count": null,
      "outputs": [
        {
          "output_type": "stream",
          "name": "stdout",
          "text": [
            "+-------------------------------------------+\n",
            "|terms                                      |\n",
            "+-------------------------------------------+\n",
            "|[spark, spark, spark, is, awesome, awesome]|\n",
            "|[I, love, spark, very, very, much]         |\n",
            "|[everyone, should, use, spark]             |\n",
            "+-------------------------------------------+\n",
            "\n"
          ]
        }
      ]
    },
    {
      "cell_type": "markdown",
      "metadata": {
        "id": "diYnMiQgRcpJ"
      },
      "source": [
        "## HashingTF\n",
        "\n",
        "The **numFeatures** paramter takes an integer, which should be larger than the total number of terms in the corpus. And it should be a power of two so that features are mapped evenly to columns.\n",
        "\n"
      ]
    },
    {
      "cell_type": "code",
      "metadata": {
        "id": "I4yqZ-HsRHVY"
      },
      "source": [
        "from pyspark.ml.feature import HashingTF\n",
        "from pyspark.ml import Pipeline\n",
        "\n",
        "hashtf = HashingTF(numFeatures=2**4, inputCol='terms', outputCol='features(numFeatures), [index], [term frequency]')\n",
        "stages = [hashtf]\n",
        "pipeline = Pipeline(stages=stages)"
      ],
      "execution_count": null,
      "outputs": []
    },
    {
      "cell_type": "code",
      "metadata": {
        "colab": {
          "base_uri": "https://localhost:8080/"
        },
        "id": "VUEbrkQbRHYS",
        "outputId": "88cf4ba0-7c83-4fce-eeff-a3ec57e712f6"
      },
      "source": [
        "pipeline.fit(df).transform(df).show(truncate=False)"
      ],
      "execution_count": null,
      "outputs": [
        {
          "output_type": "stream",
          "name": "stdout",
          "text": [
            "+-------------------------------------------+------------------------------------------------+\n",
            "|terms                                      |features(numFeatures), [index], [term frequency]|\n",
            "+-------------------------------------------+------------------------------------------------+\n",
            "|[spark, spark, spark, is, awesome, awesome]|(16,[6,9],[3.0,3.0])                            |\n",
            "|[I, love, spark, very, very, much]         |(16,[0,6,8,12],[1.0,1.0,2.0,2.0])               |\n",
            "|[everyone, should, use, spark]             |(16,[5,6,13],[1.0,1.0,2.0])                     |\n",
            "+-------------------------------------------+------------------------------------------------+\n",
            "\n"
          ]
        }
      ]
    },
    {
      "cell_type": "markdown",
      "metadata": {
        "id": "fX-okJBsS8YI"
      },
      "source": [
        "You may note that the first document has three distinct terms, but only two term frequencies are obtained. This apparent discrepancy is due to a **hashing collision**: both `spark` and `is` are getting hashed to `1`. The term frequency for index `1` in the first document is `4.0` corresponding to the three counts of `spark` and the one count of `is`. The likelihood of a hashing collision can be reduced by increasing the `numFeatures` parameter passed to the `HashingTF` function (the default for example is $2^18 = 262,144$)."
      ]
    },
    {
      "cell_type": "markdown",
      "metadata": {
        "id": "74x6_GzOS8cq"
      },
      "source": [
        "## CountVectorizer\n",
        "\n",
        "The **`CountVectorizer()`** function has three parameters to control which terms will be kept as features.\n",
        "\n",
        "* minTF: features that has term frequency less than minTF will be removed. If minTF=1minTF=1, then no features will be removed.\n",
        "* minDF: features that has document frequency less than minDF will be removed. If minDF=1minDF=1, then no features will be removed.\n",
        "* vocabSize: keep terms of the top vocabSize frequencies.\n",
        "\n",
        "In the example below, the `minTF=1.0,minDF=1.0minTF=1.0,minDF=1.0` and `vocabSize=20vocabSize=20`, which is larger than the total number of terms. Therefore, all features (terms) will be kept."
      ]
    },
    {
      "cell_type": "code",
      "metadata": {
        "id": "UIBiOkTqRHau"
      },
      "source": [
        "from pyspark.ml.feature import CountVectorizer\n",
        "from pyspark.ml import Pipeline\n",
        "\n",
        "countvectorizer = CountVectorizer(minTF=1.0, minDF=1.0, vocabSize=20, \n",
        "                                  inputCol='terms', outputCol='features(vocabSize), [index], [term frequency]')\n",
        "stages = [countvectorizer]\n",
        "pipeline = Pipeline(stages=stages)\n"
      ],
      "execution_count": null,
      "outputs": []
    },
    {
      "cell_type": "code",
      "metadata": {
        "colab": {
          "base_uri": "https://localhost:8080/"
        },
        "id": "PHmHHtTBRHeB",
        "outputId": "8fdeadfa-8f99-4220-bb8e-3b55c2d83b8b"
      },
      "source": [
        "pipeline.fit(df).transform(df).show(truncate=False)"
      ],
      "execution_count": null,
      "outputs": [
        {
          "output_type": "stream",
          "name": "stdout",
          "text": [
            "+-------------------------------------------+----------------------------------------------+\n",
            "|terms                                      |features(vocabSize), [index], [term frequency]|\n",
            "+-------------------------------------------+----------------------------------------------+\n",
            "|[spark, spark, spark, is, awesome, awesome]|(10,[0,1,6],[3.0,2.0,1.0])                    |\n",
            "|[I, love, spark, very, very, much]         |(10,[0,2,3,7,9],[1.0,2.0,1.0,1.0,1.0])        |\n",
            "|[everyone, should, use, spark]             |(10,[0,4,5,8],[1.0,1.0,1.0,1.0])              |\n",
            "+-------------------------------------------+----------------------------------------------+\n",
            "\n"
          ]
        }
      ]
    },
    {
      "cell_type": "markdown",
      "metadata": {
        "id": "OlPDGF3eTIaN"
      },
      "source": [
        "Now, lets use the StringIndexer() to index the corpus and see if the results is consistant with the CountVectorizer() method.\n",
        "\n",
        "### `flatMap` documents so that each row has a single term."
      ]
    },
    {
      "cell_type": "code",
      "metadata": {
        "colab": {
          "base_uri": "https://localhost:8080/"
        },
        "id": "LW3AQk8eRHgZ",
        "outputId": "a5ab3ef0-ac7a-4a48-ee26-78da40232c4d"
      },
      "source": [
        "from pyspark.sql.types import StringType\n",
        "df_vocab = df.select('terms').rdd.\\\n",
        "            flatMap(lambda x: x[0]).\\\n",
        "            toDF(schema=StringType()).toDF('terms')\n",
        "df_vocab.show()"
      ],
      "execution_count": null,
      "outputs": [
        {
          "output_type": "stream",
          "name": "stdout",
          "text": [
            "+--------+\n",
            "|   terms|\n",
            "+--------+\n",
            "|   spark|\n",
            "|   spark|\n",
            "|   spark|\n",
            "|      is|\n",
            "| awesome|\n",
            "| awesome|\n",
            "|       I|\n",
            "|    love|\n",
            "|   spark|\n",
            "|    very|\n",
            "|    very|\n",
            "|    much|\n",
            "|everyone|\n",
            "|  should|\n",
            "|     use|\n",
            "|   spark|\n",
            "+--------+\n",
            "\n"
          ]
        }
      ]
    },
    {
      "cell_type": "markdown",
      "metadata": {
        "id": "tm8WmkvmTNQD"
      },
      "source": [
        "### Calculate term frequencies in the corpus"
      ]
    },
    {
      "cell_type": "code",
      "metadata": {
        "colab": {
          "base_uri": "https://localhost:8080/"
        },
        "id": "YmpjMHO8TNeq",
        "outputId": "0a4341e2-6a59-427b-c653-e1f215548671"
      },
      "source": [
        "vocab_freq = df_vocab.rdd.countByValue()\n",
        "pdf = pd.DataFrame({\n",
        "        'term': list(vocab_freq.keys()),\n",
        "        'frequency': list(vocab_freq.values())\n",
        "    })\n",
        "pdf\n",
        "tf = spark.createDataFrame(pdf).orderBy('frequency', ascending=False)\n",
        "tf.show()"
      ],
      "execution_count": null,
      "outputs": [
        {
          "output_type": "stream",
          "name": "stdout",
          "text": [
            "+----------+---------+\n",
            "|      term|frequency|\n",
            "+----------+---------+\n",
            "|   {spark}|        5|\n",
            "|    {very}|        2|\n",
            "| {awesome}|        2|\n",
            "|    {much}|        1|\n",
            "|  {should}|        1|\n",
            "|{everyone}|        1|\n",
            "|     {use}|        1|\n",
            "|      {is}|        1|\n",
            "|       {I}|        1|\n",
            "|    {love}|        1|\n",
            "+----------+---------+\n",
            "\n"
          ]
        }
      ]
    },
    {
      "cell_type": "markdown",
      "metadata": {
        "id": "pQ7ylGb0TTEa"
      },
      "source": [
        "## Apply `StringIndexer()` to df_vocab"
      ]
    },
    {
      "cell_type": "code",
      "metadata": {
        "id": "Z7D4f-22TNhp"
      },
      "source": [
        "from pyspark.ml.feature import StringIndexer\n",
        "stringindexer = StringIndexer(inputCol='terms', outputCol='StringIndexer(index)')"
      ],
      "execution_count": null,
      "outputs": []
    },
    {
      "cell_type": "code",
      "metadata": {
        "colab": {
          "base_uri": "https://localhost:8080/"
        },
        "id": "TOEwmTMLTNmB",
        "outputId": "2f821672-b25f-47a5-f138-5fbf5b5ca472"
      },
      "source": [
        "stringindexer.fit(df_vocab).transform(df_vocab).\\\n",
        "    distinct().\\\n",
        "    orderBy('StringIndexer(index)').show()"
      ],
      "execution_count": null,
      "outputs": [
        {
          "output_type": "stream",
          "name": "stdout",
          "text": [
            "+--------+--------------------+\n",
            "|   terms|StringIndexer(index)|\n",
            "+--------+--------------------+\n",
            "|   spark|                 0.0|\n",
            "| awesome|                 1.0|\n",
            "|    very|                 2.0|\n",
            "|       I|                 3.0|\n",
            "|everyone|                 4.0|\n",
            "|      is|                 5.0|\n",
            "|    love|                 6.0|\n",
            "|    much|                 7.0|\n",
            "|  should|                 8.0|\n",
            "|     use|                 9.0|\n",
            "+--------+--------------------+\n",
            "\n"
          ]
        }
      ]
    },
    {
      "cell_type": "markdown",
      "metadata": {
        "id": "LqED3qvhTbag"
      },
      "source": [
        "The indexing result is consistant for the first three terms. The rest of terms have the same frequency which is 1. These terms can not be sorted by frequency. This might be the reason that their indices don’t match the results from the CountVectorizer() method."
      ]
    },
    {
      "cell_type": "code",
      "metadata": {
        "id": "escWb1yDRHip"
      },
      "source": [],
      "execution_count": null,
      "outputs": []
    },
    {
      "cell_type": "code",
      "metadata": {
        "id": "1aXpCFu5RHk0"
      },
      "source": [],
      "execution_count": null,
      "outputs": []
    }
  ]
}