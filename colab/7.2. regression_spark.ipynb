{
  "nbformat": 4,
  "nbformat_minor": 0,
  "metadata": {
    "colab": {
      "provenance": []
    },
    "kernelspec": {
      "name": "python3",
      "display_name": "Python 3"
    },
    "language_info": {
      "name": "python"
    }
  },
  "cells": [
    {
      "cell_type": "code",
      "metadata": {
        "id": "1f-uo6udeka0"
      },
      "source": [
        "!apt-get install openjdk-8-jdk-headless -qq > /dev/null\n",
        "!wget -q http://archive.apache.org/dist/spark/spark-3.1.1/spark-3.1.1-bin-hadoop3.2.tgz\n",
        "!tar xf spark-3.1.1-bin-hadoop3.2.tgz\n",
        "!pip install -q findspark\n",
        "import os\n",
        "os.environ[\"JAVA_HOME\"] = \"/usr/lib/jvm/java-8-openjdk-amd64\"\n",
        "os.environ[\"SPARK_HOME\"] = \"/content/spark-3.1.1-bin-hadoop3.2\"\n",
        "import findspark\n",
        "findspark.init()"
      ],
      "execution_count": null,
      "outputs": []
    },
    {
      "cell_type": "code",
      "metadata": {
        "id": "32GC-x-Jeohv"
      },
      "source": [
        "from pyspark import SparkContext\n",
        "sc = SparkContext(master = 'local')\n",
        "\n",
        "from pyspark.sql import SparkSession\n",
        "spark = SparkSession.builder \\\n",
        "          .appName(\"Python Spark SQL basic example\") \\\n",
        "          .config(\"spark.some.config.option\", \"some-value\") \\\n",
        "          .getOrCreate()"
      ],
      "execution_count": null,
      "outputs": []
    },
    {
      "cell_type": "markdown",
      "metadata": {
        "id": "SyJ69dq3e05y"
      },
      "source": [
        "# Linear regression without cross-valiation"
      ]
    },
    {
      "cell_type": "code",
      "metadata": {
        "colab": {
          "resources": {
            "http://localhost:8080/nbextensions/google.colab/files.js": {
              "data": "Ly8gQ29weXJpZ2h0IDIwMTcgR29vZ2xlIExMQwovLwovLyBMaWNlbnNlZCB1bmRlciB0aGUgQXBhY2hlIExpY2Vuc2UsIFZlcnNpb24gMi4wICh0aGUgIkxpY2Vuc2UiKTsKLy8geW91IG1heSBub3QgdXNlIHRoaXMgZmlsZSBleGNlcHQgaW4gY29tcGxpYW5jZSB3aXRoIHRoZSBMaWNlbnNlLgovLyBZb3UgbWF5IG9idGFpbiBhIGNvcHkgb2YgdGhlIExpY2Vuc2UgYXQKLy8KLy8gICAgICBodHRwOi8vd3d3LmFwYWNoZS5vcmcvbGljZW5zZXMvTElDRU5TRS0yLjAKLy8KLy8gVW5sZXNzIHJlcXVpcmVkIGJ5IGFwcGxpY2FibGUgbGF3IG9yIGFncmVlZCB0byBpbiB3cml0aW5nLCBzb2Z0d2FyZQovLyBkaXN0cmlidXRlZCB1bmRlciB0aGUgTGljZW5zZSBpcyBkaXN0cmlidXRlZCBvbiBhbiAiQVMgSVMiIEJBU0lTLAovLyBXSVRIT1VUIFdBUlJBTlRJRVMgT1IgQ09ORElUSU9OUyBPRiBBTlkgS0lORCwgZWl0aGVyIGV4cHJlc3Mgb3IgaW1wbGllZC4KLy8gU2VlIHRoZSBMaWNlbnNlIGZvciB0aGUgc3BlY2lmaWMgbGFuZ3VhZ2UgZ292ZXJuaW5nIHBlcm1pc3Npb25zIGFuZAovLyBsaW1pdGF0aW9ucyB1bmRlciB0aGUgTGljZW5zZS4KCi8qKgogKiBAZmlsZW92ZXJ2aWV3IEhlbHBlcnMgZm9yIGdvb2dsZS5jb2xhYiBQeXRob24gbW9kdWxlLgogKi8KKGZ1bmN0aW9uKHNjb3BlKSB7CmZ1bmN0aW9uIHNwYW4odGV4dCwgc3R5bGVBdHRyaWJ1dGVzID0ge30pIHsKICBjb25zdCBlbGVtZW50ID0gZG9jdW1lbnQuY3JlYXRlRWxlbWVudCgnc3BhbicpOwogIGVsZW1lbnQudGV4dENvbnRlbnQgPSB0ZXh0OwogIGZvciAoY29uc3Qga2V5IG9mIE9iamVjdC5rZXlzKHN0eWxlQXR0cmlidXRlcykpIHsKICAgIGVsZW1lbnQuc3R5bGVba2V5XSA9IHN0eWxlQXR0cmlidXRlc1trZXldOwogIH0KICByZXR1cm4gZWxlbWVudDsKfQoKLy8gTWF4IG51bWJlciBvZiBieXRlcyB3aGljaCB3aWxsIGJlIHVwbG9hZGVkIGF0IGEgdGltZS4KY29uc3QgTUFYX1BBWUxPQURfU0laRSA9IDEwMCAqIDEwMjQ7CgpmdW5jdGlvbiBfdXBsb2FkRmlsZXMoaW5wdXRJZCwgb3V0cHV0SWQpIHsKICBjb25zdCBzdGVwcyA9IHVwbG9hZEZpbGVzU3RlcChpbnB1dElkLCBvdXRwdXRJZCk7CiAgY29uc3Qgb3V0cHV0RWxlbWVudCA9IGRvY3VtZW50LmdldEVsZW1lbnRCeUlkKG91dHB1dElkKTsKICAvLyBDYWNoZSBzdGVwcyBvbiB0aGUgb3V0cHV0RWxlbWVudCB0byBtYWtlIGl0IGF2YWlsYWJsZSBmb3IgdGhlIG5leHQgY2FsbAogIC8vIHRvIHVwbG9hZEZpbGVzQ29udGludWUgZnJvbSBQeXRob24uCiAgb3V0cHV0RWxlbWVudC5zdGVwcyA9IHN0ZXBzOwoKICByZXR1cm4gX3VwbG9hZEZpbGVzQ29udGludWUob3V0cHV0SWQpOwp9CgovLyBUaGlzIGlzIHJvdWdobHkgYW4gYXN5bmMgZ2VuZXJhdG9yIChub3Qgc3VwcG9ydGVkIGluIHRoZSBicm93c2VyIHlldCksCi8vIHdoZXJlIHRoZXJlIGFyZSBtdWx0aXBsZSBhc3luY2hyb25vdXMgc3RlcHMgYW5kIHRoZSBQeXRob24gc2lkZSBpcyBnb2luZwovLyB0byBwb2xsIGZvciBjb21wbGV0aW9uIG9mIGVhY2ggc3RlcC4KLy8gVGhpcyB1c2VzIGEgUHJvbWlzZSB0byBibG9jayB0aGUgcHl0aG9uIHNpZGUgb24gY29tcGxldGlvbiBvZiBlYWNoIHN0ZXAsCi8vIHRoZW4gcGFzc2VzIHRoZSByZXN1bHQgb2YgdGhlIHByZXZpb3VzIHN0ZXAgYXMgdGhlIGlucHV0IHRvIHRoZSBuZXh0IHN0ZXAuCmZ1bmN0aW9uIF91cGxvYWRGaWxlc0NvbnRpbnVlKG91dHB1dElkKSB7CiAgY29uc3Qgb3V0cHV0RWxlbWVudCA9IGRvY3VtZW50LmdldEVsZW1lbnRCeUlkKG91dHB1dElkKTsKICBjb25zdCBzdGVwcyA9IG91dHB1dEVsZW1lbnQuc3RlcHM7CgogIGNvbnN0IG5leHQgPSBzdGVwcy5uZXh0KG91dHB1dEVsZW1lbnQubGFzdFByb21pc2VWYWx1ZSk7CiAgcmV0dXJuIFByb21pc2UucmVzb2x2ZShuZXh0LnZhbHVlLnByb21pc2UpLnRoZW4oKHZhbHVlKSA9PiB7CiAgICAvLyBDYWNoZSB0aGUgbGFzdCBwcm9taXNlIHZhbHVlIHRvIG1ha2UgaXQgYXZhaWxhYmxlIHRvIHRoZSBuZXh0CiAgICAvLyBzdGVwIG9mIHRoZSBnZW5lcmF0b3IuCiAgICBvdXRwdXRFbGVtZW50Lmxhc3RQcm9taXNlVmFsdWUgPSB2YWx1ZTsKICAgIHJldHVybiBuZXh0LnZhbHVlLnJlc3BvbnNlOwogIH0pOwp9CgovKioKICogR2VuZXJhdG9yIGZ1bmN0aW9uIHdoaWNoIGlzIGNhbGxlZCBiZXR3ZWVuIGVhY2ggYXN5bmMgc3RlcCBvZiB0aGUgdXBsb2FkCiAqIHByb2Nlc3MuCiAqIEBwYXJhbSB7c3RyaW5nfSBpbnB1dElkIEVsZW1lbnQgSUQgb2YgdGhlIGlucHV0IGZpbGUgcGlja2VyIGVsZW1lbnQuCiAqIEBwYXJhbSB7c3RyaW5nfSBvdXRwdXRJZCBFbGVtZW50IElEIG9mIHRoZSBvdXRwdXQgZGlzcGxheS4KICogQHJldHVybiB7IUl0ZXJhYmxlPCFPYmplY3Q+fSBJdGVyYWJsZSBvZiBuZXh0IHN0ZXBzLgogKi8KZnVuY3Rpb24qIHVwbG9hZEZpbGVzU3RlcChpbnB1dElkLCBvdXRwdXRJZCkgewogIGNvbnN0IGlucHV0RWxlbWVudCA9IGRvY3VtZW50LmdldEVsZW1lbnRCeUlkKGlucHV0SWQpOwogIGlucHV0RWxlbWVudC5kaXNhYmxlZCA9IGZhbHNlOwoKICBjb25zdCBvdXRwdXRFbGVtZW50ID0gZG9jdW1lbnQuZ2V0RWxlbWVudEJ5SWQob3V0cHV0SWQpOwogIG91dHB1dEVsZW1lbnQuaW5uZXJIVE1MID0gJyc7CgogIGNvbnN0IHBpY2tlZFByb21pc2UgPSBuZXcgUHJvbWlzZSgocmVzb2x2ZSkgPT4gewogICAgaW5wdXRFbGVtZW50LmFkZEV2ZW50TGlzdGVuZXIoJ2NoYW5nZScsIChlKSA9PiB7CiAgICAgIHJlc29sdmUoZS50YXJnZXQuZmlsZXMpOwogICAgfSk7CiAgfSk7CgogIGNvbnN0IGNhbmNlbCA9IGRvY3VtZW50LmNyZWF0ZUVsZW1lbnQoJ2J1dHRvbicpOwogIGlucHV0RWxlbWVudC5wYXJlbnRFbGVtZW50LmFwcGVuZENoaWxkKGNhbmNlbCk7CiAgY2FuY2VsLnRleHRDb250ZW50ID0gJ0NhbmNlbCB1cGxvYWQnOwogIGNvbnN0IGNhbmNlbFByb21pc2UgPSBuZXcgUHJvbWlzZSgocmVzb2x2ZSkgPT4gewogICAgY2FuY2VsLm9uY2xpY2sgPSAoKSA9PiB7CiAgICAgIHJlc29sdmUobnVsbCk7CiAgICB9OwogIH0pOwoKICAvLyBXYWl0IGZvciB0aGUgdXNlciB0byBwaWNrIHRoZSBmaWxlcy4KICBjb25zdCBmaWxlcyA9IHlpZWxkIHsKICAgIHByb21pc2U6IFByb21pc2UucmFjZShbcGlja2VkUHJvbWlzZSwgY2FuY2VsUHJvbWlzZV0pLAogICAgcmVzcG9uc2U6IHsKICAgICAgYWN0aW9uOiAnc3RhcnRpbmcnLAogICAgfQogIH07CgogIGNhbmNlbC5yZW1vdmUoKTsKCiAgLy8gRGlzYWJsZSB0aGUgaW5wdXQgZWxlbWVudCBzaW5jZSBmdXJ0aGVyIHBpY2tzIGFyZSBub3QgYWxsb3dlZC4KICBpbnB1dEVsZW1lbnQuZGlzYWJsZWQgPSB0cnVlOwoKICBpZiAoIWZpbGVzKSB7CiAgICByZXR1cm4gewogICAgICByZXNwb25zZTogewogICAgICAgIGFjdGlvbjogJ2NvbXBsZXRlJywKICAgICAgfQogICAgfTsKICB9CgogIGZvciAoY29uc3QgZmlsZSBvZiBmaWxlcykgewogICAgY29uc3QgbGkgPSBkb2N1bWVudC5jcmVhdGVFbGVtZW50KCdsaScpOwogICAgbGkuYXBwZW5kKHNwYW4oZmlsZS5uYW1lLCB7Zm9udFdlaWdodDogJ2JvbGQnfSkpOwogICAgbGkuYXBwZW5kKHNwYW4oCiAgICAgICAgYCgke2ZpbGUudHlwZSB8fCAnbi9hJ30pIC0gJHtmaWxlLnNpemV9IGJ5dGVzLCBgICsKICAgICAgICBgbGFzdCBtb2RpZmllZDogJHsKICAgICAgICAgICAgZmlsZS5sYXN0TW9kaWZpZWREYXRlID8gZmlsZS5sYXN0TW9kaWZpZWREYXRlLnRvTG9jYWxlRGF0ZVN0cmluZygpIDoKICAgICAgICAgICAgICAgICAgICAgICAgICAgICAgICAgICAgJ24vYSd9IC0gYCkpOwogICAgY29uc3QgcGVyY2VudCA9IHNwYW4oJzAlIGRvbmUnKTsKICAgIGxpLmFwcGVuZENoaWxkKHBlcmNlbnQpOwoKICAgIG91dHB1dEVsZW1lbnQuYXBwZW5kQ2hpbGQobGkpOwoKICAgIGNvbnN0IGZpbGVEYXRhUHJvbWlzZSA9IG5ldyBQcm9taXNlKChyZXNvbHZlKSA9PiB7CiAgICAgIGNvbnN0IHJlYWRlciA9IG5ldyBGaWxlUmVhZGVyKCk7CiAgICAgIHJlYWRlci5vbmxvYWQgPSAoZSkgPT4gewogICAgICAgIHJlc29sdmUoZS50YXJnZXQucmVzdWx0KTsKICAgICAgfTsKICAgICAgcmVhZGVyLnJlYWRBc0FycmF5QnVmZmVyKGZpbGUpOwogICAgfSk7CiAgICAvLyBXYWl0IGZvciB0aGUgZGF0YSB0byBiZSByZWFkeS4KICAgIGxldCBmaWxlRGF0YSA9IHlpZWxkIHsKICAgICAgcHJvbWlzZTogZmlsZURhdGFQcm9taXNlLAogICAgICByZXNwb25zZTogewogICAgICAgIGFjdGlvbjogJ2NvbnRpbnVlJywKICAgICAgfQogICAgfTsKCiAgICAvLyBVc2UgYSBjaHVua2VkIHNlbmRpbmcgdG8gYXZvaWQgbWVzc2FnZSBzaXplIGxpbWl0cy4gU2VlIGIvNjIxMTU2NjAuCiAgICBsZXQgcG9zaXRpb24gPSAwOwogICAgZG8gewogICAgICBjb25zdCBsZW5ndGggPSBNYXRoLm1pbihmaWxlRGF0YS5ieXRlTGVuZ3RoIC0gcG9zaXRpb24sIE1BWF9QQVlMT0FEX1NJWkUpOwogICAgICBjb25zdCBjaHVuayA9IG5ldyBVaW50OEFycmF5KGZpbGVEYXRhLCBwb3NpdGlvbiwgbGVuZ3RoKTsKICAgICAgcG9zaXRpb24gKz0gbGVuZ3RoOwoKICAgICAgY29uc3QgYmFzZTY0ID0gYnRvYShTdHJpbmcuZnJvbUNoYXJDb2RlLmFwcGx5KG51bGwsIGNodW5rKSk7CiAgICAgIHlpZWxkIHsKICAgICAgICByZXNwb25zZTogewogICAgICAgICAgYWN0aW9uOiAnYXBwZW5kJywKICAgICAgICAgIGZpbGU6IGZpbGUubmFtZSwKICAgICAgICAgIGRhdGE6IGJhc2U2NCwKICAgICAgICB9LAogICAgICB9OwoKICAgICAgbGV0IHBlcmNlbnREb25lID0gZmlsZURhdGEuYnl0ZUxlbmd0aCA9PT0gMCA/CiAgICAgICAgICAxMDAgOgogICAgICAgICAgTWF0aC5yb3VuZCgocG9zaXRpb24gLyBmaWxlRGF0YS5ieXRlTGVuZ3RoKSAqIDEwMCk7CiAgICAgIHBlcmNlbnQudGV4dENvbnRlbnQgPSBgJHtwZXJjZW50RG9uZX0lIGRvbmVgOwoKICAgIH0gd2hpbGUgKHBvc2l0aW9uIDwgZmlsZURhdGEuYnl0ZUxlbmd0aCk7CiAgfQoKICAvLyBBbGwgZG9uZS4KICB5aWVsZCB7CiAgICByZXNwb25zZTogewogICAgICBhY3Rpb246ICdjb21wbGV0ZScsCiAgICB9CiAgfTsKfQoKc2NvcGUuZ29vZ2xlID0gc2NvcGUuZ29vZ2xlIHx8IHt9OwpzY29wZS5nb29nbGUuY29sYWIgPSBzY29wZS5nb29nbGUuY29sYWIgfHwge307CnNjb3BlLmdvb2dsZS5jb2xhYi5fZmlsZXMgPSB7CiAgX3VwbG9hZEZpbGVzLAogIF91cGxvYWRGaWxlc0NvbnRpbnVlLAp9Owp9KShzZWxmKTsK",
              "ok": true,
              "headers": [
                [
                  "content-type",
                  "application/javascript"
                ]
              ],
              "status": 200,
              "status_text": ""
            }
          },
          "base_uri": "https://localhost:8080/",
          "height": 109
        },
        "id": "hbaUAMX2e0Ol",
        "outputId": "14569116-c8e4-4426-a1f4-d008a34d7281"
      },
      "source": [
        "from google.colab import files\n",
        "files.upload()"
      ],
      "execution_count": null,
      "outputs": [
        {
          "output_type": "display_data",
          "data": {
            "text/html": [
              "\n",
              "     <input type=\"file\" id=\"files-c1e37e20-fcdc-4a19-b682-b926fca33a69\" name=\"files[]\" multiple disabled\n",
              "        style=\"border:none\" />\n",
              "     <output id=\"result-c1e37e20-fcdc-4a19-b682-b926fca33a69\">\n",
              "      Upload widget is only available when the cell has been executed in the\n",
              "      current browser session. Please rerun this cell to enable.\n",
              "      </output>\n",
              "      <script src=\"/nbextensions/google.colab/files.js\"></script> "
            ],
            "text/plain": [
              "<IPython.core.display.HTML object>"
            ]
          },
          "metadata": {
            "tags": []
          }
        },
        {
          "output_type": "stream",
          "text": [
            "Saving Advertising.csv to Advertising.csv\n"
          ],
          "name": "stdout"
        },
        {
          "output_type": "execute_result",
          "data": {
            "text/plain": [
              "{'Advertising.csv': b'TV,Radio,Newspaper,Sales\\r230.1,37.8,69.2,22.1\\r44.5,39.3,45.1,10.4\\r17.2,45.9,69.3,9.3\\r151.5,41.3,58.5,18.5\\r180.8,10.8,58.4,12.9\\r8.7,48.9,75,7.2\\r57.5,32.8,23.5,11.8\\r120.2,19.6,11.6,13.2\\r8.6,2.1,1,4.8\\r199.8,2.6,21.2,10.6\\r66.1,5.8,24.2,8.6\\r214.7,24,4,17.4\\r23.8,35.1,65.9,9.2\\r97.5,7.6,7.2,9.7\\r204.1,32.9,46,19\\r195.4,47.7,52.9,22.4\\r67.8,36.6,114,12.5\\r281.4,39.6,55.8,24.4\\r69.2,20.5,18.3,11.3\\r147.3,23.9,19.1,14.6\\r218.4,27.7,53.4,18\\r237.4,5.1,23.5,12.5\\r13.2,15.9,49.6,5.6\\r228.3,16.9,26.2,15.5\\r62.3,12.6,18.3,9.7\\r262.9,3.5,19.5,12\\r142.9,29.3,12.6,15\\r240.1,16.7,22.9,15.9\\r248.8,27.1,22.9,18.9\\r70.6,16,40.8,10.5\\r292.9,28.3,43.2,21.4\\r112.9,17.4,38.6,11.9\\r97.2,1.5,30,9.6\\r265.6,20,0.3,17.4\\r95.7,1.4,7.4,9.5\\r290.7,4.1,8.5,12.8\\r266.9,43.8,5,25.4\\r74.7,49.4,45.7,14.7\\r43.1,26.7,35.1,10.1\\r228,37.7,32,21.5\\r202.5,22.3,31.6,16.6\\r177,33.4,38.7,17.1\\r293.6,27.7,1.8,20.7\\r206.9,8.4,26.4,12.9\\r25.1,25.7,43.3,8.5\\r175.1,22.5,31.5,14.9\\r89.7,9.9,35.7,10.6\\r239.9,41.5,18.5,23.2\\r227.2,15.8,49.9,14.8\\r66.9,11.7,36.8,9.7\\r199.8,3.1,34.6,11.4\\r100.4,9.6,3.6,10.7\\r216.4,41.7,39.6,22.6\\r182.6,46.2,58.7,21.2\\r262.7,28.8,15.9,20.2\\r198.9,49.4,60,23.7\\r7.3,28.1,41.4,5.5\\r136.2,19.2,16.6,13.2\\r210.8,49.6,37.7,23.8\\r210.7,29.5,9.3,18.4\\r53.5,2,21.4,8.1\\r261.3,42.7,54.7,24.2\\r239.3,15.5,27.3,15.7\\r102.7,29.6,8.4,14\\r131.1,42.8,28.9,18\\r69,9.3,0.9,9.3\\r31.5,24.6,2.2,9.5\\r139.3,14.5,10.2,13.4\\r237.4,27.5,11,18.9\\r216.8,43.9,27.2,22.3\\r199.1,30.6,38.7,18.3\\r109.8,14.3,31.7,12.4\\r26.8,33,19.3,8.8\\r129.4,5.7,31.3,11\\r213.4,24.6,13.1,17\\r16.9,43.7,89.4,8.7\\r27.5,1.6,20.7,6.9\\r120.5,28.5,14.2,14.2\\r5.4,29.9,9.4,5.3\\r116,7.7,23.1,11\\r76.4,26.7,22.3,11.8\\r239.8,4.1,36.9,12.3\\r75.3,20.3,32.5,11.3\\r68.4,44.5,35.6,13.6\\r213.5,43,33.8,21.7\\r193.2,18.4,65.7,15.2\\r76.3,27.5,16,12\\r110.7,40.6,63.2,16\\r88.3,25.5,73.4,12.9\\r109.8,47.8,51.4,16.7\\r134.3,4.9,9.3,11.2\\r28.6,1.5,33,7.3\\r217.7,33.5,59,19.4\\r250.9,36.5,72.3,22.2\\r107.4,14,10.9,11.5\\r163.3,31.6,52.9,16.9\\r197.6,3.5,5.9,11.7\\r184.9,21,22,15.5\\r289.7,42.3,51.2,25.4\\r135.2,41.7,45.9,17.2\\r222.4,4.3,49.8,11.7\\r296.4,36.3,100.9,23.8\\r280.2,10.1,21.4,14.8\\r187.9,17.2,17.9,14.7\\r238.2,34.3,5.3,20.7\\r137.9,46.4,59,19.2\\r25,11,29.7,7.2\\r90.4,0.3,23.2,8.7\\r13.1,0.4,25.6,5.3\\r255.4,26.9,5.5,19.8\\r225.8,8.2,56.5,13.4\\r241.7,38,23.2,21.8\\r175.7,15.4,2.4,14.1\\r209.6,20.6,10.7,15.9\\r78.2,46.8,34.5,14.6\\r75.1,35,52.7,12.6\\r139.2,14.3,25.6,12.2\\r76.4,0.8,14.8,9.4\\r125.7,36.9,79.2,15.9\\r19.4,16,22.3,6.6\\r141.3,26.8,46.2,15.5\\r18.8,21.7,50.4,7\\r224,2.4,15.6,11.6\\r123.1,34.6,12.4,15.2\\r229.5,32.3,74.2,19.7\\r87.2,11.8,25.9,10.6\\r7.8,38.9,50.6,6.6\\r80.2,0,9.2,8.8\\r220.3,49,3.2,24.7\\r59.6,12,43.1,9.7\\r0.7,39.6,8.7,1.6\\r265.2,2.9,43,12.7\\r8.4,27.2,2.1,5.7\\r219.8,33.5,45.1,19.6\\r36.9,38.6,65.6,10.8\\r48.3,47,8.5,11.6\\r25.6,39,9.3,9.5\\r273.7,28.9,59.7,20.8\\r43,25.9,20.5,9.6\\r184.9,43.9,1.7,20.7\\r73.4,17,12.9,10.9\\r193.7,35.4,75.6,19.2\\r220.5,33.2,37.9,20.1\\r104.6,5.7,34.4,10.4\\r96.2,14.8,38.9,11.4\\r140.3,1.9,9,10.3\\r240.1,7.3,8.7,13.2\\r243.2,49,44.3,25.4\\r38,40.3,11.9,10.9\\r44.7,25.8,20.6,10.1\\r280.7,13.9,37,16.1\\r121,8.4,48.7,11.6\\r197.6,23.3,14.2,16.6\\r171.3,39.7,37.7,19\\r187.8,21.1,9.5,15.6\\r4.1,11.6,5.7,3.2\\r93.9,43.5,50.5,15.3\\r149.8,1.3,24.3,10.1\\r11.7,36.9,45.2,7.3\\r131.7,18.4,34.6,12.9\\r172.5,18.1,30.7,14.4\\r85.7,35.8,49.3,13.3\\r188.4,18.1,25.6,14.9\\r163.5,36.8,7.4,18\\r117.2,14.7,5.4,11.9\\r234.5,3.4,84.8,11.9\\r17.9,37.6,21.6,8\\r206.8,5.2,19.4,12.2\\r215.4,23.6,57.6,17.1\\r284.3,10.6,6.4,15\\r50,11.6,18.4,8.4\\r164.5,20.9,47.4,14.5\\r19.6,20.1,17,7.6\\r168.4,7.1,12.8,11.7\\r222.4,3.4,13.1,11.5\\r276.9,48.9,41.8,27\\r248.4,30.2,20.3,20.2\\r170.2,7.8,35.2,11.7\\r276.7,2.3,23.7,11.8\\r165.6,10,17.6,12.6\\r156.6,2.6,8.3,10.5\\r218.5,5.4,27.4,12.2\\r56.2,5.7,29.7,8.7\\r287.6,43,71.8,26.2\\r253.8,21.3,30,17.6\\r205,45.1,19.6,22.6\\r139.5,2.1,26.6,10.3\\r191.1,28.7,18.2,17.3\\r286,13.9,3.7,15.9\\r18.7,12.1,23.4,6.7\\r39.5,41.1,5.8,10.8\\r75.5,10.8,6,9.9\\r17.2,4.1,31.6,5.9\\r166.8,42,3.6,19.6\\r149.7,35.6,6,17.3\\r38.2,3.7,13.8,7.6\\r94.2,4.9,8.1,9.7\\r177,9.3,6.4,12.8\\r283.6,42,66.2,25.5\\r232.1,8.6,8.7,13.4'}"
            ]
          },
          "metadata": {
            "tags": []
          },
          "execution_count": 3
        }
      ]
    },
    {
      "cell_type": "code",
      "metadata": {
        "colab": {
          "base_uri": "https://localhost:8080/"
        },
        "id": "5f1sdMlCfT6b",
        "outputId": "732e8373-4ed2-4970-eb10-baba4347eee6"
      },
      "source": [
        "ad = spark.read.csv('./Advertising.csv', header=True, inferSchema=True)\n",
        "ad.show(5)"
      ],
      "execution_count": null,
      "outputs": [
        {
          "output_type": "stream",
          "text": [
            "+-----+-----+---------+-----+\n",
            "|   TV|Radio|Newspaper|Sales|\n",
            "+-----+-----+---------+-----+\n",
            "|230.1| 37.8|     69.2| 22.1|\n",
            "| 44.5| 39.3|     45.1| 10.4|\n",
            "| 17.2| 45.9|     69.3|  9.3|\n",
            "|151.5| 41.3|     58.5| 18.5|\n",
            "|180.8| 10.8|     58.4| 12.9|\n",
            "+-----+-----+---------+-----+\n",
            "only showing top 5 rows\n",
            "\n"
          ],
          "name": "stdout"
        }
      ]
    },
    {
      "cell_type": "markdown",
      "metadata": {
        "id": "6NwU4yPcfeW5"
      },
      "source": [
        "## Transform data structure"
      ]
    },
    {
      "cell_type": "code",
      "metadata": {
        "colab": {
          "base_uri": "https://localhost:8080/"
        },
        "id": "7S10xnONfaf6",
        "outputId": "7ed8a5c3-c401-4377-8fbf-f3e5a52618ce"
      },
      "source": [
        "from pyspark.ml.linalg import Vectors\n",
        "ad_df = ad.rdd.map(lambda x: [Vectors.dense(x[0:3]), x[-1]]).toDF(['features', 'label'])\n",
        "ad_df.show(5)"
      ],
      "execution_count": null,
      "outputs": [
        {
          "output_type": "stream",
          "text": [
            "+-----------------+-----+\n",
            "|         features|label|\n",
            "+-----------------+-----+\n",
            "|[230.1,37.8,69.2]| 22.1|\n",
            "| [44.5,39.3,45.1]| 10.4|\n",
            "| [17.2,45.9,69.3]|  9.3|\n",
            "|[151.5,41.3,58.5]| 18.5|\n",
            "|[180.8,10.8,58.4]| 12.9|\n",
            "+-----------------+-----+\n",
            "only showing top 5 rows\n",
            "\n"
          ],
          "name": "stdout"
        }
      ]
    },
    {
      "cell_type": "markdown",
      "metadata": {
        "id": "KwhoXn3XfkUU"
      },
      "source": [
        "## Build linear regression model"
      ]
    },
    {
      "cell_type": "code",
      "metadata": {
        "id": "whCgAEc8fa55"
      },
      "source": [
        "from pyspark.ml.regression import LinearRegression\n",
        "lr = LinearRegression(featuresCol = 'features', labelCol = 'label')"
      ],
      "execution_count": null,
      "outputs": []
    },
    {
      "cell_type": "markdown",
      "metadata": {
        "id": "YbHlDuC_foGi"
      },
      "source": [
        "## Fit the model"
      ]
    },
    {
      "cell_type": "code",
      "metadata": {
        "id": "m6CsYKPEfa8Y"
      },
      "source": [
        "lr_model = lr.fit(ad_df)"
      ],
      "execution_count": null,
      "outputs": []
    },
    {
      "cell_type": "markdown",
      "metadata": {
        "id": "OTfxNyntfoyf"
      },
      "source": [
        "## Prediction"
      ]
    },
    {
      "cell_type": "code",
      "metadata": {
        "colab": {
          "base_uri": "https://localhost:8080/"
        },
        "id": "cHSnJQ2Qfa_f",
        "outputId": "9f0775f4-b740-4233-9ec9-084c99f659cd"
      },
      "source": [
        "pred = lr_model.transform(ad_df)\n",
        "pred.show(5)"
      ],
      "execution_count": null,
      "outputs": [
        {
          "output_type": "stream",
          "text": [
            "+-----------------+-----+------------------+\n",
            "|         features|label|        prediction|\n",
            "+-----------------+-----+------------------+\n",
            "|[230.1,37.8,69.2]| 22.1| 20.52397440971517|\n",
            "| [44.5,39.3,45.1]| 10.4|12.337854820894362|\n",
            "| [17.2,45.9,69.3]|  9.3|12.307670779994238|\n",
            "|[151.5,41.3,58.5]| 18.5| 17.59782951168913|\n",
            "|[180.8,10.8,58.4]| 12.9|13.188671856831299|\n",
            "+-----------------+-----+------------------+\n",
            "only showing top 5 rows\n",
            "\n"
          ],
          "name": "stdout"
        }
      ]
    },
    {
      "cell_type": "markdown",
      "metadata": {
        "id": "gY3-lv0lfpjW"
      },
      "source": [
        "## Module evaluation"
      ]
    },
    {
      "cell_type": "code",
      "metadata": {
        "colab": {
          "base_uri": "https://localhost:8080/"
        },
        "id": "PafLoz9kfbB1",
        "outputId": "e34f1ace-ce0a-4398-8a57-1e9e390ccdb8"
      },
      "source": [
        "from pyspark.ml.evaluation import RegressionEvaluator \n",
        "evaluator = RegressionEvaluator(predictionCol='prediction', labelCol='label')\n",
        "evaluator.setMetricName('r2').evaluate(pred)"
      ],
      "execution_count": null,
      "outputs": [
        {
          "output_type": "execute_result",
          "data": {
            "text/plain": [
              "0.897210638178952"
            ]
          },
          "metadata": {
            "tags": []
          },
          "execution_count": 9
        }
      ]
    },
    {
      "cell_type": "code",
      "metadata": {
        "id": "rne-jL6Pf4pC"
      },
      "source": [],
      "execution_count": null,
      "outputs": []
    },
    {
      "cell_type": "markdown",
      "metadata": {
        "id": "2ZS95SxIf-OL"
      },
      "source": [
        "# Linear regression with cross-validation"
      ]
    },
    {
      "cell_type": "code",
      "metadata": {
        "id": "szIXpqodf-aC"
      },
      "source": [
        "training, test = ad_df.randomSplit([0.8, 0.2], seed=123)"
      ],
      "execution_count": null,
      "outputs": []
    },
    {
      "cell_type": "code",
      "metadata": {
        "id": "sFfseuBaf-cr"
      },
      "source": [
        "##=====build cross valiation model======\n",
        "\n",
        "# estimator\n",
        "lr = LinearRegression(featuresCol = 'features', labelCol = 'label')\n",
        "\n",
        "# parameter grid\n",
        "from pyspark.ml.tuning import ParamGridBuilder\n",
        "param_grid = ParamGridBuilder().\\\n",
        "    addGrid(lr.regParam, [0, 0.5, 1]).\\\n",
        "    addGrid(lr.elasticNetParam, [0, 0.5, 1]).\\\n",
        "    build()\n",
        "    \n",
        "# evaluator\n",
        "evaluator = RegressionEvaluator(predictionCol='prediction', labelCol='label', metricName='r2')\n",
        "\n",
        "# cross-validation model\n",
        "from pyspark.ml.tuning import CrossValidator\n",
        "cv = CrossValidator(estimator=lr, estimatorParamMaps=param_grid, evaluator=evaluator, numFolds=4)"
      ],
      "execution_count": null,
      "outputs": []
    },
    {
      "cell_type": "code",
      "metadata": {
        "id": "EY1TWIOSf-f5"
      },
      "source": [
        "cv_model = cv.fit(training)"
      ],
      "execution_count": null,
      "outputs": []
    },
    {
      "cell_type": "code",
      "metadata": {
        "id": "jIkZ5GPof-ie"
      },
      "source": [
        "pred_training_cv = cv_model.transform(training)\n",
        "pred_test_cv = cv_model.transform(test)"
      ],
      "execution_count": null,
      "outputs": []
    },
    {
      "cell_type": "code",
      "metadata": {
        "colab": {
          "base_uri": "https://localhost:8080/"
        },
        "id": "uEopRkEUf-k0",
        "outputId": "f16e8b11-80a5-473a-ecdf-fc1af8eb947a"
      },
      "source": [
        "# performance on training data\n",
        "evaluator.setMetricName('r2').evaluate(pred_training_cv)"
      ],
      "execution_count": null,
      "outputs": [
        {
          "output_type": "execute_result",
          "data": {
            "text/plain": [
              "0.8952845631627804"
            ]
          },
          "metadata": {
            "tags": []
          },
          "execution_count": 14
        }
      ]
    },
    {
      "cell_type": "code",
      "metadata": {
        "colab": {
          "base_uri": "https://localhost:8080/"
        },
        "id": "6Pztn845f-nf",
        "outputId": "0d4db5a5-ac0b-44f7-a65f-f0bc623158bc"
      },
      "source": [
        "# performance on test data\n",
        "evaluator.setMetricName('r2').evaluate(pred_test_cv)"
      ],
      "execution_count": null,
      "outputs": [
        {
          "output_type": "execute_result",
          "data": {
            "text/plain": [
              "0.9013819610158471"
            ]
          },
          "metadata": {
            "tags": []
          },
          "execution_count": 15
        }
      ]
    },
    {
      "cell_type": "markdown",
      "metadata": {
        "id": "3OUIp-bsgRT5"
      },
      "source": [
        "## Intercept and coefficients"
      ]
    },
    {
      "cell_type": "code",
      "metadata": {
        "colab": {
          "base_uri": "https://localhost:8080/"
        },
        "id": "XwVPl4fcgStY",
        "outputId": "b1e6e9ba-5131-4967-c7c2-51883b26147d"
      },
      "source": [
        "print('Intercept: ', cv_model.bestModel.intercept, \"\\n\",\n",
        "     'coefficients: ', cv_model.bestModel.coefficients)"
      ],
      "execution_count": null,
      "outputs": [
        {
          "output_type": "stream",
          "text": [
            "Intercept:  2.9592600706772934 \n",
            " coefficients:  [0.046137295249098154,0.19200356629524304,-0.006269704193266607]\n"
          ],
          "name": "stdout"
        }
      ]
    },
    {
      "cell_type": "markdown",
      "metadata": {
        "id": "us8cqE8SgYnc"
      },
      "source": [
        "## Get parameter values from the best model"
      ]
    },
    {
      "cell_type": "code",
      "metadata": {
        "colab": {
          "base_uri": "https://localhost:8080/"
        },
        "id": "cV8hCL15gSwb",
        "outputId": "7e78241c-a37d-4c7f-e25d-45006e6c760c"
      },
      "source": [
        "print('best regParam: ' + str(cv_model.bestModel._java_obj.getRegParam()) + \"\\n\" +\n",
        "     'best ElasticNetParam:' + str(cv_model.bestModel._java_obj.getElasticNetParam()))"
      ],
      "execution_count": null,
      "outputs": [
        {
          "output_type": "stream",
          "text": [
            "best regParam: 0.0\n",
            "best ElasticNetParam:0.0\n"
          ],
          "name": "stdout"
        }
      ]
    },
    {
      "cell_type": "code",
      "metadata": {
        "id": "cAjgMl2QgSz1"
      },
      "source": [],
      "execution_count": null,
      "outputs": []
    },
    {
      "cell_type": "markdown",
      "metadata": {
        "id": "CpbTJU8Mgek2"
      },
      "source": [
        "# Generalized regression"
      ]
    },
    {
      "cell_type": "code",
      "metadata": {
        "colab": {
          "resources": {
            "http://localhost:8080/nbextensions/google.colab/files.js": {
              "data": "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",
              "ok": true,
              "headers": [
                [
                  "content-type",
                  "application/javascript"
                ]
              ],
              "status": 200,
              "status_text": ""
            }
          },
          "base_uri": "https://localhost:8080/",
          "height": 109
        },
        "id": "TBLHXfr3gew6",
        "outputId": "d0222a28-12c3-4bc2-b222-d77c00b96609"
      },
      "source": [
        "from google.colab import files\n",
        "files.upload()"
      ],
      "execution_count": null,
      "outputs": [
        {
          "output_type": "display_data",
          "data": {
            "text/html": [
              "\n",
              "     <input type=\"file\" id=\"files-14ae1499-cd76-4190-9303-a747b174f705\" name=\"files[]\" multiple disabled\n",
              "        style=\"border:none\" />\n",
              "     <output id=\"result-14ae1499-cd76-4190-9303-a747b174f705\">\n",
              "      Upload widget is only available when the cell has been executed in the\n",
              "      current browser session. Please rerun this cell to enable.\n",
              "      </output>\n",
              "      <script src=\"/nbextensions/google.colab/files.js\"></script> "
            ],
            "text/plain": [
              "<IPython.core.display.HTML object>"
            ]
          },
          "metadata": {
            "tags": []
          }
        },
        {
          "output_type": "stream",
          "text": [
            "Saving cuse_binary.csv to cuse_binary.csv\n"
          ],
          "name": "stdout"
        },
        {
          "output_type": "execute_result",
          "data": {
            "text/plain": [
              "{'cuse_binary.csv': b'\"age\",\"education\",\"wantsMore\",\"y\"\\n\"<25\",\"low\",\"yes\",0\\n\"<25\",\"low\",\"yes\",0\\n\"<25\",\"low\",\"yes\",0\\n\"<25\",\"low\",\"yes\",0\\n\"<25\",\"low\",\"yes\",0\\n\"<25\",\"low\",\"yes\",0\\n\"<25\",\"low\",\"yes\",0\\n\"<25\",\"low\",\"yes\",0\\n\"<25\",\"low\",\"yes\",0\\n\"<25\",\"low\",\"yes\",0\\n\"<25\",\"low\",\"yes\",0\\n\"<25\",\"low\",\"yes\",0\\n\"<25\",\"low\",\"yes\",0\\n\"<25\",\"low\",\"yes\",0\\n\"<25\",\"low\",\"yes\",0\\n\"<25\",\"low\",\"yes\",0\\n\"<25\",\"low\",\"yes\",0\\n\"<25\",\"low\",\"yes\",0\\n\"<25\",\"low\",\"yes\",0\\n\"<25\",\"low\",\"yes\",0\\n\"<25\",\"low\",\"yes\",0\\n\"<25\",\"low\",\"yes\",0\\n\"<25\",\"low\",\"yes\",0\\n\"<25\",\"low\",\"yes\",0\\n\"<25\",\"low\",\"yes\",0\\n\"<25\",\"low\",\"yes\",0\\n\"<25\",\"low\",\"yes\",0\\n\"<25\",\"low\",\"yes\",0\\n\"<25\",\"low\",\"yes\",0\\n\"<25\",\"low\",\"yes\",0\\n\"<25\",\"low\",\"yes\",0\\n\"<25\",\"low\",\"yes\",0\\n\"<25\",\"low\",\"yes\",0\\n\"<25\",\"low\",\"yes\",0\\n\"<25\",\"low\",\"yes\",0\\n\"<25\",\"low\",\"yes\",0\\n\"<25\",\"low\",\"yes\",0\\n\"<25\",\"low\",\"yes\",0\\n\"<25\",\"low\",\"yes\",0\\n\"<25\",\"low\",\"yes\",0\\n\"<25\",\"low\",\"yes\",0\\n\"<25\",\"low\",\"yes\",0\\n\"<25\",\"low\",\"yes\",0\\n\"<25\",\"low\",\"yes\",0\\n\"<25\",\"low\",\"yes\",0\\n\"<25\",\"low\",\"yes\",0\\n\"<25\",\"low\",\"yes\",0\\n\"<25\",\"low\",\"yes\",0\\n\"<25\",\"low\",\"yes\",0\\n\"<25\",\"low\",\"yes\",0\\n\"<25\",\"low\",\"yes\",0\\n\"<25\",\"low\",\"yes\",0\\n\"<25\",\"low\",\"yes\",0\\n\"<25\",\"low\",\"no\",0\\n\"<25\",\"low\",\"no\",0\\n\"<25\",\"low\",\"no\",0\\n\"<25\",\"low\",\"no\",0\\n\"<25\",\"low\",\"no\",0\\n\"<25\",\"low\",\"no\",0\\n\"<25\",\"low\",\"no\",0\\n\"<25\",\"low\",\"no\",0\\n\"<25\",\"low\",\"no\",0\\n\"<25\",\"low\",\"no\",0\\n\"<25\",\"high\",\"yes\",0\\n\"<25\",\"high\",\"yes\",0\\n\"<25\",\"high\",\"yes\",0\\n\"<25\",\"high\",\"yes\",0\\n\"<25\",\"high\",\"yes\",0\\n\"<25\",\"high\",\"yes\",0\\n\"<25\",\"high\",\"yes\",0\\n\"<25\",\"high\",\"yes\",0\\n\"<25\",\"high\",\"yes\",0\\n\"<25\",\"high\",\"yes\",0\\n\"<25\",\"high\",\"yes\",0\\n\"<25\",\"high\",\"yes\",0\\n\"<25\",\"high\",\"yes\",0\\n\"<25\",\"high\",\"yes\",0\\n\"<25\",\"high\",\"yes\",0\\n\"<25\",\"high\",\"yes\",0\\n\"<25\",\"high\",\"yes\",0\\n\"<25\",\"high\",\"yes\",0\\n\"<25\",\"high\",\"yes\",0\\n\"<25\",\"high\",\"yes\",0\\n\"<25\",\"high\",\"yes\",0\\n\"<25\",\"high\",\"yes\",0\\n\"<25\",\"high\",\"yes\",0\\n\"<25\",\"high\",\"yes\",0\\n\"<25\",\"high\",\"yes\",0\\n\"<25\",\"high\",\"yes\",0\\n\"<25\",\"high\",\"yes\",0\\n\"<25\",\"high\",\"yes\",0\\n\"<25\",\"high\",\"yes\",0\\n\"<25\",\"high\",\"yes\",0\\n\"<25\",\"high\",\"yes\",0\\n\"<25\",\"high\",\"yes\",0\\n\"<25\",\"high\",\"yes\",0\\n\"<25\",\"high\",\"yes\",0\\n\"<25\",\"high\",\"yes\",0\\n\"<25\",\"high\",\"yes\",0\\n\"<25\",\"high\",\"yes\",0\\n\"<25\",\"high\",\"yes\",0\\n\"<25\",\"high\",\"yes\",0\\n\"<25\",\"high\",\"yes\",0\\n\"<25\",\"high\",\"yes\",0\\n\"<25\",\"high\",\"yes\",0\\n\"<25\",\"high\",\"yes\",0\\n\"<25\",\"high\",\"yes\",0\\n\"<25\",\"high\",\"yes\",0\\n\"<25\",\"high\",\"yes\",0\\n\"<25\",\"high\",\"yes\",0\\n\"<25\",\"high\",\"yes\",0\\n\"<25\",\"high\",\"yes\",0\\n\"<25\",\"high\",\"yes\",0\\n\"<25\",\"high\",\"yes\",0\\n\"<25\",\"high\",\"yes\",0\\n\"<25\",\"high\",\"yes\",0\\n\"<25\",\"high\",\"yes\",0\\n\"<25\",\"high\",\"yes\",0\\n\"<25\",\"high\",\"yes\",0\\n\"<25\",\"high\",\"yes\",0\\n\"<25\",\"high\",\"yes\",0\\n\"<25\",\"high\",\"yes\",0\\n\"<25\",\"high\",\"yes\",0\\n\"<25\",\"high\",\"yes\",0\\n\"<25\",\"high\",\"yes\",0\\n\"<25\",\"high\",\"yes\",0\\n\"<25\",\"high\",\"yes\",0\\n\"<25\",\"high\",\"yes\",0\\n\"<25\",\"high\",\"yes\",0\\n\"<25\",\"high\",\"yes\",0\\n\"<25\",\"high\",\"yes\",0\\n\"<25\",\"high\",\"yes\",0\\n\"<25\",\"high\",\"yes\",0\\n\"<25\",\"high\",\"yes\",0\\n\"<25\",\"high\",\"yes\",0\\n\"<25\",\"high\",\"yes\",0\\n\"<25\",\"high\",\"yes\",0\\n\"<25\",\"high\",\"yes\",0\\n\"<25\",\"high\",\"yes\",0\\n\"<25\",\"high\",\"yes\",0\\n\"<25\",\"high\",\"yes\",0\\n\"<25\",\"high\",\"yes\",0\\n\"<25\",\"high\",\"yes\",0\\n\"<25\",\"high\",\"yes\",0\\n\"<25\",\"high\",\"yes\",0\\n\"<25\",\"high\",\"yes\",0\\n\"<25\",\"high\",\"yes\",0\\n\"<25\",\"high\",\"yes\",0\\n\"<25\",\"high\",\"yes\",0\\n\"<25\",\"high\",\"yes\",0\\n\"<25\",\"high\",\"yes\",0\\n\"<25\",\"high\",\"yes\",0\\n\"<25\",\"high\",\"yes\",0\\n\"<25\",\"high\",\"yes\",0\\n\"<25\",\"high\",\"yes\",0\\n\"<25\",\"high\",\"yes\",0\\n\"<25\",\"high\",\"yes\",0\\n\"<25\",\"high\",\"yes\",0\\n\"<25\",\"high\",\"yes\",0\\n\"<25\",\"high\",\"yes\",0\\n\"<25\",\"high\",\"yes\",0\\n\"<25\",\"high\",\"yes\",0\\n\"<25\",\"high\",\"yes\",0\\n\"<25\",\"high\",\"yes\",0\\n\"<25\",\"high\",\"yes\",0\\n\"<25\",\"high\",\"yes\",0\\n\"<25\",\"high\",\"yes\",0\\n\"<25\",\"high\",\"yes\",0\\n\"<25\",\"high\",\"yes\",0\\n\"<25\",\"high\",\"yes\",0\\n\"<25\",\"high\",\"yes\",0\\n\"<25\",\"high\",\"yes\",0\\n\"<25\",\"high\",\"yes\",0\\n\"<25\",\"high\",\"yes\",0\\n\"<25\",\"high\",\"yes\",0\\n\"<25\",\"high\",\"yes\",0\\n\"<25\",\"high\",\"yes\",0\\n\"<25\",\"high\",\"yes\",0\\n\"<25\",\"high\",\"yes\",0\\n\"<25\",\"high\",\"yes\",0\\n\"<25\",\"high\",\"yes\",0\\n\"<25\",\"high\",\"yes\",0\\n\"<25\",\"high\",\"yes\",0\\n\"<25\",\"high\",\"yes\",0\\n\"<25\",\"high\",\"yes\",0\\n\"<25\",\"high\",\"yes\",0\\n\"<25\",\"high\",\"yes\",0\\n\"<25\",\"high\",\"yes\",0\\n\"<25\",\"high\",\"yes\",0\\n\"<25\",\"high\",\"yes\",0\\n\"<25\",\"high\",\"yes\",0\\n\"<25\",\"high\",\"yes\",0\\n\"<25\",\"high\",\"yes\",0\\n\"<25\",\"high\",\"yes\",0\\n\"<25\",\"high\",\"yes\",0\\n\"<25\",\"high\",\"yes\",0\\n\"<25\",\"high\",\"yes\",0\\n\"<25\",\"high\",\"yes\",0\\n\"<25\",\"high\",\"yes\",0\\n\"<25\",\"high\",\"yes\",0\\n\"<25\",\"high\",\"yes\",0\\n\"<25\",\"high\",\"yes\",0\\n\"<25\",\"high\",\"yes\",0\\n\"<25\",\"high\",\"yes\",0\\n\"<25\",\"high\",\"yes\",0\\n\"<25\",\"high\",\"yes\",0\\n\"<25\",\"high\",\"yes\",0\\n\"<25\",\"high\",\"yes\",0\\n\"<25\",\"high\",\"yes\",0\\n\"<25\",\"high\",\"yes\",0\\n\"<25\",\"high\",\"yes\",0\\n\"<25\",\"high\",\"yes\",0\\n\"<25\",\"high\",\"yes\",0\\n\"<25\",\"high\",\"yes\",0\\n\"<25\",\"high\",\"yes\",0\\n\"<25\",\"high\",\"yes\",0\\n\"<25\",\"high\",\"yes\",0\\n\"<25\",\"high\",\"yes\",0\\n\"<25\",\"high\",\"yes\",0\\n\"<25\",\"high\",\"yes\",0\\n\"<25\",\"high\",\"yes\",0\\n\"<25\",\"high\",\"yes\",0\\n\"<25\",\"high\",\"yes\",0\\n\"<25\",\"high\",\"yes\",0\\n\"<25\",\"high\",\"yes\",0\\n\"<25\",\"high\",\"yes\",0\\n\"<25\",\"high\",\"yes\",0\\n\"<25\",\"high\",\"yes\",0\\n\"<25\",\"high\",\"yes\",0\\n\"<25\",\"high\",\"yes\",0\\n\"<25\",\"high\",\"yes\",0\\n\"<25\",\"high\",\"yes\",0\\n\"<25\",\"high\",\"yes\",0\\n\"<25\",\"high\",\"yes\",0\\n\"<25\",\"high\",\"yes\",0\\n\"<25\",\"high\",\"yes\",0\\n\"<25\",\"high\",\"yes\",0\\n\"<25\",\"high\",\"yes\",0\\n\"<25\",\"high\",\"yes\",0\\n\"<25\",\"high\",\"yes\",0\\n\"<25\",\"high\",\"yes\",0\\n\"<25\",\"high\",\"yes\",0\\n\"<25\",\"high\",\"yes\",0\\n\"<25\",\"high\",\"yes\",0\\n\"<25\",\"high\",\"yes\",0\\n\"<25\",\"high\",\"yes\",0\\n\"<25\",\"high\",\"yes\",0\\n\"<25\",\"high\",\"yes\",0\\n\"<25\",\"high\",\"yes\",0\\n\"<25\",\"high\",\"yes\",0\\n\"<25\",\"high\",\"yes\",0\\n\"<25\",\"high\",\"yes\",0\\n\"<25\",\"high\",\"yes\",0\\n\"<25\",\"high\",\"yes\",0\\n\"<25\",\"high\",\"yes\",0\\n\"<25\",\"high\",\"yes\",0\\n\"<25\",\"high\",\"yes\",0\\n\"<25\",\"high\",\"yes\",0\\n\"<25\",\"high\",\"yes\",0\\n\"<25\",\"high\",\"yes\",0\\n\"<25\",\"high\",\"yes\",0\\n\"<25\",\"high\",\"yes\",0\\n\"<25\",\"high\",\"yes\",0\\n\"<25\",\"high\",\"yes\",0\\n\"<25\",\"high\",\"yes\",0\\n\"<25\",\"high\",\"yes\",0\\n\"<25\",\"high\",\"yes\",0\\n\"<25\",\"high\",\"yes\",0\\n\"<25\",\"high\",\"yes\",0\\n\"<25\",\"high\",\"yes\",0\\n\"<25\",\"high\",\"yes\",0\\n\"<25\",\"high\",\"yes\",0\\n\"<25\",\"high\",\"yes\",0\\n\"<25\",\"high\",\"yes\",0\\n\"<25\",\"high\",\"yes\",0\\n\"<25\",\"high\",\"no\",0\\n\"<25\",\"high\",\"no\",0\\n\"<25\",\"high\",\"no\",0\\n\"<25\",\"high\",\"no\",0\\n\"<25\",\"high\",\"no\",0\\n\"<25\",\"high\",\"no\",0\\n\"<25\",\"high\",\"no\",0\\n\"<25\",\"high\",\"no\",0\\n\"<25\",\"high\",\"no\",0\\n\"<25\",\"high\",\"no\",0\\n\"<25\",\"high\",\"no\",0\\n\"<25\",\"high\",\"no\",0\\n\"<25\",\"high\",\"no\",0\\n\"<25\",\"high\",\"no\",0\\n\"<25\",\"high\",\"no\",0\\n\"<25\",\"high\",\"no\",0\\n\"<25\",\"high\",\"no\",0\\n\"<25\",\"high\",\"no\",0\\n\"<25\",\"high\",\"no\",0\\n\"<25\",\"high\",\"no\",0\\n\"<25\",\"high\",\"no\",0\\n\"<25\",\"high\",\"no\",0\\n\"<25\",\"high\",\"no\",0\\n\"<25\",\"high\",\"no\",0\\n\"<25\",\"high\",\"no\",0\\n\"<25\",\"high\",\"no\",0\\n\"<25\",\"high\",\"no\",0\\n\"<25\",\"high\",\"no\",0\\n\"<25\",\"high\",\"no\",0\\n\"<25\",\"high\",\"no\",0\\n\"<25\",\"high\",\"no\",0\\n\"<25\",\"high\",\"no\",0\\n\"<25\",\"high\",\"no\",0\\n\"<25\",\"high\",\"no\",0\\n\"<25\",\"high\",\"no\",0\\n\"<25\",\"high\",\"no\",0\\n\"<25\",\"high\",\"no\",0\\n\"<25\",\"high\",\"no\",0\\n\"<25\",\"high\",\"no\",0\\n\"<25\",\"high\",\"no\",0\\n\"<25\",\"high\",\"no\",0\\n\"<25\",\"high\",\"no\",0\\n\"<25\",\"high\",\"no\",0\\n\"<25\",\"high\",\"no\",0\\n\"<25\",\"high\",\"no\",0\\n\"<25\",\"high\",\"no\",0\\n\"<25\",\"high\",\"no\",0\\n\"<25\",\"high\",\"no\",0\\n\"<25\",\"high\",\"no\",0\\n\"<25\",\"high\",\"no\",0\\n\"25-29\",\"low\",\"yes\",0\\n\"25-29\",\"low\",\"yes\",0\\n\"25-29\",\"low\",\"yes\",0\\n\"25-29\",\"low\",\"yes\",0\\n\"25-29\",\"low\",\"yes\",0\\n\"25-29\",\"low\",\"yes\",0\\n\"25-29\",\"low\",\"yes\",0\\n\"25-29\",\"low\",\"yes\",0\\n\"25-29\",\"low\",\"yes\",0\\n\"25-29\",\"low\",\"yes\",0\\n\"25-29\",\"low\",\"yes\",0\\n\"25-29\",\"low\",\"yes\",0\\n\"25-29\",\"low\",\"yes\",0\\n\"25-29\",\"low\",\"yes\",0\\n\"25-29\",\"low\",\"yes\",0\\n\"25-29\",\"low\",\"yes\",0\\n\"25-29\",\"low\",\"yes\",0\\n\"25-29\",\"low\",\"yes\",0\\n\"25-29\",\"low\",\"yes\",0\\n\"25-29\",\"low\",\"yes\",0\\n\"25-29\",\"low\",\"yes\",0\\n\"25-29\",\"low\",\"yes\",0\\n\"25-29\",\"low\",\"yes\",0\\n\"25-29\",\"low\",\"yes\",0\\n\"25-29\",\"low\",\"yes\",0\\n\"25-29\",\"low\",\"yes\",0\\n\"25-29\",\"low\",\"yes\",0\\n\"25-29\",\"low\",\"yes\",0\\n\"25-29\",\"low\",\"yes\",0\\n\"25-29\",\"low\",\"yes\",0\\n\"25-29\",\"low\",\"yes\",0\\n\"25-29\",\"low\",\"yes\",0\\n\"25-29\",\"low\",\"yes\",0\\n\"25-29\",\"low\",\"yes\",0\\n\"25-29\",\"low\",\"yes\",0\\n\"25-29\",\"low\",\"yes\",0\\n\"25-29\",\"low\",\"yes\",0\\n\"25-29\",\"low\",\"yes\",0\\n\"25-29\",\"low\",\"yes\",0\\n\"25-29\",\"low\",\"yes\",0\\n\"25-29\",\"low\",\"yes\",0\\n\"25-29\",\"low\",\"yes\",0\\n\"25-29\",\"low\",\"yes\",0\\n\"25-29\",\"low\",\"yes\",0\\n\"25-29\",\"low\",\"yes\",0\\n\"25-29\",\"low\",\"yes\",0\\n\"25-29\",\"low\",\"yes\",0\\n\"25-29\",\"low\",\"yes\",0\\n\"25-29\",\"low\",\"yes\",0\\n\"25-29\",\"low\",\"yes\",0\\n\"25-29\",\"low\",\"yes\",0\\n\"25-29\",\"low\",\"yes\",0\\n\"25-29\",\"low\",\"yes\",0\\n\"25-29\",\"low\",\"yes\",0\\n\"25-29\",\"low\",\"yes\",0\\n\"25-29\",\"low\",\"yes\",0\\n\"25-29\",\"low\",\"yes\",0\\n\"25-29\",\"low\",\"yes\",0\\n\"25-29\",\"low\",\"yes\",0\\n\"25-29\",\"low\",\"yes\",0\\n\"25-29\",\"low\",\"no\",0\\n\"25-29\",\"low\",\"no\",0\\n\"25-29\",\"low\",\"no\",0\\n\"25-29\",\"low\",\"no\",0\\n\"25-29\",\"low\",\"no\",0\\n\"25-29\",\"low\",\"no\",0\\n\"25-29\",\"low\",\"no\",0\\n\"25-29\",\"low\",\"no\",0\\n\"25-29\",\"low\",\"no\",0\\n\"25-29\",\"low\",\"no\",0\\n\"25-29\",\"low\",\"no\",0\\n\"25-29\",\"low\",\"no\",0\\n\"25-29\",\"low\",\"no\",0\\n\"25-29\",\"low\",\"no\",0\\n\"25-29\",\"low\",\"no\",0\\n\"25-29\",\"low\",\"no\",0\\n\"25-29\",\"low\",\"no\",0\\n\"25-29\",\"low\",\"no\",0\\n\"25-29\",\"low\",\"no\",0\\n\"25-29\",\"high\",\"yes\",0\\n\"25-29\",\"high\",\"yes\",0\\n\"25-29\",\"high\",\"yes\",0\\n\"25-29\",\"high\",\"yes\",0\\n\"25-29\",\"high\",\"yes\",0\\n\"25-29\",\"high\",\"yes\",0\\n\"25-29\",\"high\",\"yes\",0\\n\"25-29\",\"high\",\"yes\",0\\n\"25-29\",\"high\",\"yes\",0\\n\"25-29\",\"high\",\"yes\",0\\n\"25-29\",\"high\",\"yes\",0\\n\"25-29\",\"high\",\"yes\",0\\n\"25-29\",\"high\",\"yes\",0\\n\"25-29\",\"high\",\"yes\",0\\n\"25-29\",\"high\",\"yes\",0\\n\"25-29\",\"high\",\"yes\",0\\n\"25-29\",\"high\",\"yes\",0\\n\"25-29\",\"high\",\"yes\",0\\n\"25-29\",\"high\",\"yes\",0\\n\"25-29\",\"high\",\"yes\",0\\n\"25-29\",\"high\",\"yes\",0\\n\"25-29\",\"high\",\"yes\",0\\n\"25-29\",\"high\",\"yes\",0\\n\"25-29\",\"high\",\"yes\",0\\n\"25-29\",\"high\",\"yes\",0\\n\"25-29\",\"high\",\"yes\",0\\n\"25-29\",\"high\",\"yes\",0\\n\"25-29\",\"high\",\"yes\",0\\n\"25-29\",\"high\",\"yes\",0\\n\"25-29\",\"high\",\"yes\",0\\n\"25-29\",\"high\",\"yes\",0\\n\"25-29\",\"high\",\"yes\",0\\n\"25-29\",\"high\",\"yes\",0\\n\"25-29\",\"high\",\"yes\",0\\n\"25-29\",\"high\",\"yes\",0\\n\"25-29\",\"high\",\"yes\",0\\n\"25-29\",\"high\",\"yes\",0\\n\"25-29\",\"high\",\"yes\",0\\n\"25-29\",\"high\",\"yes\",0\\n\"25-29\",\"high\",\"yes\",0\\n\"25-29\",\"high\",\"yes\",0\\n\"25-29\",\"high\",\"yes\",0\\n\"25-29\",\"high\",\"yes\",0\\n\"25-29\",\"high\",\"yes\",0\\n\"25-29\",\"high\",\"yes\",0\\n\"25-29\",\"high\",\"yes\",0\\n\"25-29\",\"high\",\"yes\",0\\n\"25-29\",\"high\",\"yes\",0\\n\"25-29\",\"high\",\"yes\",0\\n\"25-29\",\"high\",\"yes\",0\\n\"25-29\",\"high\",\"yes\",0\\n\"25-29\",\"high\",\"yes\",0\\n\"25-29\",\"high\",\"yes\",0\\n\"25-29\",\"high\",\"yes\",0\\n\"25-29\",\"high\",\"yes\",0\\n\"25-29\",\"high\",\"yes\",0\\n\"25-29\",\"high\",\"yes\",0\\n\"25-29\",\"high\",\"yes\",0\\n\"25-29\",\"high\",\"yes\",0\\n\"25-29\",\"high\",\"yes\",0\\n\"25-29\",\"high\",\"yes\",0\\n\"25-29\",\"high\",\"yes\",0\\n\"25-29\",\"high\",\"yes\",0\\n\"25-29\",\"high\",\"yes\",0\\n\"25-29\",\"high\",\"yes\",0\\n\"25-29\",\"high\",\"yes\",0\\n\"25-29\",\"high\",\"yes\",0\\n\"25-29\",\"high\",\"yes\",0\\n\"25-29\",\"high\",\"yes\",0\\n\"25-29\",\"high\",\"yes\",0\\n\"25-29\",\"high\",\"yes\",0\\n\"25-29\",\"high\",\"yes\",0\\n\"25-29\",\"high\",\"yes\",0\\n\"25-29\",\"high\",\"yes\",0\\n\"25-29\",\"high\",\"yes\",0\\n\"25-29\",\"high\",\"yes\",0\\n\"25-29\",\"high\",\"yes\",0\\n\"25-29\",\"high\",\"yes\",0\\n\"25-29\",\"high\",\"yes\",0\\n\"25-29\",\"high\",\"yes\",0\\n\"25-29\",\"high\",\"yes\",0\\n\"25-29\",\"high\",\"yes\",0\\n\"25-29\",\"high\",\"yes\",0\\n\"25-29\",\"high\",\"yes\",0\\n\"25-29\",\"high\",\"yes\",0\\n\"25-29\",\"high\",\"yes\",0\\n\"25-29\",\"high\",\"yes\",0\\n\"25-29\",\"high\",\"yes\",0\\n\"25-29\",\"high\",\"yes\",0\\n\"25-29\",\"high\",\"yes\",0\\n\"25-29\",\"high\",\"yes\",0\\n\"25-29\",\"high\",\"yes\",0\\n\"25-29\",\"high\",\"yes\",0\\n\"25-29\",\"high\",\"yes\",0\\n\"25-29\",\"high\",\"yes\",0\\n\"25-29\",\"high\",\"yes\",0\\n\"25-29\",\"high\",\"yes\",0\\n\"25-29\",\"high\",\"yes\",0\\n\"25-29\",\"high\",\"yes\",0\\n\"25-29\",\"high\",\"yes\",0\\n\"25-29\",\"high\",\"yes\",0\\n\"25-29\",\"high\",\"yes\",0\\n\"25-29\",\"high\",\"yes\",0\\n\"25-29\",\"high\",\"yes\",0\\n\"25-29\",\"high\",\"yes\",0\\n\"25-29\",\"high\",\"yes\",0\\n\"25-29\",\"high\",\"yes\",0\\n\"25-29\",\"high\",\"yes\",0\\n\"25-29\",\"high\",\"yes\",0\\n\"25-29\",\"high\",\"yes\",0\\n\"25-29\",\"high\",\"yes\",0\\n\"25-29\",\"high\",\"yes\",0\\n\"25-29\",\"high\",\"yes\",0\\n\"25-29\",\"high\",\"yes\",0\\n\"25-29\",\"high\",\"yes\",0\\n\"25-29\",\"high\",\"yes\",0\\n\"25-29\",\"high\",\"yes\",0\\n\"25-29\",\"high\",\"yes\",0\\n\"25-29\",\"high\",\"yes\",0\\n\"25-29\",\"high\",\"yes\",0\\n\"25-29\",\"high\",\"yes\",0\\n\"25-29\",\"high\",\"yes\",0\\n\"25-29\",\"high\",\"yes\",0\\n\"25-29\",\"high\",\"yes\",0\\n\"25-29\",\"high\",\"yes\",0\\n\"25-29\",\"high\",\"yes\",0\\n\"25-29\",\"high\",\"yes\",0\\n\"25-29\",\"high\",\"yes\",0\\n\"25-29\",\"high\",\"yes\",0\\n\"25-29\",\"high\",\"yes\",0\\n\"25-29\",\"high\",\"yes\",0\\n\"25-29\",\"high\",\"yes\",0\\n\"25-29\",\"high\",\"yes\",0\\n\"25-29\",\"high\",\"yes\",0\\n\"25-29\",\"high\",\"yes\",0\\n\"25-29\",\"high\",\"yes\",0\\n\"25-29\",\"high\",\"yes\",0\\n\"25-29\",\"high\",\"yes\",0\\n\"25-29\",\"high\",\"yes\",0\\n\"25-29\",\"high\",\"yes\",0\\n\"25-29\",\"high\",\"yes\",0\\n\"25-29\",\"high\",\"yes\",0\\n\"25-29\",\"high\",\"yes\",0\\n\"25-29\",\"high\",\"yes\",0\\n\"25-29\",\"high\",\"yes\",0\\n\"25-29\",\"high\",\"yes\",0\\n\"25-29\",\"high\",\"yes\",0\\n\"25-29\",\"high\",\"yes\",0\\n\"25-29\",\"high\",\"yes\",0\\n\"25-29\",\"high\",\"yes\",0\\n\"25-29\",\"high\",\"yes\",0\\n\"25-29\",\"high\",\"yes\",0\\n\"25-29\",\"high\",\"yes\",0\\n\"25-29\",\"high\",\"yes\",0\\n\"25-29\",\"high\",\"yes\",0\\n\"25-29\",\"high\",\"no\",0\\n\"25-29\",\"high\",\"no\",0\\n\"25-29\",\"high\",\"no\",0\\n\"25-29\",\"high\",\"no\",0\\n\"25-29\",\"high\",\"no\",0\\n\"25-29\",\"high\",\"no\",0\\n\"25-29\",\"high\",\"no\",0\\n\"25-29\",\"high\",\"no\",0\\n\"25-29\",\"high\",\"no\",0\\n\"25-29\",\"high\",\"no\",0\\n\"25-29\",\"high\",\"no\",0\\n\"25-29\",\"high\",\"no\",0\\n\"25-29\",\"high\",\"no\",0\\n\"25-29\",\"high\",\"no\",0\\n\"25-29\",\"high\",\"no\",0\\n\"25-29\",\"high\",\"no\",0\\n\"25-29\",\"high\",\"no\",0\\n\"25-29\",\"high\",\"no\",0\\n\"25-29\",\"high\",\"no\",0\\n\"25-29\",\"high\",\"no\",0\\n\"25-29\",\"high\",\"no\",0\\n\"25-29\",\"high\",\"no\",0\\n\"25-29\",\"high\",\"no\",0\\n\"25-29\",\"high\",\"no\",0\\n\"25-29\",\"high\",\"no\",0\\n\"25-29\",\"high\",\"no\",0\\n\"25-29\",\"high\",\"no\",0\\n\"25-29\",\"high\",\"no\",0\\n\"25-29\",\"high\",\"no\",0\\n\"25-29\",\"high\",\"no\",0\\n\"25-29\",\"high\",\"no\",0\\n\"25-29\",\"high\",\"no\",0\\n\"25-29\",\"high\",\"no\",0\\n\"25-29\",\"high\",\"no\",0\\n\"25-29\",\"high\",\"no\",0\\n\"25-29\",\"high\",\"no\",0\\n\"25-29\",\"high\",\"no\",0\\n\"25-29\",\"high\",\"no\",0\\n\"25-29\",\"high\",\"no\",0\\n\"25-29\",\"high\",\"no\",0\\n\"25-29\",\"high\",\"no\",0\\n\"25-29\",\"high\",\"no\",0\\n\"25-29\",\"high\",\"no\",0\\n\"25-29\",\"high\",\"no\",0\\n\"25-29\",\"high\",\"no\",0\\n\"25-29\",\"high\",\"no\",0\\n\"25-29\",\"high\",\"no\",0\\n\"25-29\",\"high\",\"no\",0\\n\"25-29\",\"high\",\"no\",0\\n\"25-29\",\"high\",\"no\",0\\n\"25-29\",\"high\",\"no\",0\\n\"25-29\",\"high\",\"no\",0\\n\"25-29\",\"high\",\"no\",0\\n\"25-29\",\"high\",\"no\",0\\n\"25-29\",\"high\",\"no\",0\\n\"25-29\",\"high\",\"no\",0\\n\"25-29\",\"high\",\"no\",0\\n\"25-29\",\"high\",\"no\",0\\n\"25-29\",\"high\",\"no\",0\\n\"25-29\",\"high\",\"no\",0\\n\"25-29\",\"high\",\"no\",0\\n\"25-29\",\"high\",\"no\",0\\n\"25-29\",\"high\",\"no\",0\\n\"25-29\",\"high\",\"no\",0\\n\"25-29\",\"high\",\"no\",0\\n\"30-39\",\"low\",\"yes\",0\\n\"30-39\",\"low\",\"yes\",0\\n\"30-39\",\"low\",\"yes\",0\\n\"30-39\",\"low\",\"yes\",0\\n\"30-39\",\"low\",\"yes\",0\\n\"30-39\",\"low\",\"yes\",0\\n\"30-39\",\"low\",\"yes\",0\\n\"30-39\",\"low\",\"yes\",0\\n\"30-39\",\"low\",\"yes\",0\\n\"30-39\",\"low\",\"yes\",0\\n\"30-39\",\"low\",\"yes\",0\\n\"30-39\",\"low\",\"yes\",0\\n\"30-39\",\"low\",\"yes\",0\\n\"30-39\",\"low\",\"yes\",0\\n\"30-39\",\"low\",\"yes\",0\\n\"30-39\",\"low\",\"yes\",0\\n\"30-39\",\"low\",\"yes\",0\\n\"30-39\",\"low\",\"yes\",0\\n\"30-39\",\"low\",\"yes\",0\\n\"30-39\",\"low\",\"yes\",0\\n\"30-39\",\"low\",\"yes\",0\\n\"30-39\",\"low\",\"yes\",0\\n\"30-39\",\"low\",\"yes\",0\\n\"30-39\",\"low\",\"yes\",0\\n\"30-39\",\"low\",\"yes\",0\\n\"30-39\",\"low\",\"yes\",0\\n\"30-39\",\"low\",\"yes\",0\\n\"30-39\",\"low\",\"yes\",0\\n\"30-39\",\"low\",\"yes\",0\\n\"30-39\",\"low\",\"yes\",0\\n\"30-39\",\"low\",\"yes\",0\\n\"30-39\",\"low\",\"yes\",0\\n\"30-39\",\"low\",\"yes\",0\\n\"30-39\",\"low\",\"yes\",0\\n\"30-39\",\"low\",\"yes\",0\\n\"30-39\",\"low\",\"yes\",0\\n\"30-39\",\"low\",\"yes\",0\\n\"30-39\",\"low\",\"yes\",0\\n\"30-39\",\"low\",\"yes\",0\\n\"30-39\",\"low\",\"yes\",0\\n\"30-39\",\"low\",\"yes\",0\\n\"30-39\",\"low\",\"yes\",0\\n\"30-39\",\"low\",\"yes\",0\\n\"30-39\",\"low\",\"yes\",0\\n\"30-39\",\"low\",\"yes\",0\\n\"30-39\",\"low\",\"yes\",0\\n\"30-39\",\"low\",\"yes\",0\\n\"30-39\",\"low\",\"yes\",0\\n\"30-39\",\"low\",\"yes\",0\\n\"30-39\",\"low\",\"yes\",0\\n\"30-39\",\"low\",\"yes\",0\\n\"30-39\",\"low\",\"yes\",0\\n\"30-39\",\"low\",\"yes\",0\\n\"30-39\",\"low\",\"yes\",0\\n\"30-39\",\"low\",\"yes\",0\\n\"30-39\",\"low\",\"yes\",0\\n\"30-39\",\"low\",\"yes\",0\\n\"30-39\",\"low\",\"yes\",0\\n\"30-39\",\"low\",\"yes\",0\\n\"30-39\",\"low\",\"yes\",0\\n\"30-39\",\"low\",\"yes\",0\\n\"30-39\",\"low\",\"yes\",0\\n\"30-39\",\"low\",\"yes\",0\\n\"30-39\",\"low\",\"yes\",0\\n\"30-39\",\"low\",\"yes\",0\\n\"30-39\",\"low\",\"yes\",0\\n\"30-39\",\"low\",\"yes\",0\\n\"30-39\",\"low\",\"yes\",0\\n\"30-39\",\"low\",\"yes\",0\\n\"30-39\",\"low\",\"yes\",0\\n\"30-39\",\"low\",\"yes\",0\\n\"30-39\",\"low\",\"yes\",0\\n\"30-39\",\"low\",\"yes\",0\\n\"30-39\",\"low\",\"yes\",0\\n\"30-39\",\"low\",\"yes\",0\\n\"30-39\",\"low\",\"yes\",0\\n\"30-39\",\"low\",\"yes\",0\\n\"30-39\",\"low\",\"yes\",0\\n\"30-39\",\"low\",\"yes\",0\\n\"30-39\",\"low\",\"yes\",0\\n\"30-39\",\"low\",\"yes\",0\\n\"30-39\",\"low\",\"yes\",0\\n\"30-39\",\"low\",\"yes\",0\\n\"30-39\",\"low\",\"yes\",0\\n\"30-39\",\"low\",\"yes\",0\\n\"30-39\",\"low\",\"yes\",0\\n\"30-39\",\"low\",\"yes\",0\\n\"30-39\",\"low\",\"yes\",0\\n\"30-39\",\"low\",\"yes\",0\\n\"30-39\",\"low\",\"yes\",0\\n\"30-39\",\"low\",\"yes\",0\\n\"30-39\",\"low\",\"yes\",0\\n\"30-39\",\"low\",\"yes\",0\\n\"30-39\",\"low\",\"yes\",0\\n\"30-39\",\"low\",\"yes\",0\\n\"30-39\",\"low\",\"yes\",0\\n\"30-39\",\"low\",\"yes\",0\\n\"30-39\",\"low\",\"yes\",0\\n\"30-39\",\"low\",\"yes\",0\\n\"30-39\",\"low\",\"yes\",0\\n\"30-39\",\"low\",\"yes\",0\\n\"30-39\",\"low\",\"yes\",0\\n\"30-39\",\"low\",\"yes\",0\\n\"30-39\",\"low\",\"yes\",0\\n\"30-39\",\"low\",\"yes\",0\\n\"30-39\",\"low\",\"yes\",0\\n\"30-39\",\"low\",\"yes\",0\\n\"30-39\",\"low\",\"yes\",0\\n\"30-39\",\"low\",\"yes\",0\\n\"30-39\",\"low\",\"yes\",0\\n\"30-39\",\"low\",\"yes\",0\\n\"30-39\",\"low\",\"yes\",0\\n\"30-39\",\"low\",\"no\",0\\n\"30-39\",\"low\",\"no\",0\\n\"30-39\",\"low\",\"no\",0\\n\"30-39\",\"low\",\"no\",0\\n\"30-39\",\"low\",\"no\",0\\n\"30-39\",\"low\",\"no\",0\\n\"30-39\",\"low\",\"no\",0\\n\"30-39\",\"low\",\"no\",0\\n\"30-39\",\"low\",\"no\",0\\n\"30-39\",\"low\",\"no\",0\\n\"30-39\",\"low\",\"no\",0\\n\"30-39\",\"low\",\"no\",0\\n\"30-39\",\"low\",\"no\",0\\n\"30-39\",\"low\",\"no\",0\\n\"30-39\",\"low\",\"no\",0\\n\"30-39\",\"low\",\"no\",0\\n\"30-39\",\"low\",\"no\",0\\n\"30-39\",\"low\",\"no\",0\\n\"30-39\",\"low\",\"no\",0\\n\"30-39\",\"low\",\"no\",0\\n\"30-39\",\"low\",\"no\",0\\n\"30-39\",\"low\",\"no\",0\\n\"30-39\",\"low\",\"no\",0\\n\"30-39\",\"low\",\"no\",0\\n\"30-39\",\"low\",\"no\",0\\n\"30-39\",\"low\",\"no\",0\\n\"30-39\",\"low\",\"no\",0\\n\"30-39\",\"low\",\"no\",0\\n\"30-39\",\"low\",\"no\",0\\n\"30-39\",\"low\",\"no\",0\\n\"30-39\",\"low\",\"no\",0\\n\"30-39\",\"low\",\"no\",0\\n\"30-39\",\"low\",\"no\",0\\n\"30-39\",\"low\",\"no\",0\\n\"30-39\",\"low\",\"no\",0\\n\"30-39\",\"low\",\"no\",0\\n\"30-39\",\"low\",\"no\",0\\n\"30-39\",\"low\",\"no\",0\\n\"30-39\",\"low\",\"no\",0\\n\"30-39\",\"low\",\"no\",0\\n\"30-39\",\"low\",\"no\",0\\n\"30-39\",\"low\",\"no\",0\\n\"30-39\",\"low\",\"no\",0\\n\"30-39\",\"low\",\"no\",0\\n\"30-39\",\"low\",\"no\",0\\n\"30-39\",\"low\",\"no\",0\\n\"30-39\",\"low\",\"no\",0\\n\"30-39\",\"low\",\"no\",0\\n\"30-39\",\"low\",\"no\",0\\n\"30-39\",\"low\",\"no\",0\\n\"30-39\",\"low\",\"no\",0\\n\"30-39\",\"low\",\"no\",0\\n\"30-39\",\"low\",\"no\",0\\n\"30-39\",\"low\",\"no\",0\\n\"30-39\",\"low\",\"no\",0\\n\"30-39\",\"low\",\"no\",0\\n\"30-39\",\"low\",\"no\",0\\n\"30-39\",\"low\",\"no\",0\\n\"30-39\",\"low\",\"no\",0\\n\"30-39\",\"low\",\"no\",0\\n\"30-39\",\"low\",\"no\",0\\n\"30-39\",\"low\",\"no\",0\\n\"30-39\",\"low\",\"no\",0\\n\"30-39\",\"low\",\"no\",0\\n\"30-39\",\"low\",\"no\",0\\n\"30-39\",\"low\",\"no\",0\\n\"30-39\",\"low\",\"no\",0\\n\"30-39\",\"low\",\"no\",0\\n\"30-39\",\"low\",\"no\",0\\n\"30-39\",\"low\",\"no\",0\\n\"30-39\",\"low\",\"no\",0\\n\"30-39\",\"low\",\"no\",0\\n\"30-39\",\"low\",\"no\",0\\n\"30-39\",\"low\",\"no\",0\\n\"30-39\",\"low\",\"no\",0\\n\"30-39\",\"low\",\"no\",0\\n\"30-39\",\"low\",\"no\",0\\n\"30-39\",\"high\",\"yes\",0\\n\"30-39\",\"high\",\"yes\",0\\n\"30-39\",\"high\",\"yes\",0\\n\"30-39\",\"high\",\"yes\",0\\n\"30-39\",\"high\",\"yes\",0\\n\"30-39\",\"high\",\"yes\",0\\n\"30-39\",\"high\",\"yes\",0\\n\"30-39\",\"high\",\"yes\",0\\n\"30-39\",\"high\",\"yes\",0\\n\"30-39\",\"high\",\"yes\",0\\n\"30-39\",\"high\",\"yes\",0\\n\"30-39\",\"high\",\"yes\",0\\n\"30-39\",\"high\",\"yes\",0\\n\"30-39\",\"high\",\"yes\",0\\n\"30-39\",\"high\",\"yes\",0\\n\"30-39\",\"high\",\"yes\",0\\n\"30-39\",\"high\",\"yes\",0\\n\"30-39\",\"high\",\"yes\",0\\n\"30-39\",\"high\",\"yes\",0\\n\"30-39\",\"high\",\"yes\",0\\n\"30-39\",\"high\",\"yes\",0\\n\"30-39\",\"high\",\"yes\",0\\n\"30-39\",\"high\",\"yes\",0\\n\"30-39\",\"high\",\"yes\",0\\n\"30-39\",\"high\",\"yes\",0\\n\"30-39\",\"high\",\"yes\",0\\n\"30-39\",\"high\",\"yes\",0\\n\"30-39\",\"high\",\"yes\",0\\n\"30-39\",\"high\",\"yes\",0\\n\"30-39\",\"high\",\"yes\",0\\n\"30-39\",\"high\",\"yes\",0\\n\"30-39\",\"high\",\"yes\",0\\n\"30-39\",\"high\",\"yes\",0\\n\"30-39\",\"high\",\"yes\",0\\n\"30-39\",\"high\",\"yes\",0\\n\"30-39\",\"high\",\"yes\",0\\n\"30-39\",\"high\",\"yes\",0\\n\"30-39\",\"high\",\"yes\",0\\n\"30-39\",\"high\",\"yes\",0\\n\"30-39\",\"high\",\"yes\",0\\n\"30-39\",\"high\",\"yes\",0\\n\"30-39\",\"high\",\"yes\",0\\n\"30-39\",\"high\",\"yes\",0\\n\"30-39\",\"high\",\"yes\",0\\n\"30-39\",\"high\",\"yes\",0\\n\"30-39\",\"high\",\"yes\",0\\n\"30-39\",\"high\",\"yes\",0\\n\"30-39\",\"high\",\"yes\",0\\n\"30-39\",\"high\",\"yes\",0\\n\"30-39\",\"high\",\"yes\",0\\n\"30-39\",\"high\",\"yes\",0\\n\"30-39\",\"high\",\"yes\",0\\n\"30-39\",\"high\",\"yes\",0\\n\"30-39\",\"high\",\"yes\",0\\n\"30-39\",\"high\",\"yes\",0\\n\"30-39\",\"high\",\"yes\",0\\n\"30-39\",\"high\",\"yes\",0\\n\"30-39\",\"high\",\"yes\",0\\n\"30-39\",\"high\",\"yes\",0\\n\"30-39\",\"high\",\"yes\",0\\n\"30-39\",\"high\",\"yes\",0\\n\"30-39\",\"high\",\"yes\",0\\n\"30-39\",\"high\",\"yes\",0\\n\"30-39\",\"high\",\"yes\",0\\n\"30-39\",\"high\",\"yes\",0\\n\"30-39\",\"high\",\"yes\",0\\n\"30-39\",\"high\",\"yes\",0\\n\"30-39\",\"high\",\"yes\",0\\n\"30-39\",\"high\",\"yes\",0\\n\"30-39\",\"high\",\"yes\",0\\n\"30-39\",\"high\",\"yes\",0\\n\"30-39\",\"high\",\"yes\",0\\n\"30-39\",\"high\",\"yes\",0\\n\"30-39\",\"high\",\"yes\",0\\n\"30-39\",\"high\",\"yes\",0\\n\"30-39\",\"high\",\"yes\",0\\n\"30-39\",\"high\",\"yes\",0\\n\"30-39\",\"high\",\"yes\",0\\n\"30-39\",\"high\",\"yes\",0\\n\"30-39\",\"high\",\"yes\",0\\n\"30-39\",\"high\",\"yes\",0\\n\"30-39\",\"high\",\"yes\",0\\n\"30-39\",\"high\",\"yes\",0\\n\"30-39\",\"high\",\"yes\",0\\n\"30-39\",\"high\",\"yes\",0\\n\"30-39\",\"high\",\"yes\",0\\n\"30-39\",\"high\",\"yes\",0\\n\"30-39\",\"high\",\"yes\",0\\n\"30-39\",\"high\",\"yes\",0\\n\"30-39\",\"high\",\"yes\",0\\n\"30-39\",\"high\",\"yes\",0\\n\"30-39\",\"high\",\"yes\",0\\n\"30-39\",\"high\",\"yes\",0\\n\"30-39\",\"high\",\"yes\",0\\n\"30-39\",\"high\",\"yes\",0\\n\"30-39\",\"high\",\"yes\",0\\n\"30-39\",\"high\",\"yes\",0\\n\"30-39\",\"high\",\"yes\",0\\n\"30-39\",\"high\",\"yes\",0\\n\"30-39\",\"high\",\"yes\",0\\n\"30-39\",\"high\",\"yes\",0\\n\"30-39\",\"high\",\"yes\",0\\n\"30-39\",\"high\",\"yes\",0\\n\"30-39\",\"high\",\"yes\",0\\n\"30-39\",\"high\",\"yes\",0\\n\"30-39\",\"high\",\"yes\",0\\n\"30-39\",\"high\",\"yes\",0\\n\"30-39\",\"high\",\"yes\",0\\n\"30-39\",\"high\",\"yes\",0\\n\"30-39\",\"high\",\"yes\",0\\n\"30-39\",\"high\",\"yes\",0\\n\"30-39\",\"high\",\"yes\",0\\n\"30-39\",\"high\",\"yes\",0\\n\"30-39\",\"high\",\"yes\",0\\n\"30-39\",\"high\",\"yes\",0\\n\"30-39\",\"high\",\"yes\",0\\n\"30-39\",\"high\",\"yes\",0\\n\"30-39\",\"high\",\"yes\",0\\n\"30-39\",\"high\",\"no\",0\\n\"30-39\",\"high\",\"no\",0\\n\"30-39\",\"high\",\"no\",0\\n\"30-39\",\"high\",\"no\",0\\n\"30-39\",\"high\",\"no\",0\\n\"30-39\",\"high\",\"no\",0\\n\"30-39\",\"high\",\"no\",0\\n\"30-39\",\"high\",\"no\",0\\n\"30-39\",\"high\",\"no\",0\\n\"30-39\",\"high\",\"no\",0\\n\"30-39\",\"high\",\"no\",0\\n\"30-39\",\"high\",\"no\",0\\n\"30-39\",\"high\",\"no\",0\\n\"30-39\",\"high\",\"no\",0\\n\"30-39\",\"high\",\"no\",0\\n\"30-39\",\"high\",\"no\",0\\n\"30-39\",\"high\",\"no\",0\\n\"30-39\",\"high\",\"no\",0\\n\"30-39\",\"high\",\"no\",0\\n\"30-39\",\"high\",\"no\",0\\n\"30-39\",\"high\",\"no\",0\\n\"30-39\",\"high\",\"no\",0\\n\"30-39\",\"high\",\"no\",0\\n\"30-39\",\"high\",\"no\",0\\n\"30-39\",\"high\",\"no\",0\\n\"30-39\",\"high\",\"no\",0\\n\"30-39\",\"high\",\"no\",0\\n\"30-39\",\"high\",\"no\",0\\n\"30-39\",\"high\",\"no\",0\\n\"30-39\",\"high\",\"no\",0\\n\"30-39\",\"high\",\"no\",0\\n\"30-39\",\"high\",\"no\",0\\n\"30-39\",\"high\",\"no\",0\\n\"30-39\",\"high\",\"no\",0\\n\"30-39\",\"high\",\"no\",0\\n\"30-39\",\"high\",\"no\",0\\n\"30-39\",\"high\",\"no\",0\\n\"30-39\",\"high\",\"no\",0\\n\"30-39\",\"high\",\"no\",0\\n\"30-39\",\"high\",\"no\",0\\n\"30-39\",\"high\",\"no\",0\\n\"30-39\",\"high\",\"no\",0\\n\"30-39\",\"high\",\"no\",0\\n\"30-39\",\"high\",\"no\",0\\n\"30-39\",\"high\",\"no\",0\\n\"30-39\",\"high\",\"no\",0\\n\"30-39\",\"high\",\"no\",0\\n\"30-39\",\"high\",\"no\",0\\n\"30-39\",\"high\",\"no\",0\\n\"30-39\",\"high\",\"no\",0\\n\"30-39\",\"high\",\"no\",0\\n\"30-39\",\"high\",\"no\",0\\n\"30-39\",\"high\",\"no\",0\\n\"30-39\",\"high\",\"no\",0\\n\"30-39\",\"high\",\"no\",0\\n\"30-39\",\"high\",\"no\",0\\n\"30-39\",\"high\",\"no\",0\\n\"30-39\",\"high\",\"no\",0\\n\"30-39\",\"high\",\"no\",0\\n\"30-39\",\"high\",\"no\",0\\n\"30-39\",\"high\",\"no\",0\\n\"30-39\",\"high\",\"no\",0\\n\"30-39\",\"high\",\"no\",0\\n\"30-39\",\"high\",\"no\",0\\n\"30-39\",\"high\",\"no\",0\\n\"30-39\",\"high\",\"no\",0\\n\"30-39\",\"high\",\"no\",0\\n\"30-39\",\"high\",\"no\",0\\n\"40-49\",\"low\",\"yes\",0\\n\"40-49\",\"low\",\"yes\",0\\n\"40-49\",\"low\",\"yes\",0\\n\"40-49\",\"low\",\"yes\",0\\n\"40-49\",\"low\",\"yes\",0\\n\"40-49\",\"low\",\"yes\",0\\n\"40-49\",\"low\",\"yes\",0\\n\"40-49\",\"low\",\"yes\",0\\n\"40-49\",\"low\",\"yes\",0\\n\"40-49\",\"low\",\"yes\",0\\n\"40-49\",\"low\",\"yes\",0\\n\"40-49\",\"low\",\"yes\",0\\n\"40-49\",\"low\",\"yes\",0\\n\"40-49\",\"low\",\"yes\",0\\n\"40-49\",\"low\",\"yes\",0\\n\"40-49\",\"low\",\"yes\",0\\n\"40-49\",\"low\",\"yes\",0\\n\"40-49\",\"low\",\"yes\",0\\n\"40-49\",\"low\",\"yes\",0\\n\"40-49\",\"low\",\"yes\",0\\n\"40-49\",\"low\",\"yes\",0\\n\"40-49\",\"low\",\"yes\",0\\n\"40-49\",\"low\",\"yes\",0\\n\"40-49\",\"low\",\"yes\",0\\n\"40-49\",\"low\",\"yes\",0\\n\"40-49\",\"low\",\"yes\",0\\n\"40-49\",\"low\",\"yes\",0\\n\"40-49\",\"low\",\"yes\",0\\n\"40-49\",\"low\",\"yes\",0\\n\"40-49\",\"low\",\"yes\",0\\n\"40-49\",\"low\",\"yes\",0\\n\"40-49\",\"low\",\"yes\",0\\n\"40-49\",\"low\",\"yes\",0\\n\"40-49\",\"low\",\"yes\",0\\n\"40-49\",\"low\",\"yes\",0\\n\"40-49\",\"low\",\"no\",0\\n\"40-49\",\"low\",\"no\",0\\n\"40-49\",\"low\",\"no\",0\\n\"40-49\",\"low\",\"no\",0\\n\"40-49\",\"low\",\"no\",0\\n\"40-49\",\"low\",\"no\",0\\n\"40-49\",\"low\",\"no\",0\\n\"40-49\",\"low\",\"no\",0\\n\"40-49\",\"low\",\"no\",0\\n\"40-49\",\"low\",\"no\",0\\n\"40-49\",\"low\",\"no\",0\\n\"40-49\",\"low\",\"no\",0\\n\"40-49\",\"low\",\"no\",0\\n\"40-49\",\"low\",\"no\",0\\n\"40-49\",\"low\",\"no\",0\\n\"40-49\",\"low\",\"no\",0\\n\"40-49\",\"low\",\"no\",0\\n\"40-49\",\"low\",\"no\",0\\n\"40-49\",\"low\",\"no\",0\\n\"40-49\",\"low\",\"no\",0\\n\"40-49\",\"low\",\"no\",0\\n\"40-49\",\"low\",\"no\",0\\n\"40-49\",\"low\",\"no\",0\\n\"40-49\",\"low\",\"no\",0\\n\"40-49\",\"low\",\"no\",0\\n\"40-49\",\"low\",\"no\",0\\n\"40-49\",\"low\",\"no\",0\\n\"40-49\",\"low\",\"no\",0\\n\"40-49\",\"low\",\"no\",0\\n\"40-49\",\"low\",\"no\",0\\n\"40-49\",\"low\",\"no\",0\\n\"40-49\",\"low\",\"no\",0\\n\"40-49\",\"low\",\"no\",0\\n\"40-49\",\"low\",\"no\",0\\n\"40-49\",\"low\",\"no\",0\\n\"40-49\",\"low\",\"no\",0\\n\"40-49\",\"low\",\"no\",0\\n\"40-49\",\"low\",\"no\",0\\n\"40-49\",\"low\",\"no\",0\\n\"40-49\",\"low\",\"no\",0\\n\"40-49\",\"low\",\"no\",0\\n\"40-49\",\"low\",\"no\",0\\n\"40-49\",\"low\",\"no\",0\\n\"40-49\",\"low\",\"no\",0\\n\"40-49\",\"low\",\"no\",0\\n\"40-49\",\"low\",\"no\",0\\n\"40-49\",\"high\",\"yes\",0\\n\"40-49\",\"high\",\"yes\",0\\n\"40-49\",\"high\",\"yes\",0\\n\"40-49\",\"high\",\"yes\",0\\n\"40-49\",\"high\",\"yes\",0\\n\"40-49\",\"high\",\"yes\",0\\n\"40-49\",\"high\",\"yes\",0\\n\"40-49\",\"high\",\"yes\",0\\n\"40-49\",\"high\",\"no\",0\\n\"40-49\",\"high\",\"no\",0\\n\"40-49\",\"high\",\"no\",0\\n\"40-49\",\"high\",\"no\",0\\n\"40-49\",\"high\",\"no\",0\\n\"40-49\",\"high\",\"no\",0\\n\"40-49\",\"high\",\"no\",0\\n\"40-49\",\"high\",\"no\",0\\n\"40-49\",\"high\",\"no\",0\\n\"40-49\",\"high\",\"no\",0\\n\"40-49\",\"high\",\"no\",0\\n\"40-49\",\"high\",\"no\",0\\n\"<25\",\"low\",\"yes\",1\\n\"<25\",\"low\",\"yes\",1\\n\"<25\",\"low\",\"yes\",1\\n\"<25\",\"low\",\"yes\",1\\n\"<25\",\"low\",\"yes\",1\\n\"<25\",\"low\",\"yes\",1\\n\"<25\",\"low\",\"no\",1\\n\"<25\",\"low\",\"no\",1\\n\"<25\",\"low\",\"no\",1\\n\"<25\",\"low\",\"no\",1\\n\"<25\",\"high\",\"yes\",1\\n\"<25\",\"high\",\"yes\",1\\n\"<25\",\"high\",\"yes\",1\\n\"<25\",\"high\",\"yes\",1\\n\"<25\",\"high\",\"yes\",1\\n\"<25\",\"high\",\"yes\",1\\n\"<25\",\"high\",\"yes\",1\\n\"<25\",\"high\",\"yes\",1\\n\"<25\",\"high\",\"yes\",1\\n\"<25\",\"high\",\"yes\",1\\n\"<25\",\"high\",\"yes\",1\\n\"<25\",\"high\",\"yes\",1\\n\"<25\",\"high\",\"yes\",1\\n\"<25\",\"high\",\"yes\",1\\n\"<25\",\"high\",\"yes\",1\\n\"<25\",\"high\",\"yes\",1\\n\"<25\",\"high\",\"yes\",1\\n\"<25\",\"high\",\"yes\",1\\n\"<25\",\"high\",\"yes\",1\\n\"<25\",\"high\",\"yes\",1\\n\"<25\",\"high\",\"yes\",1\\n\"<25\",\"high\",\"yes\",1\\n\"<25\",\"high\",\"yes\",1\\n\"<25\",\"high\",\"yes\",1\\n\"<25\",\"high\",\"yes\",1\\n\"<25\",\"high\",\"yes\",1\\n\"<25\",\"high\",\"yes\",1\\n\"<25\",\"high\",\"yes\",1\\n\"<25\",\"high\",\"yes\",1\\n\"<25\",\"high\",\"yes\",1\\n\"<25\",\"high\",\"yes\",1\\n\"<25\",\"high\",\"yes\",1\\n\"<25\",\"high\",\"yes\",1\\n\"<25\",\"high\",\"yes\",1\\n\"<25\",\"high\",\"yes\",1\\n\"<25\",\"high\",\"yes\",1\\n\"<25\",\"high\",\"yes\",1\\n\"<25\",\"high\",\"yes\",1\\n\"<25\",\"high\",\"yes\",1\\n\"<25\",\"high\",\"yes\",1\\n\"<25\",\"high\",\"yes\",1\\n\"<25\",\"high\",\"yes\",1\\n\"<25\",\"high\",\"yes\",1\\n\"<25\",\"high\",\"yes\",1\\n\"<25\",\"high\",\"yes\",1\\n\"<25\",\"high\",\"yes\",1\\n\"<25\",\"high\",\"yes\",1\\n\"<25\",\"high\",\"yes\",1\\n\"<25\",\"high\",\"yes\",1\\n\"<25\",\"high\",\"yes\",1\\n\"<25\",\"high\",\"yes\",1\\n\"<25\",\"high\",\"yes\",1\\n\"<25\",\"high\",\"no\",1\\n\"<25\",\"high\",\"no\",1\\n\"<25\",\"high\",\"no\",1\\n\"<25\",\"high\",\"no\",1\\n\"<25\",\"high\",\"no\",1\\n\"<25\",\"high\",\"no\",1\\n\"<25\",\"high\",\"no\",1\\n\"<25\",\"high\",\"no\",1\\n\"<25\",\"high\",\"no\",1\\n\"<25\",\"high\",\"no\",1\\n\"25-29\",\"low\",\"yes\",1\\n\"25-29\",\"low\",\"yes\",1\\n\"25-29\",\"low\",\"yes\",1\\n\"25-29\",\"low\",\"yes\",1\\n\"25-29\",\"low\",\"yes\",1\\n\"25-29\",\"low\",\"yes\",1\\n\"25-29\",\"low\",\"yes\",1\\n\"25-29\",\"low\",\"yes\",1\\n\"25-29\",\"low\",\"yes\",1\\n\"25-29\",\"low\",\"yes\",1\\n\"25-29\",\"low\",\"yes\",1\\n\"25-29\",\"low\",\"yes\",1\\n\"25-29\",\"low\",\"yes\",1\\n\"25-29\",\"low\",\"yes\",1\\n\"25-29\",\"low\",\"no\",1\\n\"25-29\",\"low\",\"no\",1\\n\"25-29\",\"low\",\"no\",1\\n\"25-29\",\"low\",\"no\",1\\n\"25-29\",\"low\",\"no\",1\\n\"25-29\",\"low\",\"no\",1\\n\"25-29\",\"low\",\"no\",1\\n\"25-29\",\"low\",\"no\",1\\n\"25-29\",\"low\",\"no\",1\\n\"25-29\",\"low\",\"no\",1\\n\"25-29\",\"high\",\"yes\",1\\n\"25-29\",\"high\",\"yes\",1\\n\"25-29\",\"high\",\"yes\",1\\n\"25-29\",\"high\",\"yes\",1\\n\"25-29\",\"high\",\"yes\",1\\n\"25-29\",\"high\",\"yes\",1\\n\"25-29\",\"high\",\"yes\",1\\n\"25-29\",\"high\",\"yes\",1\\n\"25-29\",\"high\",\"yes\",1\\n\"25-29\",\"high\",\"yes\",1\\n\"25-29\",\"high\",\"yes\",1\\n\"25-29\",\"high\",\"yes\",1\\n\"25-29\",\"high\",\"yes\",1\\n\"25-29\",\"high\",\"yes\",1\\n\"25-29\",\"high\",\"yes\",1\\n\"25-29\",\"high\",\"yes\",1\\n\"25-29\",\"high\",\"yes\",1\\n\"25-29\",\"high\",\"yes\",1\\n\"25-29\",\"high\",\"yes\",1\\n\"25-29\",\"high\",\"yes\",1\\n\"25-29\",\"high\",\"yes\",1\\n\"25-29\",\"high\",\"yes\",1\\n\"25-29\",\"high\",\"yes\",1\\n\"25-29\",\"high\",\"yes\",1\\n\"25-29\",\"high\",\"yes\",1\\n\"25-29\",\"high\",\"yes\",1\\n\"25-29\",\"high\",\"yes\",1\\n\"25-29\",\"high\",\"yes\",1\\n\"25-29\",\"high\",\"yes\",1\\n\"25-29\",\"high\",\"yes\",1\\n\"25-29\",\"high\",\"yes\",1\\n\"25-29\",\"high\",\"yes\",1\\n\"25-29\",\"high\",\"yes\",1\\n\"25-29\",\"high\",\"yes\",1\\n\"25-29\",\"high\",\"yes\",1\\n\"25-29\",\"high\",\"yes\",1\\n\"25-29\",\"high\",\"yes\",1\\n\"25-29\",\"high\",\"yes\",1\\n\"25-29\",\"high\",\"yes\",1\\n\"25-29\",\"high\",\"yes\",1\\n\"25-29\",\"high\",\"yes\",1\\n\"25-29\",\"high\",\"yes\",1\\n\"25-29\",\"high\",\"yes\",1\\n\"25-29\",\"high\",\"yes\",1\\n\"25-29\",\"high\",\"yes\",1\\n\"25-29\",\"high\",\"yes\",1\\n\"25-29\",\"high\",\"yes\",1\\n\"25-29\",\"high\",\"yes\",1\\n\"25-29\",\"high\",\"yes\",1\\n\"25-29\",\"high\",\"yes\",1\\n\"25-29\",\"high\",\"yes\",1\\n\"25-29\",\"high\",\"yes\",1\\n\"25-29\",\"high\",\"yes\",1\\n\"25-29\",\"high\",\"yes\",1\\n\"25-29\",\"high\",\"no\",1\\n\"25-29\",\"high\",\"no\",1\\n\"25-29\",\"high\",\"no\",1\\n\"25-29\",\"high\",\"no\",1\\n\"25-29\",\"high\",\"no\",1\\n\"25-29\",\"high\",\"no\",1\\n\"25-29\",\"high\",\"no\",1\\n\"25-29\",\"high\",\"no\",1\\n\"25-29\",\"high\",\"no\",1\\n\"25-29\",\"high\",\"no\",1\\n\"25-29\",\"high\",\"no\",1\\n\"25-29\",\"high\",\"no\",1\\n\"25-29\",\"high\",\"no\",1\\n\"25-29\",\"high\",\"no\",1\\n\"25-29\",\"high\",\"no\",1\\n\"25-29\",\"high\",\"no\",1\\n\"25-29\",\"high\",\"no\",1\\n\"25-29\",\"high\",\"no\",1\\n\"25-29\",\"high\",\"no\",1\\n\"25-29\",\"high\",\"no\",1\\n\"25-29\",\"high\",\"no\",1\\n\"25-29\",\"high\",\"no\",1\\n\"25-29\",\"high\",\"no\",1\\n\"25-29\",\"high\",\"no\",1\\n\"25-29\",\"high\",\"no\",1\\n\"25-29\",\"high\",\"no\",1\\n\"25-29\",\"high\",\"no\",1\\n\"30-39\",\"low\",\"yes\",1\\n\"30-39\",\"low\",\"yes\",1\\n\"30-39\",\"low\",\"yes\",1\\n\"30-39\",\"low\",\"yes\",1\\n\"30-39\",\"low\",\"yes\",1\\n\"30-39\",\"low\",\"yes\",1\\n\"30-39\",\"low\",\"yes\",1\\n\"30-39\",\"low\",\"yes\",1\\n\"30-39\",\"low\",\"yes\",1\\n\"30-39\",\"low\",\"yes\",1\\n\"30-39\",\"low\",\"yes\",1\\n\"30-39\",\"low\",\"yes\",1\\n\"30-39\",\"low\",\"yes\",1\\n\"30-39\",\"low\",\"yes\",1\\n\"30-39\",\"low\",\"yes\",1\\n\"30-39\",\"low\",\"yes\",1\\n\"30-39\",\"low\",\"yes\",1\\n\"30-39\",\"low\",\"yes\",1\\n\"30-39\",\"low\",\"yes\",1\\n\"30-39\",\"low\",\"yes\",1\\n\"30-39\",\"low\",\"yes\",1\\n\"30-39\",\"low\",\"yes\",1\\n\"30-39\",\"low\",\"yes\",1\\n\"30-39\",\"low\",\"yes\",1\\n\"30-39\",\"low\",\"yes\",1\\n\"30-39\",\"low\",\"yes\",1\\n\"30-39\",\"low\",\"yes\",1\\n\"30-39\",\"low\",\"yes\",1\\n\"30-39\",\"low\",\"yes\",1\\n\"30-39\",\"low\",\"yes\",1\\n\"30-39\",\"low\",\"yes\",1\\n\"30-39\",\"low\",\"yes\",1\\n\"30-39\",\"low\",\"yes\",1\\n\"30-39\",\"low\",\"no\",1\\n\"30-39\",\"low\",\"no\",1\\n\"30-39\",\"low\",\"no\",1\\n\"30-39\",\"low\",\"no\",1\\n\"30-39\",\"low\",\"no\",1\\n\"30-39\",\"low\",\"no\",1\\n\"30-39\",\"low\",\"no\",1\\n\"30-39\",\"low\",\"no\",1\\n\"30-39\",\"low\",\"no\",1\\n\"30-39\",\"low\",\"no\",1\\n\"30-39\",\"low\",\"no\",1\\n\"30-39\",\"low\",\"no\",1\\n\"30-39\",\"low\",\"no\",1\\n\"30-39\",\"low\",\"no\",1\\n\"30-39\",\"low\",\"no\",1\\n\"30-39\",\"low\",\"no\",1\\n\"30-39\",\"low\",\"no\",1\\n\"30-39\",\"low\",\"no\",1\\n\"30-39\",\"low\",\"no\",1\\n\"30-39\",\"low\",\"no\",1\\n\"30-39\",\"low\",\"no\",1\\n\"30-39\",\"low\",\"no\",1\\n\"30-39\",\"low\",\"no\",1\\n\"30-39\",\"low\",\"no\",1\\n\"30-39\",\"low\",\"no\",1\\n\"30-39\",\"low\",\"no\",1\\n\"30-39\",\"low\",\"no\",1\\n\"30-39\",\"low\",\"no\",1\\n\"30-39\",\"low\",\"no\",1\\n\"30-39\",\"low\",\"no\",1\\n\"30-39\",\"low\",\"no\",1\\n\"30-39\",\"low\",\"no\",1\\n\"30-39\",\"low\",\"no\",1\\n\"30-39\",\"low\",\"no\",1\\n\"30-39\",\"low\",\"no\",1\\n\"30-39\",\"low\",\"no\",1\\n\"30-39\",\"low\",\"no\",1\\n\"30-39\",\"low\",\"no\",1\\n\"30-39\",\"low\",\"no\",1\\n\"30-39\",\"low\",\"no\",1\\n\"30-39\",\"low\",\"no\",1\\n\"30-39\",\"low\",\"no\",1\\n\"30-39\",\"low\",\"no\",1\\n\"30-39\",\"low\",\"no\",1\\n\"30-39\",\"low\",\"no\",1\\n\"30-39\",\"low\",\"no\",1\\n\"30-39\",\"low\",\"no\",1\\n\"30-39\",\"low\",\"no\",1\\n\"30-39\",\"low\",\"no\",1\\n\"30-39\",\"low\",\"no\",1\\n\"30-39\",\"low\",\"no\",1\\n\"30-39\",\"low\",\"no\",1\\n\"30-39\",\"low\",\"no\",1\\n\"30-39\",\"low\",\"no\",1\\n\"30-39\",\"low\",\"no\",1\\n\"30-39\",\"low\",\"no\",1\\n\"30-39\",\"low\",\"no\",1\\n\"30-39\",\"low\",\"no\",1\\n\"30-39\",\"low\",\"no\",1\\n\"30-39\",\"low\",\"no\",1\\n\"30-39\",\"low\",\"no\",1\\n\"30-39\",\"low\",\"no\",1\\n\"30-39\",\"low\",\"no\",1\\n\"30-39\",\"low\",\"no\",1\\n\"30-39\",\"low\",\"no\",1\\n\"30-39\",\"low\",\"no\",1\\n\"30-39\",\"low\",\"no\",1\\n\"30-39\",\"low\",\"no\",1\\n\"30-39\",\"low\",\"no\",1\\n\"30-39\",\"low\",\"no\",1\\n\"30-39\",\"low\",\"no\",1\\n\"30-39\",\"low\",\"no\",1\\n\"30-39\",\"low\",\"no\",1\\n\"30-39\",\"low\",\"no\",1\\n\"30-39\",\"low\",\"no\",1\\n\"30-39\",\"low\",\"no\",1\\n\"30-39\",\"low\",\"no\",1\\n\"30-39\",\"low\",\"no\",1\\n\"30-39\",\"low\",\"no\",1\\n\"30-39\",\"low\",\"no\",1\\n\"30-39\",\"high\",\"yes\",1\\n\"30-39\",\"high\",\"yes\",1\\n\"30-39\",\"high\",\"yes\",1\\n\"30-39\",\"high\",\"yes\",1\\n\"30-39\",\"high\",\"yes\",1\\n\"30-39\",\"high\",\"yes\",1\\n\"30-39\",\"high\",\"yes\",1\\n\"30-39\",\"high\",\"yes\",1\\n\"30-39\",\"high\",\"yes\",1\\n\"30-39\",\"high\",\"yes\",1\\n\"30-39\",\"high\",\"yes\",1\\n\"30-39\",\"high\",\"yes\",1\\n\"30-39\",\"high\",\"yes\",1\\n\"30-39\",\"high\",\"yes\",1\\n\"30-39\",\"high\",\"yes\",1\\n\"30-39\",\"high\",\"yes\",1\\n\"30-39\",\"high\",\"yes\",1\\n\"30-39\",\"high\",\"yes\",1\\n\"30-39\",\"high\",\"yes\",1\\n\"30-39\",\"high\",\"yes\",1\\n\"30-39\",\"high\",\"yes\",1\\n\"30-39\",\"high\",\"yes\",1\\n\"30-39\",\"high\",\"yes\",1\\n\"30-39\",\"high\",\"yes\",1\\n\"30-39\",\"high\",\"yes\",1\\n\"30-39\",\"high\",\"yes\",1\\n\"30-39\",\"high\",\"yes\",1\\n\"30-39\",\"high\",\"yes\",1\\n\"30-39\",\"high\",\"yes\",1\\n\"30-39\",\"high\",\"yes\",1\\n\"30-39\",\"high\",\"yes\",1\\n\"30-39\",\"high\",\"yes\",1\\n\"30-39\",\"high\",\"yes\",1\\n\"30-39\",\"high\",\"yes\",1\\n\"30-39\",\"high\",\"yes\",1\\n\"30-39\",\"high\",\"yes\",1\\n\"30-39\",\"high\",\"yes\",1\\n\"30-39\",\"high\",\"yes\",1\\n\"30-39\",\"high\",\"yes\",1\\n\"30-39\",\"high\",\"yes\",1\\n\"30-39\",\"high\",\"yes\",1\\n\"30-39\",\"high\",\"yes\",1\\n\"30-39\",\"high\",\"yes\",1\\n\"30-39\",\"high\",\"yes\",1\\n\"30-39\",\"high\",\"yes\",1\\n\"30-39\",\"high\",\"yes\",1\\n\"30-39\",\"high\",\"no\",1\\n\"30-39\",\"high\",\"no\",1\\n\"30-39\",\"high\",\"no\",1\\n\"30-39\",\"high\",\"no\",1\\n\"30-39\",\"high\",\"no\",1\\n\"30-39\",\"high\",\"no\",1\\n\"30-39\",\"high\",\"no\",1\\n\"30-39\",\"high\",\"no\",1\\n\"30-39\",\"high\",\"no\",1\\n\"30-39\",\"high\",\"no\",1\\n\"30-39\",\"high\",\"no\",1\\n\"30-39\",\"high\",\"no\",1\\n\"30-39\",\"high\",\"no\",1\\n\"30-39\",\"high\",\"no\",1\\n\"30-39\",\"high\",\"no\",1\\n\"30-39\",\"high\",\"no\",1\\n\"30-39\",\"high\",\"no\",1\\n\"30-39\",\"high\",\"no\",1\\n\"30-39\",\"high\",\"no\",1\\n\"30-39\",\"high\",\"no\",1\\n\"30-39\",\"high\",\"no\",1\\n\"30-39\",\"high\",\"no\",1\\n\"30-39\",\"high\",\"no\",1\\n\"30-39\",\"high\",\"no\",1\\n\"30-39\",\"high\",\"no\",1\\n\"30-39\",\"high\",\"no\",1\\n\"30-39\",\"high\",\"no\",1\\n\"30-39\",\"high\",\"no\",1\\n\"30-39\",\"high\",\"no\",1\\n\"30-39\",\"high\",\"no\",1\\n\"30-39\",\"high\",\"no\",1\\n\"30-39\",\"high\",\"no\",1\\n\"30-39\",\"high\",\"no\",1\\n\"30-39\",\"high\",\"no\",1\\n\"30-39\",\"high\",\"no\",1\\n\"30-39\",\"high\",\"no\",1\\n\"30-39\",\"high\",\"no\",1\\n\"30-39\",\"high\",\"no\",1\\n\"30-39\",\"high\",\"no\",1\\n\"30-39\",\"high\",\"no\",1\\n\"30-39\",\"high\",\"no\",1\\n\"30-39\",\"high\",\"no\",1\\n\"30-39\",\"high\",\"no\",1\\n\"30-39\",\"high\",\"no\",1\\n\"30-39\",\"high\",\"no\",1\\n\"30-39\",\"high\",\"no\",1\\n\"30-39\",\"high\",\"no\",1\\n\"30-39\",\"high\",\"no\",1\\n\"30-39\",\"high\",\"no\",1\\n\"30-39\",\"high\",\"no\",1\\n\"30-39\",\"high\",\"no\",1\\n\"30-39\",\"high\",\"no\",1\\n\"30-39\",\"high\",\"no\",1\\n\"30-39\",\"high\",\"no\",1\\n\"30-39\",\"high\",\"no\",1\\n\"30-39\",\"high\",\"no\",1\\n\"30-39\",\"high\",\"no\",1\\n\"30-39\",\"high\",\"no\",1\\n\"30-39\",\"high\",\"no\",1\\n\"30-39\",\"high\",\"no\",1\\n\"30-39\",\"high\",\"no\",1\\n\"30-39\",\"high\",\"no\",1\\n\"30-39\",\"high\",\"no\",1\\n\"30-39\",\"high\",\"no\",1\\n\"30-39\",\"high\",\"no\",1\\n\"30-39\",\"high\",\"no\",1\\n\"30-39\",\"high\",\"no\",1\\n\"30-39\",\"high\",\"no\",1\\n\"30-39\",\"high\",\"no\",1\\n\"30-39\",\"high\",\"no\",1\\n\"30-39\",\"high\",\"no\",1\\n\"30-39\",\"high\",\"no\",1\\n\"30-39\",\"high\",\"no\",1\\n\"30-39\",\"high\",\"no\",1\\n\"30-39\",\"high\",\"no\",1\\n\"30-39\",\"high\",\"no\",1\\n\"30-39\",\"high\",\"no\",1\\n\"30-39\",\"high\",\"no\",1\\n\"40-49\",\"low\",\"yes\",1\\n\"40-49\",\"low\",\"yes\",1\\n\"40-49\",\"low\",\"yes\",1\\n\"40-49\",\"low\",\"yes\",1\\n\"40-49\",\"low\",\"yes\",1\\n\"40-49\",\"low\",\"yes\",1\\n\"40-49\",\"low\",\"no\",1\\n\"40-49\",\"low\",\"no\",1\\n\"40-49\",\"low\",\"no\",1\\n\"40-49\",\"low\",\"no\",1\\n\"40-49\",\"low\",\"no\",1\\n\"40-49\",\"low\",\"no\",1\\n\"40-49\",\"low\",\"no\",1\\n\"40-49\",\"low\",\"no\",1\\n\"40-49\",\"low\",\"no\",1\\n\"40-49\",\"low\",\"no\",1\\n\"40-49\",\"low\",\"no\",1\\n\"40-49\",\"low\",\"no\",1\\n\"40-49\",\"low\",\"no\",1\\n\"40-49\",\"low\",\"no\",1\\n\"40-49\",\"low\",\"no\",1\\n\"40-49\",\"low\",\"no\",1\\n\"40-49\",\"low\",\"no\",1\\n\"40-49\",\"low\",\"no\",1\\n\"40-49\",\"low\",\"no\",1\\n\"40-49\",\"low\",\"no\",1\\n\"40-49\",\"low\",\"no\",1\\n\"40-49\",\"low\",\"no\",1\\n\"40-49\",\"low\",\"no\",1\\n\"40-49\",\"low\",\"no\",1\\n\"40-49\",\"low\",\"no\",1\\n\"40-49\",\"low\",\"no\",1\\n\"40-49\",\"low\",\"no\",1\\n\"40-49\",\"low\",\"no\",1\\n\"40-49\",\"low\",\"no\",1\\n\"40-49\",\"low\",\"no\",1\\n\"40-49\",\"low\",\"no\",1\\n\"40-49\",\"low\",\"no\",1\\n\"40-49\",\"low\",\"no\",1\\n\"40-49\",\"low\",\"no\",1\\n\"40-49\",\"low\",\"no\",1\\n\"40-49\",\"low\",\"no\",1\\n\"40-49\",\"low\",\"no\",1\\n\"40-49\",\"low\",\"no\",1\\n\"40-49\",\"low\",\"no\",1\\n\"40-49\",\"low\",\"no\",1\\n\"40-49\",\"low\",\"no\",1\\n\"40-49\",\"low\",\"no\",1\\n\"40-49\",\"low\",\"no\",1\\n\"40-49\",\"low\",\"no\",1\\n\"40-49\",\"low\",\"no\",1\\n\"40-49\",\"low\",\"no\",1\\n\"40-49\",\"low\",\"no\",1\\n\"40-49\",\"low\",\"no\",1\\n\"40-49\",\"high\",\"yes\",1\\n\"40-49\",\"high\",\"yes\",1\\n\"40-49\",\"high\",\"yes\",1\\n\"40-49\",\"high\",\"yes\",1\\n\"40-49\",\"high\",\"yes\",1\\n\"40-49\",\"high\",\"yes\",1\\n\"40-49\",\"high\",\"yes\",1\\n\"40-49\",\"high\",\"yes\",1\\n\"40-49\",\"high\",\"no\",1\\n\"40-49\",\"high\",\"no\",1\\n\"40-49\",\"high\",\"no\",1\\n\"40-49\",\"high\",\"no\",1\\n\"40-49\",\"high\",\"no\",1\\n\"40-49\",\"high\",\"no\",1\\n\"40-49\",\"high\",\"no\",1\\n\"40-49\",\"high\",\"no\",1\\n\"40-49\",\"high\",\"no\",1\\n\"40-49\",\"high\",\"no\",1\\n\"40-49\",\"high\",\"no\",1\\n\"40-49\",\"high\",\"no\",1\\n\"40-49\",\"high\",\"no\",1\\n\"40-49\",\"high\",\"no\",1\\n\"40-49\",\"high\",\"no\",1\\n\"40-49\",\"high\",\"no\",1\\n\"40-49\",\"high\",\"no\",1\\n\"40-49\",\"high\",\"no\",1\\n\"40-49\",\"high\",\"no\",1\\n\"40-49\",\"high\",\"no\",1\\n\"40-49\",\"high\",\"no\",1\\n\"40-49\",\"high\",\"no\",1\\n\"40-49\",\"high\",\"no\",1\\n\"40-49\",\"high\",\"no\",1\\n\"40-49\",\"high\",\"no\",1\\n\"40-49\",\"high\",\"no\",1\\n\"40-49\",\"high\",\"no\",1\\n\"40-49\",\"high\",\"no\",1\\n\"40-49\",\"high\",\"no\",1\\n\"40-49\",\"high\",\"no\",1\\n\"40-49\",\"high\",\"no\",1\\n'}"
            ]
          },
          "metadata": {
            "tags": []
          },
          "execution_count": 18
        }
      ]
    },
    {
      "cell_type": "code",
      "metadata": {
        "colab": {
          "base_uri": "https://localhost:8080/"
        },
        "id": "1RhfkP7Kgezk",
        "outputId": "91a37335-70ee-4a7b-a595-45e1652c3878"
      },
      "source": [
        "cuse = spark.read.csv('./cuse_binary.csv', header=True, inferSchema=True)\n",
        "cuse.show(5)"
      ],
      "execution_count": null,
      "outputs": [
        {
          "output_type": "stream",
          "text": [
            "+---+---------+---------+---+\n",
            "|age|education|wantsMore|  y|\n",
            "+---+---------+---------+---+\n",
            "|<25|      low|      yes|  0|\n",
            "|<25|      low|      yes|  0|\n",
            "|<25|      low|      yes|  0|\n",
            "|<25|      low|      yes|  0|\n",
            "|<25|      low|      yes|  0|\n",
            "+---+---------+---------+---+\n",
            "only showing top 5 rows\n",
            "\n"
          ],
          "name": "stdout"
        }
      ]
    },
    {
      "cell_type": "code",
      "metadata": {
        "colab": {
          "base_uri": "https://localhost:8080/"
        },
        "id": "CYBQARF7ge2Z",
        "outputId": "0cf30793-b4f3-4f46-ce80-24ddd2cf3e06"
      },
      "source": [
        "cuse.columns[0:3]\n",
        "# cuse.select('age').distinct().show()\n",
        "cuse.select('age').rdd.countByValue()\n",
        "# cuse.select('education').rdd.countByValue()"
      ],
      "execution_count": null,
      "outputs": [
        {
          "output_type": "execute_result",
          "data": {
            "text/plain": [
              "defaultdict(int,\n",
              "            {Row(age='25-29'): 404,\n",
              "             Row(age='30-39'): 612,\n",
              "             Row(age='40-49'): 194,\n",
              "             Row(age='<25'): 397})"
            ]
          },
          "metadata": {
            "tags": []
          },
          "execution_count": 20
        }
      ]
    },
    {
      "cell_type": "code",
      "metadata": {
        "colab": {
          "base_uri": "https://localhost:8080/"
        },
        "id": "relu2PFBge5z",
        "outputId": "fdb5287e-0209-456d-c162-719d76dd7305"
      },
      "source": [
        "# string index each categorical string columns\n",
        "from pyspark.ml.feature import StringIndexer\n",
        "from pyspark.ml import Pipeline\n",
        "indexers = [StringIndexer(inputCol=column, outputCol=\"indexed_\"+column) for column in ('age', 'education', 'wantsMore')]\n",
        "pipeline = Pipeline(stages=indexers)\n",
        "indexed_cuse = pipeline.fit(cuse).transform(cuse)\n",
        "indexed_cuse.select('age', 'indexed_age').distinct().show(5)"
      ],
      "execution_count": null,
      "outputs": [
        {
          "output_type": "stream",
          "text": [
            "+-----+-----------+\n",
            "|  age|indexed_age|\n",
            "+-----+-----------+\n",
            "|30-39|        0.0|\n",
            "|  <25|        2.0|\n",
            "|25-29|        1.0|\n",
            "|40-49|        3.0|\n",
            "+-----+-----------+\n",
            "\n"
          ],
          "name": "stdout"
        }
      ]
    },
    {
      "cell_type": "code",
      "metadata": {
        "colab": {
          "base_uri": "https://localhost:8080/"
        },
        "id": "ohO4WZWRg8-N",
        "outputId": "70f12893-f6ec-44cf-a34e-f9c272fda4c9"
      },
      "source": [
        "# onehotencode each indexed categorical columns\n",
        "from pyspark.ml.feature import OneHotEncoder\n",
        "columns = indexed_cuse.columns[0:3]\n",
        "onehoteencoders = [OneHotEncoder(inputCol=\"indexed_\"+column, outputCol=\"onehotencode_\"+column) for column in columns]\n",
        "pipeline = Pipeline(stages=onehoteencoders)\n",
        "onehotencode_columns = ['onehotencode_age', 'onehotencode_education', 'onehotencode_wantsMore', 'y']\n",
        "onehotencode_cuse = pipeline.fit(indexed_cuse).transform(indexed_cuse).select(onehotencode_columns)\n",
        "onehotencode_cuse.distinct().show(5)"
      ],
      "execution_count": null,
      "outputs": [
        {
          "output_type": "stream",
          "text": [
            "+----------------+----------------------+----------------------+---+\n",
            "|onehotencode_age|onehotencode_education|onehotencode_wantsMore|  y|\n",
            "+----------------+----------------------+----------------------+---+\n",
            "|   (3,[1],[1.0])|             (1,[],[])|         (1,[0],[1.0])|  0|\n",
            "|   (3,[2],[1.0])|         (1,[0],[1.0])|             (1,[],[])|  1|\n",
            "|   (3,[0],[1.0])|         (1,[0],[1.0])|         (1,[0],[1.0])|  0|\n",
            "|       (3,[],[])|         (1,[0],[1.0])|         (1,[0],[1.0])|  1|\n",
            "|   (3,[2],[1.0])|             (1,[],[])|         (1,[0],[1.0])|  0|\n",
            "+----------------+----------------------+----------------------+---+\n",
            "only showing top 5 rows\n",
            "\n"
          ],
          "name": "stdout"
        }
      ]
    },
    {
      "cell_type": "code",
      "metadata": {
        "colab": {
          "base_uri": "https://localhost:8080/"
        },
        "id": "kjqDL8pOg_mU",
        "outputId": "0bdf3dac-171a-44de-dc7d-833d5f3e787c"
      },
      "source": [
        "# assemble all feature columns into on single vector column\n",
        "from pyspark.ml.feature import VectorAssembler\n",
        "assembler = VectorAssembler(inputCols=['onehotencode_age', 'onehotencode_education', 'onehotencode_wantsMore'], outputCol='features')\n",
        "cuse_df_2 = assembler.transform(onehotencode_cuse).withColumnRenamed('y', 'label')\n",
        "cuse_df_2.show(5)"
      ],
      "execution_count": null,
      "outputs": [
        {
          "output_type": "stream",
          "text": [
            "+----------------+----------------------+----------------------+-----+-------------------+\n",
            "|onehotencode_age|onehotencode_education|onehotencode_wantsMore|label|           features|\n",
            "+----------------+----------------------+----------------------+-----+-------------------+\n",
            "|   (3,[2],[1.0])|             (1,[],[])|         (1,[0],[1.0])|    0|(5,[2,4],[1.0,1.0])|\n",
            "|   (3,[2],[1.0])|             (1,[],[])|         (1,[0],[1.0])|    0|(5,[2,4],[1.0,1.0])|\n",
            "|   (3,[2],[1.0])|             (1,[],[])|         (1,[0],[1.0])|    0|(5,[2,4],[1.0,1.0])|\n",
            "|   (3,[2],[1.0])|             (1,[],[])|         (1,[0],[1.0])|    0|(5,[2,4],[1.0,1.0])|\n",
            "|   (3,[2],[1.0])|             (1,[],[])|         (1,[0],[1.0])|    0|(5,[2,4],[1.0,1.0])|\n",
            "+----------------+----------------------+----------------------+-----+-------------------+\n",
            "only showing top 5 rows\n",
            "\n"
          ],
          "name": "stdout"
        }
      ]
    },
    {
      "cell_type": "code",
      "metadata": {
        "colab": {
          "base_uri": "https://localhost:8080/"
        },
        "id": "AMuEWNjZhCus",
        "outputId": "eef4df67-fde4-4169-fa07-ec3a5a6a0a97"
      },
      "source": [
        "# split data into training and test datasets\n",
        "training, test = cuse_df_2.randomSplit([0.8, 0.2], seed=1234)\n",
        "training.show(5)"
      ],
      "execution_count": null,
      "outputs": [
        {
          "output_type": "stream",
          "text": [
            "+----------------+----------------------+----------------------+-----+---------+\n",
            "|onehotencode_age|onehotencode_education|onehotencode_wantsMore|label| features|\n",
            "+----------------+----------------------+----------------------+-----+---------+\n",
            "|       (3,[],[])|             (1,[],[])|             (1,[],[])|    0|(5,[],[])|\n",
            "|       (3,[],[])|             (1,[],[])|             (1,[],[])|    0|(5,[],[])|\n",
            "|       (3,[],[])|             (1,[],[])|             (1,[],[])|    0|(5,[],[])|\n",
            "|       (3,[],[])|             (1,[],[])|             (1,[],[])|    0|(5,[],[])|\n",
            "|       (3,[],[])|             (1,[],[])|             (1,[],[])|    0|(5,[],[])|\n",
            "+----------------+----------------------+----------------------+-----+---------+\n",
            "only showing top 5 rows\n",
            "\n"
          ],
          "name": "stdout"
        }
      ]
    },
    {
      "cell_type": "code",
      "metadata": {
        "id": "6q_IWGzXhE27"
      },
      "source": [
        "## ======= build cross validation model ===========\n",
        "\n",
        "# estimator\n",
        "from pyspark.ml.regression import GeneralizedLinearRegression\n",
        "glm = GeneralizedLinearRegression(featuresCol='features', labelCol='label', family='binomial')\n",
        "\n",
        "# parameter grid\n",
        "from pyspark.ml.tuning import ParamGridBuilder\n",
        "param_grid = ParamGridBuilder().\\\n",
        "    addGrid(glm.regParam, [0, 0.5, 1, 2, 4]).\\\n",
        "    build()\n",
        "    \n",
        "# evaluator\n",
        "from pyspark.ml.evaluation import BinaryClassificationEvaluator\n",
        "evaluator = BinaryClassificationEvaluator(rawPredictionCol='prediction')\n",
        "\n",
        "# build cross-validation model\n",
        "from pyspark.ml.tuning import CrossValidator\n",
        "cv = CrossValidator(estimator=glm, estimatorParamMaps=param_grid, evaluator=evaluator, numFolds=4)"
      ],
      "execution_count": null,
      "outputs": []
    },
    {
      "cell_type": "code",
      "metadata": {
        "id": "5ix5ugEvhJdF"
      },
      "source": [
        "# fit model\n",
        "# cv_model = cv.fit(training)\n",
        "cv_model = cv.fit(cuse_df_2)"
      ],
      "execution_count": null,
      "outputs": []
    },
    {
      "cell_type": "code",
      "metadata": {
        "colab": {
          "base_uri": "https://localhost:8080/"
        },
        "id": "A4wyjSK7hMll",
        "outputId": "0d7a099a-7018-45fc-9d39-9c0895396b1d"
      },
      "source": [
        "# prediction\n",
        "pred_training_cv = cv_model.transform(training)\n",
        "pred_test_cv = cv_model.transform(test)\n",
        "\n",
        "pred_training_cv.show(5)\n",
        "pred_test_cv.show(5, truncate=False)"
      ],
      "execution_count": null,
      "outputs": [
        {
          "output_type": "stream",
          "text": [
            "+----------------+----------------------+----------------------+-----+---------+------------------+\n",
            "|onehotencode_age|onehotencode_education|onehotencode_wantsMore|label| features|        prediction|\n",
            "+----------------+----------------------+----------------------+-----+---------+------------------+\n",
            "|       (3,[],[])|             (1,[],[])|             (1,[],[])|    0|(5,[],[])|0.5140024065151293|\n",
            "|       (3,[],[])|             (1,[],[])|             (1,[],[])|    0|(5,[],[])|0.5140024065151293|\n",
            "|       (3,[],[])|             (1,[],[])|             (1,[],[])|    0|(5,[],[])|0.5140024065151293|\n",
            "|       (3,[],[])|             (1,[],[])|             (1,[],[])|    0|(5,[],[])|0.5140024065151293|\n",
            "|       (3,[],[])|             (1,[],[])|             (1,[],[])|    0|(5,[],[])|0.5140024065151293|\n",
            "+----------------+----------------------+----------------------+-----+---------+------------------+\n",
            "only showing top 5 rows\n",
            "\n",
            "+----------------+----------------------+----------------------+-----+---------+------------------+\n",
            "|onehotencode_age|onehotencode_education|onehotencode_wantsMore|label|features |prediction        |\n",
            "+----------------+----------------------+----------------------+-----+---------+------------------+\n",
            "|(3,[],[])       |(1,[],[])             |(1,[],[])             |0    |(5,[],[])|0.5140024065151293|\n",
            "|(3,[],[])       |(1,[],[])             |(1,[],[])             |0    |(5,[],[])|0.5140024065151293|\n",
            "|(3,[],[])       |(1,[],[])             |(1,[],[])             |0    |(5,[],[])|0.5140024065151293|\n",
            "|(3,[],[])       |(1,[],[])             |(1,[],[])             |0    |(5,[],[])|0.5140024065151293|\n",
            "|(3,[],[])       |(1,[],[])             |(1,[],[])             |0    |(5,[],[])|0.5140024065151293|\n",
            "+----------------+----------------------+----------------------+-----+---------+------------------+\n",
            "only showing top 5 rows\n",
            "\n"
          ],
          "name": "stdout"
        }
      ]
    },
    {
      "cell_type": "code",
      "metadata": {
        "colab": {
          "base_uri": "https://localhost:8080/"
        },
        "id": "A6v6dHHXhP6i",
        "outputId": "3a95317b-93e0-44fc-e087-d7fc94a07d02"
      },
      "source": [
        "cv_model.bestModel.coefficients"
      ],
      "execution_count": null,
      "outputs": [
        {
          "output_type": "execute_result",
          "data": {
            "text/plain": [
              "DenseVector([-0.2806, -0.7999, -1.1892, 0.325, -0.833])"
            ]
          },
          "metadata": {
            "tags": []
          },
          "execution_count": 28
        }
      ]
    },
    {
      "cell_type": "code",
      "metadata": {
        "colab": {
          "base_uri": "https://localhost:8080/"
        },
        "id": "6v9AZUSRhP-7",
        "outputId": "5960f597-0d26-4b11-d573-22bfae39361c"
      },
      "source": [
        "cv_model.bestModel.intercept"
      ],
      "execution_count": null,
      "outputs": [
        {
          "output_type": "execute_result",
          "data": {
            "text/plain": [
              "0.056024275169240606"
            ]
          },
          "metadata": {
            "tags": []
          },
          "execution_count": 29
        }
      ]
    },
    {
      "cell_type": "code",
      "metadata": {
        "colab": {
          "base_uri": "https://localhost:8080/"
        },
        "id": "YdJGL9ZrhXm1",
        "outputId": "4c82fa31-2ada-4869-e3fc-3bafb7f33ce6"
      },
      "source": [
        "evaluator.evaluate(pred_training_cv)"
      ],
      "execution_count": null,
      "outputs": [
        {
          "output_type": "execute_result",
          "data": {
            "text/plain": [
              "0.6716478245974649"
            ]
          },
          "metadata": {
            "tags": []
          },
          "execution_count": 31
        }
      ]
    },
    {
      "cell_type": "code",
      "metadata": {
        "colab": {
          "base_uri": "https://localhost:8080/"
        },
        "id": "vPJ2YTkuhhEE",
        "outputId": "daad3b7b-865e-49bf-87f1-80dbcc8ee7e3"
      },
      "source": [
        "evaluator.evaluate(pred_test_cv)"
      ],
      "execution_count": null,
      "outputs": [
        {
          "output_type": "execute_result",
          "data": {
            "text/plain": [
              "0.6830864197530864"
            ]
          },
          "metadata": {
            "tags": []
          },
          "execution_count": 32
        }
      ]
    },
    {
      "cell_type": "code",
      "metadata": {
        "id": "7s2dyqB1hqkM"
      },
      "source": [],
      "execution_count": null,
      "outputs": []
    }
  ]
}